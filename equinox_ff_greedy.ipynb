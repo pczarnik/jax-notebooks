{
 "cells": [
  {
   "cell_type": "code",
   "execution_count": null,
   "metadata": {
    "colab": {
     "base_uri": "https://localhost:8080/"
    },
    "id": "_XAvDyoFkBRs",
    "outputId": "07d88b1a-2ae5-4cc3-93a0-f99f3e1f367a"
   },
   "outputs": [],
   "source": [
    "!pip install -q mnists equinox"
   ]
  },
  {
   "cell_type": "code",
   "execution_count": 1,
   "metadata": {
    "id": "1Um2-G6MkYwD",
    "tags": []
   },
   "outputs": [],
   "source": [
    "import jax\n",
    "import jax.numpy as jnp\n",
    "import matplotlib.pyplot as plt\n",
    "import equinox as eqx\n",
    "import optax\n",
    "from jaxtyping import Array, Float, Int, PyTree\n",
    "import jax.tree_util as jtu\n",
    "\n",
    "%matplotlib inline\n",
    "%config InlineBackend.figure_format = 'retina'"
   ]
  },
  {
   "cell_type": "code",
   "execution_count": 274,
   "metadata": {
    "id": "mwbJQVPdkpZw",
    "tags": []
   },
   "outputs": [],
   "source": [
    "import mnists\n",
    "import numpy as np\n",
    "from sklearn.model_selection import train_test_split\n",
    "\n",
    "dataset = mnists.MNIST()\n",
    "\n",
    "X_train = dataset.train_images().astype(np.float32)[:, None, :] / 255.0\n",
    "y_train = dataset.train_labels().astype(np.int32)\n",
    "\n",
    "X_train, X_valid, y_train, y_valid = train_test_split(\n",
    "    X_train, y_train, test_size=0.1, random_state=0,\n",
    ")\n",
    "\n",
    "X_test = dataset.test_images().astype(np.float32)[:, None, :] / 255.0\n",
    "y_test = dataset.test_labels().astype(np.int32)\n",
    "\n",
    "BATCH_SIZE = 512"
   ]
  },
  {
   "cell_type": "code",
   "execution_count": 275,
   "metadata": {
    "colab": {
     "base_uri": "https://localhost:8080/"
    },
    "id": "AEPfHzMckvcQ",
    "outputId": "b703edbe-c3d5-400f-e9c5-7982483355e6",
    "tags": []
   },
   "outputs": [
    {
     "data": {
      "text/plain": [
       "((512, 1, 28, 28), (512,), numpy.ndarray, 0)"
      ]
     },
     "execution_count": 275,
     "metadata": {},
     "output_type": "execute_result"
    }
   ],
   "source": [
    "def batch_data(*args, batch_size, enum=False, shorten=False):\n",
    "    assert shorten or all(len(x) == len(args[0]) for x in args)\n",
    "    n = min(len(x) for x in args)\n",
    "    for i in range(0, n, batch_size):\n",
    "        if enum:\n",
    "            yield (i, *(x[i:i+batch_size] for x in args))\n",
    "        else:\n",
    "            yield (x[i:i+batch_size] for x in args)\n",
    "\n",
    "_i, X_dummy, y_dummy = next(iter(batch_data(X_train, y_train, enum=True, batch_size=BATCH_SIZE)))\n",
    "X_dummy.shape, y_dummy.shape, type(X_dummy), _i"
   ]
  },
  {
   "cell_type": "code",
   "execution_count": 276,
   "metadata": {
    "colab": {
     "base_uri": "https://localhost:8080/",
     "height": 779
    },
    "id": "HUMx9tVLlVLa",
    "outputId": "20863ff7-80d1-4aa6-82aa-4d66c66889af",
    "tags": []
   },
   "outputs": [],
   "source": [
    "def tiles(examples, title=\"\"):\n",
    "    rows_count = examples.shape[0]\n",
    "    cols_count = examples.shape[1]\n",
    "    tile_height = examples.shape[2]\n",
    "    tile_width = examples.shape[3]\n",
    "\n",
    "    space_between_tiles = 2\n",
    "    img_matrix = np.empty(shape=(rows_count * (tile_height + space_between_tiles) - space_between_tiles,\n",
    "                                 cols_count * (tile_width + space_between_tiles) - space_between_tiles))\n",
    "    img_matrix.fill(np.nan)\n",
    "\n",
    "    for r in range(rows_count):\n",
    "        for c in range(cols_count):\n",
    "            x_0 = r * (tile_height + space_between_tiles)\n",
    "            y_0 = c * (tile_width + space_between_tiles)\n",
    "            img_matrix[x_0:x_0 + tile_height, y_0:y_0 + tile_width] = examples[r, c]\n",
    "\n",
    "    plt.matshow(img_matrix, cmap='gray', interpolation='none')\n",
    "    plt.axis('off')\n",
    "    plt.title(title)"
   ]
  },
  {
   "cell_type": "code",
   "execution_count": 277,
   "metadata": {
    "colab": {
     "base_uri": "https://localhost:8080/",
     "height": 797
    },
    "id": "RopZEKv7k3wJ",
    "outputId": "857ec512-53b3-4181-e00a-4dfb8219d919",
    "tags": []
   },
   "outputs": [
    {
     "name": "stdout",
     "output_type": "stream",
     "text": [
      "(54000, 1, 28, 28)\n"
     ]
    },
    {
     "data": {
      "image/png": "[encoded data removed]",
      "text/plain": [
       "<Figure size 480x480 with 1 Axes>"
      ]
     },
     "metadata": {
      "image/png": {
       "height": 437,
       "width": 392
      }
     },
     "output_type": "display_data"
    }
   ],
   "source": [
    "def jnp_encode_class_in_image(X, y, num_classes):\n",
    "    y = jnp.eye(num_classes)[y]\n",
    "    orig_shape = X.shape\n",
    "    X = X.reshape(X.shape[0], -1)\n",
    "    X = X.at[:, :num_classes].set(y)\n",
    "    X = X.reshape(orig_shape)\n",
    "    return X\n",
    "\n",
    "def np_encode_class_in_image(X, y, num_classes):\n",
    "    y = np.eye(num_classes)[y]\n",
    "    orig_shape = X.shape\n",
    "    X = X.copy()\n",
    "    X = X.reshape(X.shape[0], -1)\n",
    "    X[:, :num_classes] = y\n",
    "    X = X.reshape(orig_shape)\n",
    "    return X\n",
    "\n",
    "X_train_pos = np_encode_class_in_image(X_train, y_train, len(dataset.classes))\n",
    "\n",
    "print(X_train_pos.shape)\n",
    "tiles(X_train_pos[:16].reshape(4, 4, 28, 28), \"Positive data\")"
   ]
  },
  {
   "cell_type": "code",
   "execution_count": 278,
   "metadata": {
    "colab": {
     "base_uri": "https://localhost:8080/"
    },
    "id": "GmeMqkYwk4ro",
    "outputId": "207c2b33-e315-4a44-ce19-4149a192ce2b",
    "tags": []
   },
   "outputs": [
    {
     "name": "stdout",
     "output_type": "stream",
     "text": [
      "(54000, 1, 28, 28)\n"
     ]
    },
    {
     "data": {
      "image/png": "[encoded data removed]",
      "text/plain": [
       "<Figure size 480x480 with 1 Axes>"
      ]
     },
     "metadata": {
      "image/png": {
       "height": 437,
       "width": 392
      }
     },
     "output_type": "display_data"
    }
   ],
   "source": [
    "def derange(y, rng, max_iters):\n",
    "    best_permuted_y = y\n",
    "    best_n_deranged = 0\n",
    "    for _ in range(max_iters):\n",
    "        permuted_y = rng.permutation(y)\n",
    "        n_deranged = (permuted_y != y).sum()\n",
    "        if n_deranged > best_n_deranged:\n",
    "            best_permuted_y = permuted_y\n",
    "            best_n_deranged = n_deranged\n",
    "    return permuted_y\n",
    "\n",
    "y_train_concat = np.concatenate([y_train, y_train])\n",
    "y_train_neg = derange(y_train_concat, np.random.default_rng(0), 10)  # more iters are not worth it\n",
    "\n",
    "# remove positive labels and adjust size\n",
    "neg_idxs = y_train_neg != y_train_concat  \n",
    "X_train_neg = np.concatenate([X_train, X_train])[neg_idxs]\n",
    "X_train_neg = X_train_neg[:len(X_train)]\n",
    "y_train_neg = y_train_neg[neg_idxs]\n",
    "y_train_neg = y_train_neg[:len(y_train)]\n",
    "X_train_neg = np_encode_class_in_image(X_train_neg, y_train_neg, len(dataset.classes))\n",
    "del y_train_neg\n",
    "\n",
    "print(X_train_neg.shape)\n",
    "tiles(X_train_neg[:16].reshape(4, 4, 28, 28), \"Negative data\")"
   ]
  },
  {
   "cell_type": "code",
   "execution_count": 279,
   "metadata": {
    "tags": []
   },
   "outputs": [],
   "source": [
    "NORMALIZATION_OFFSET = 1e-4\n",
    "\n",
    "def normalize(x):\n",
    "    return x / (jnp.linalg.norm(x) + NORMALIZATION_OFFSET)"
   ]
  },
  {
   "cell_type": "code",
   "execution_count": 280,
   "metadata": {
    "colab": {
     "base_uri": "https://localhost:8080/"
    },
    "id": "EJql_sjpD3lz",
    "outputId": "b20dbe60-c083-4085-d5fa-33fbfc4c3ae2",
    "tags": []
   },
   "outputs": [
    {
     "name": "stdout",
     "output_type": "stream",
     "text": [
      "(10,)\n",
      "(512, 10)\n"
     ]
    }
   ],
   "source": [
    "from functools import partial\n",
    "\n",
    "class FFLayer(eqx.Module):\n",
    "    layers: list\n",
    "\n",
    "    def __init__(self, *layers):\n",
    "        self.layers = layers\n",
    "\n",
    "    def __call__(self, x):\n",
    "        for layer in self.layers:\n",
    "            x = layer(x)\n",
    "        return x\n",
    "\n",
    "class FFNetwork(eqx.Module):\n",
    "    layers: list\n",
    "\n",
    "    def __init__(self, key):\n",
    "        keys = jax.random.split(key, 5)\n",
    "        self.layers = [\n",
    "            FFLayer(\n",
    "                normalize,\n",
    "                jnp.ravel,\n",
    "                eqx.nn.Linear(784, 512, key=keys[2]),\n",
    "                jax.nn.relu,\n",
    "            ),\n",
    "            FFLayer(\n",
    "                normalize,\n",
    "                eqx.nn.Linear(512, 512, key=keys[3]),\n",
    "                jax.nn.relu,\n",
    "            ),\n",
    "            FFLayer(\n",
    "                normalize,\n",
    "                eqx.nn.Linear(512, 10, key=keys[3]),\n",
    "                jax.nn.relu,\n",
    "            ),\n",
    "        ]\n",
    "\n",
    "    def __call__(self, x: Float[Array, \"1 28 28\"]) -> Float[Array, \"500\"]:\n",
    "        for layer in self.layers:\n",
    "            x = layer(x)\n",
    "        return x\n",
    "\n",
    "model = FFNetwork(jax.random.PRNGKey(0))\n",
    "print(model(X_dummy[0]).shape)\n",
    "print(eqx.filter_vmap(model)(X_dummy).shape)"
   ]
  },
  {
   "cell_type": "code",
   "execution_count": 281,
   "metadata": {
    "tags": []
   },
   "outputs": [],
   "source": [
    "def goodness_fn(x: Float[Array, \"batch ...\"]) -> Float[Array, \"batch\"]:\n",
    "    return (x * x).reshape(x.shape[0], -1).mean(axis=-1)"
   ]
  },
  {
   "cell_type": "code",
   "execution_count": 282,
   "metadata": {
    "colab": {
     "base_uri": "https://localhost:8080/"
    },
    "id": "HMHyt34GNFHR",
    "outputId": "ad5579bc-2d39-4626-c52c-e1844e152a41",
    "tags": []
   },
   "outputs": [
    {
     "name": "stdout",
     "output_type": "stream",
     "text": [
      "0.12697868\n"
     ]
    },
    {
     "data": {
      "text/plain": [
       "Array(2.1265538, dtype=float32)"
      ]
     },
     "execution_count": 282,
     "metadata": {},
     "output_type": "execute_result"
    }
   ],
   "source": [
    "@eqx.filter_jit\n",
    "def loss_and_outputs(\n",
    "    layer: FFLayer,\n",
    "    x: Float[Array, \"batch ...\"],\n",
    "    sgn: float,\n",
    "    threshold: float,\n",
    ") -> tuple[Float[Array, \"\"], Float[Array, \"batch ...\"]]:\n",
    "    x = jax.vmap(layer)(x)\n",
    "    g = sgn * (goodness_fn(x) - threshold)\n",
    "    # g = jax.nn.sigmoid(g).mean()\n",
    "    g = jax.nn.softplus(g).mean()\n",
    "    return g, x\n",
    "\n",
    "print(loss_and_outputs(model.layers[0], X_dummy, sgn=1, threshold=2)[0])\n",
    "loss_and_outputs(model.layers[0], X_dummy, sgn=-1, threshold=2)[0]"
   ]
  },
  {
   "cell_type": "code",
   "execution_count": 283,
   "metadata": {
    "tags": []
   },
   "outputs": [
    {
     "name": "stdout",
     "output_type": "stream",
     "text": [
      "2.1265538 (512, 512)\n",
      "2.1262922 (512, 512)\n",
      "2.1252146 (512, 10)\n"
     ]
    }
   ],
   "source": [
    "x = X_dummy\n",
    "\n",
    "for layer in model.layers:\n",
    "    loss_val, x = loss_and_outputs(layer, x, sgn=-1, threshold=2)\n",
    "    print(loss_val, x.shape)"
   ]
  },
  {
   "cell_type": "code",
   "execution_count": 284,
   "metadata": {
    "colab": {
     "base_uri": "https://localhost:8080/"
    },
    "id": "WCcaITOc1AbB",
    "outputId": "d13b8294-49bb-4e1b-f206-c52e24bb1bd8",
    "tags": []
   },
   "outputs": [
    {
     "name": "stdout",
     "output_type": "stream",
     "text": [
      "[<class '__main__.FFLayer'>, <class 'jaxlib.xla_extension.ArrayImpl'>]\n",
      "[<class 'tuple'>, <class '__main__.FFLayer'>]\n"
     ]
    }
   ],
   "source": [
    "print(list(map(type, \n",
    "    eqx.filter_grad(loss_and_outputs, has_aux=True)(\n",
    "        model.layers[0], X_dummy, sgn=-1, threshold=5\n",
    "    )\n",
    ")))\n",
    "print(list(map(type,\n",
    "    eqx.filter_value_and_grad(loss_and_outputs, has_aux=True)(\n",
    "        model.layers[0], X_dummy, sgn=-1, threshold=2\n",
    "    )\n",
    ")))"
   ]
  },
  {
   "cell_type": "code",
   "execution_count": 285,
   "metadata": {
    "id": "p13pzSSIyS1H",
    "tags": []
   },
   "outputs": [],
   "source": [
    "NUM_CLASSES = 10"
   ]
  },
  {
   "cell_type": "code",
   "execution_count": 286,
   "metadata": {
    "colab": {
     "base_uri": "https://localhost:8080/"
    },
    "id": "2V4f2DMvfVt8",
    "outputId": "2dbc5b84-c55a-4103-fb85-eabe53ee4b1c",
    "tags": []
   },
   "outputs": [
    {
     "data": {
      "text/plain": [
       "(512, 10)"
      ]
     },
     "execution_count": 286,
     "metadata": {},
     "output_type": "execute_result"
    }
   ],
   "source": [
    "@eqx.filter_jit\n",
    "def predict(\n",
    "    model: FFNetwork,\n",
    "    x: Float[Array, \"batch 1 28 28\"],\n",
    "    upto_layer = None, \n",
    "    num_classes: int = NUM_CLASSES,\n",
    ") -> Float[Array, \"batch num_classes\"]:\n",
    "    preds = jnp.zeros((x.shape[0], num_classes))\n",
    "    layers = list(map(eqx.filter_vmap, model.layers))\n",
    "\n",
    "    for label in jnp.arange(num_classes):\n",
    "        t = jnp_encode_class_in_image(x, label, num_classes)\n",
    "        t = layers[0](t)\n",
    "\n",
    "        goodness = 0\n",
    "        for layer in layers[1:upto_layer]:\n",
    "            t = layer(t)\n",
    "            goodness += goodness_fn(t)\n",
    "        preds = preds.at[:, label].set(goodness)\n",
    "\n",
    "    return preds\n",
    "\n",
    "predict(model, X_dummy).shape"
   ]
  },
  {
   "cell_type": "code",
   "execution_count": 287,
   "metadata": {},
   "outputs": [
    {
     "data": {
      "text/plain": [
       "(6000, 10)"
      ]
     },
     "execution_count": 287,
     "metadata": {},
     "output_type": "execute_result"
    }
   ],
   "source": [
    "def batch_predict(model, X, batch_size, num_classes=NUM_CLASSES):\n",
    "    preds = jnp.zeros((X.shape[0], num_classes))\n",
    "\n",
    "    for i, x in batch_data(X, batch_size=batch_size, enum=True):\n",
    "        batch_preds = predict(model, x, num_classes)\n",
    "        preds = preds.at[i:i+batch_size].set(batch_preds)\n",
    "\n",
    "    return preds\n",
    "\n",
    "batch_predict(model, X_valid, BATCH_SIZE).shape"
   ]
  },
  {
   "cell_type": "code",
   "execution_count": 288,
   "metadata": {
    "colab": {
     "base_uri": "https://localhost:8080/"
    },
    "id": "trSTBI5wdNpG",
    "outputId": "88ed1ab7-e468-4ca8-bb62-f027d10edfe6",
    "tags": []
   },
   "outputs": [
    {
     "data": {
      "text/plain": [
       "Array(0.1015625, dtype=float32)"
      ]
     },
     "execution_count": 288,
     "metadata": {},
     "output_type": "execute_result"
    }
   ],
   "source": [
    "def compute_accuracy(model, x, y, upto_layer=None, num_classes=NUM_CLASSES):\n",
    "    preds = predict(model, x, upto_layer=upto_layer, num_classes=num_classes)\n",
    "    pred_y = jax.nn.softmax(preds, axis=-1).argmax(axis=-1)\n",
    "    return jnp.mean(y == pred_y)\n",
    "\n",
    "compute_accuracy(model, X_dummy, y_dummy)"
   ]
  },
  {
   "cell_type": "code",
   "execution_count": 289,
   "metadata": {
    "colab": {
     "base_uri": "https://localhost:8080/"
    },
    "id": "I_z2HA7XUwQQ",
    "outputId": "6860137c-d196-452b-906a-5b60e40993d7",
    "tags": []
   },
   "outputs": [
    {
     "data": {
      "text/plain": [
       "(Array(0.00273464, dtype=float32), Array(0.0756721, dtype=float32))"
      ]
     },
     "execution_count": 289,
     "metadata": {},
     "output_type": "execute_result"
    }
   ],
   "source": [
    "def evaluate(model, X_test, y_test, batch_size, upto_layer=None, num_classes=NUM_CLASSES):\n",
    "    avg_accuracy = 0\n",
    "    avg_goodness = 0\n",
    "    n_batches = (len(X_test) + batch_size - 1) // batch_size\n",
    "\n",
    "    for x, y in batch_data(X_test, y_test, batch_size=batch_size):\n",
    "        preds = predict(model, x, upto_layer, num_classes)\n",
    "        pred_y = jax.nn.softmax(preds, axis=-1).argmax(axis=-1)\n",
    "        goodness = preds[jnp.arange(preds.shape[0]), pred_y]\n",
    "        avg_goodness += goodness.mean()\n",
    "        avg_accuracy += jnp.mean(y == pred_y)\n",
    "\n",
    "    avg_goodness /= n_batches\n",
    "    avg_accuracy /= n_batches\n",
    "    return avg_goodness, avg_accuracy\n",
    "\n",
    "evaluate(model, X_test, y_test, batch_size=BATCH_SIZE)"
   ]
  },
  {
   "cell_type": "code",
   "execution_count": 290,
   "metadata": {
    "id": "eqRdq64qZwfB",
    "tags": []
   },
   "outputs": [],
   "source": [
    "from copy import deepcopy\n",
    "\n",
    "def train(\n",
    "    model: FFNetwork,\n",
    "    optims: list[optax.GradientTransformation],\n",
    "    opt_states,\n",
    "    *,\n",
    "    threshold: float,\n",
    "    batch_size: int,\n",
    "    epochs: int,\n",
    "    print_every: int, \n",
    "    metrics,\n",
    "):\n",
    "    n_batches = (len(X_train) + batch_size - 1) // batch_size\n",
    "    metrics = deepcopy(metrics)\n",
    "\n",
    "    @eqx.filter_jit\n",
    "    def make_substep(layer, opt_state, optim, x, sgn):\n",
    "        grads, x = eqx.filter_grad(loss_and_outputs, has_aux=True)(\n",
    "            layer, x, sgn=sgn, threshold=threshold\n",
    "        )\n",
    "        updates, opt_state = optim.update(grads, opt_state, layer)\n",
    "        layer = eqx.apply_updates(layer, updates)\n",
    "\n",
    "        return layer, opt_state, x\n",
    "\n",
    "    def make_step(model, opt_states, x_pos, x_neg):\n",
    "        pos_goodness = neg_goodness = 0\n",
    "        \n",
    "        for i, (layer, opt_state, optim) in enumerate(zip(model.layers, opt_states, optims)):\n",
    "            layer, opt_state, x_pos = make_substep(layer, opt_state, optim, x_pos, sgn=-1.)\n",
    "            layer, opt_state, x_neg = make_substep(layer, opt_state, optim, x_neg, sgn=1.)\n",
    "\n",
    "            model = eqx.tree_at(lambda m: m.layers[i], model, layer)\n",
    "            opt_states = eqx.tree_at(lambda o: o[i], opt_states, opt_state)\n",
    "\n",
    "            pos_goodness += goodness_fn(x_pos).mean()\n",
    "            neg_goodness += goodness_fn(x_neg).mean()\n",
    "\n",
    "        return model, opt_states, pos_goodness, neg_goodness\n",
    "\n",
    "\n",
    "    try:\n",
    "        for epoch in range(epochs):\n",
    "            avg_pos_goodness = avg_neg_goodness = 0\n",
    "\n",
    "            for x_pos, x_neg in batch_data(\n",
    "                X_train_pos, X_train_neg, \n",
    "                shorten=True, batch_size=batch_size\n",
    "            ):\n",
    "                model, opt_states, pos_goodness, neg_goodness = make_step(\n",
    "                    model, opt_states, x_pos, x_neg\n",
    "                )\n",
    "\n",
    "                avg_pos_goodness += pos_goodness\n",
    "                avg_neg_goodness += neg_goodness\n",
    "\n",
    "            avg_pos_goodness = avg_pos_goodness.item() / n_batches\n",
    "            avg_neg_goodness = avg_neg_goodness.item() / n_batches\n",
    "            metrics[\"pos_goodness\"].append(avg_pos_goodness)\n",
    "            metrics[\"neg_goodness\"].append(avg_neg_goodness)\n",
    "\n",
    "            if (epoch + 1) % print_every == 0:\n",
    "                valid_goodness, valid_accuracy = evaluate(model, X_valid, y_valid, batch_size)\n",
    "                metrics[\"valid_goodness\"].append(valid_goodness.item())\n",
    "                metrics[\"valid_accuracy\"].append(valid_accuracy.item())\n",
    "                print(\n",
    "                    f\"[{epoch + 1:3d}] train_pos_goodness={avg_pos_goodness:10.3f} \"\n",
    "                    f\"train_neg_goodness={avg_neg_goodness:10.3f} \"\n",
    "                    f\"valid_goodness={valid_goodness:10.3f} \"\n",
    "                    f\"valid_accuracy={valid_accuracy:8.5f} \"\n",
    "                )\n",
    "    except KeyboardInterrupt:\n",
    "        pass\n",
    "\n",
    "    return model, opt_states, metrics"
   ]
  },
  {
   "cell_type": "code",
   "execution_count": 291,
   "metadata": {},
   "outputs": [],
   "source": [
    "def train_greedy(\n",
    "    model: FFNetwork,\n",
    "    optims: list[optax.GradientTransformation],\n",
    "    opt_states,\n",
    "    *,\n",
    "    threshold: float,\n",
    "    batch_size: int,\n",
    "    epochs: int,\n",
    "    print_every: int, \n",
    "    metrics,\n",
    "):\n",
    "    n_batches = (len(X_train) + batch_size - 1) // batch_size\n",
    "    metrics = deepcopy(metrics)\n",
    "\n",
    "    @eqx.filter_jit\n",
    "    def make_step(layer, opt_state, optim, x, sgn):\n",
    "        grads, x = eqx.filter_grad(loss_and_outputs, has_aux=True)(\n",
    "            layer, x, sgn=sgn, threshold=threshold\n",
    "        )\n",
    "        updates, opt_state = optim.update(grads, opt_state, layer)\n",
    "        layer = eqx.apply_updates(layer, updates)\n",
    "\n",
    "        return layer, opt_state, x\n",
    "\n",
    "    @eqx.filter_jit\n",
    "    def forward_prev_layers(model, upto_layer, x):\n",
    "        for layer in model.layers[:upto_layer]:\n",
    "            x = eqx.filter_vmap(layer)(x)\n",
    "        return x\n",
    "    \n",
    "    try:\n",
    "        for i, (layer, opt_state, optim) in enumerate(zip(model.layers, opt_states, optims)):\n",
    "            for epoch in range(epochs):\n",
    "                pos_goodness = neg_goodness = 0\n",
    "\n",
    "                for x_pos, x_neg in batch_data(\n",
    "                    X_train_pos, X_train_neg, \n",
    "                    shorten=True, batch_size=batch_size\n",
    "                ):\n",
    "                    # for prev_layer in model.layers[:i]:\n",
    "                    x_pos = forward_prev_layers(model, i, x_pos)\n",
    "                    x_neg = forward_prev_layers(model, i, x_neg)\n",
    "\n",
    "                    layer, opt_state, x_pos = make_step(layer, opt_state, optim, x_pos, sgn=-1.)\n",
    "                    layer, opt_state, x_neg = make_step(layer, opt_state, optim, x_neg, sgn=1.)\n",
    "\n",
    "                    model = eqx.tree_at(lambda m: m.layers[i], model, layer)\n",
    "                    opt_states = eqx.tree_at(lambda o: o[i], opt_states, opt_state)\n",
    "                        \n",
    "                    pos_goodness += goodness_fn(x_pos).mean()\n",
    "                    neg_goodness += goodness_fn(x_neg).mean()\n",
    "\n",
    "                avg_pos_goodness = pos_goodness.item() / n_batches\n",
    "                avg_neg_goodness = neg_goodness.item() / n_batches\n",
    "\n",
    "                if (epoch + 1) % print_every == 0:\n",
    "                    # valid_goodness, valid_accuracy = evaluate(model, X_valid, y_valid, i+1, batch_size)\n",
    "                    print(\n",
    "                        f\"[Layer: {i}] [{epoch + 1:3d}] train_pos_goodness={avg_pos_goodness:10.3f} \"\n",
    "                        f\"train_neg_goodness={avg_neg_goodness:10.3f} \"\n",
    "                        # f\"valid_goodness={valid_goodness:10.3f} \"\n",
    "                        # f\"valid_accuracy={valid_accuracy:8.5f} \"\n",
    "                    )\n",
    "\n",
    "    except KeyboardInterrupt:\n",
    "        pass\n",
    "\n",
    "    return model, opt_states, metrics"
   ]
  },
  {
   "cell_type": "code",
   "execution_count": 294,
   "metadata": {
    "tags": []
   },
   "outputs": [],
   "source": [
    "THRESHOLD = 3.\n",
    "BATCH_SIZE = 512\n",
    "LEARNING_RATE = 0.03\n",
    "EPOCHS = 100\n",
    "PRINT_EVERY = 1"
   ]
  },
  {
   "cell_type": "code",
   "execution_count": 295,
   "metadata": {
    "colab": {
     "base_uri": "https://localhost:8080/",
     "height": 355
    },
    "id": "5uZe_WQnDPds",
    "outputId": "08221f30-d4c7-4ea2-e287-80a10e031d19",
    "tags": []
   },
   "outputs": [
    {
     "name": "stdout",
     "output_type": "stream",
     "text": [
      "[Layer: 0] [  1] train_pos_goodness=     2.779 train_neg_goodness=     2.840 \n",
      "[Layer: 0] [  2] train_pos_goodness=     2.947 train_neg_goodness=     2.921 \n",
      "[Layer: 0] [  3] train_pos_goodness=     3.035 train_neg_goodness=     2.882 \n",
      "[Layer: 0] [  4] train_pos_goodness=     3.157 train_neg_goodness=     2.808 \n",
      "[Layer: 0] [  5] train_pos_goodness=     3.296 train_neg_goodness=     2.716 \n",
      "[Layer: 0] [  6] train_pos_goodness=     3.426 train_neg_goodness=     2.630 \n",
      "[Layer: 0] [  7] train_pos_goodness=     3.544 train_neg_goodness=     2.548 \n",
      "[Layer: 0] [  8] train_pos_goodness=     3.657 train_neg_goodness=     2.467 \n",
      "[Layer: 0] [  9] train_pos_goodness=     3.764 train_neg_goodness=     2.389 \n",
      "[Layer: 0] [ 10] train_pos_goodness=     3.867 train_neg_goodness=     2.316 \n",
      "[Layer: 0] [ 11] train_pos_goodness=     3.964 train_neg_goodness=     2.246 \n",
      "[Layer: 0] [ 12] train_pos_goodness=     4.055 train_neg_goodness=     2.180 \n",
      "[Layer: 0] [ 13] train_pos_goodness=     4.142 train_neg_goodness=     2.118 \n",
      "[Layer: 0] [ 14] train_pos_goodness=     4.225 train_neg_goodness=     2.060 \n",
      "[Layer: 0] [ 15] train_pos_goodness=     4.305 train_neg_goodness=     2.005 \n",
      "[Layer: 0] [ 16] train_pos_goodness=     4.381 train_neg_goodness=     1.954 \n",
      "[Layer: 0] [ 17] train_pos_goodness=     4.456 train_neg_goodness=     1.906 \n",
      "[Layer: 0] [ 18] train_pos_goodness=     4.529 train_neg_goodness=     1.860 \n",
      "[Layer: 0] [ 19] train_pos_goodness=     4.600 train_neg_goodness=     1.817 \n",
      "[Layer: 0] [ 20] train_pos_goodness=     4.671 train_neg_goodness=     1.775 \n",
      "[Layer: 0] [ 21] train_pos_goodness=     4.741 train_neg_goodness=     1.736 \n",
      "[Layer: 0] [ 22] train_pos_goodness=     4.810 train_neg_goodness=     1.698 \n",
      "[Layer: 0] [ 23] train_pos_goodness=     4.879 train_neg_goodness=     1.662 \n",
      "[Layer: 0] [ 24] train_pos_goodness=     4.947 train_neg_goodness=     1.627 \n",
      "[Layer: 0] [ 25] train_pos_goodness=     5.015 train_neg_goodness=     1.594 \n",
      "[Layer: 0] [ 26] train_pos_goodness=     5.082 train_neg_goodness=     1.562 \n",
      "[Layer: 0] [ 27] train_pos_goodness=     5.149 train_neg_goodness=     1.531 \n",
      "[Layer: 0] [ 28] train_pos_goodness=     5.216 train_neg_goodness=     1.501 \n",
      "[Layer: 0] [ 29] train_pos_goodness=     5.283 train_neg_goodness=     1.471 \n",
      "[Layer: 0] [ 30] train_pos_goodness=     5.350 train_neg_goodness=     1.443 \n",
      "[Layer: 0] [ 31] train_pos_goodness=     5.416 train_neg_goodness=     1.415 \n",
      "[Layer: 0] [ 32] train_pos_goodness=     5.482 train_neg_goodness=     1.388 \n",
      "[Layer: 0] [ 33] train_pos_goodness=     5.547 train_neg_goodness=     1.361 \n",
      "[Layer: 0] [ 34] train_pos_goodness=     5.613 train_neg_goodness=     1.335 \n",
      "[Layer: 0] [ 35] train_pos_goodness=     5.678 train_neg_goodness=     1.309 \n",
      "[Layer: 0] [ 36] train_pos_goodness=     5.743 train_neg_goodness=     1.284 \n",
      "[Layer: 0] [ 37] train_pos_goodness=     5.808 train_neg_goodness=     1.260 \n",
      "[Layer: 0] [ 38] train_pos_goodness=     5.872 train_neg_goodness=     1.235 \n",
      "[Layer: 0] [ 39] train_pos_goodness=     5.937 train_neg_goodness=     1.211 \n",
      "[Layer: 0] [ 40] train_pos_goodness=     6.002 train_neg_goodness=     1.187 \n",
      "[Layer: 0] [ 41] train_pos_goodness=     6.066 train_neg_goodness=     1.164 \n",
      "[Layer: 0] [ 42] train_pos_goodness=     6.131 train_neg_goodness=     1.141 \n",
      "[Layer: 0] [ 43] train_pos_goodness=     6.195 train_neg_goodness=     1.118 \n",
      "[Layer: 0] [ 44] train_pos_goodness=     6.260 train_neg_goodness=     1.095 \n",
      "[Layer: 0] [ 45] train_pos_goodness=     6.325 train_neg_goodness=     1.073 \n",
      "[Layer: 0] [ 46] train_pos_goodness=     6.391 train_neg_goodness=     1.051 \n",
      "[Layer: 0] [ 47] train_pos_goodness=     6.457 train_neg_goodness=     1.029 \n",
      "[Layer: 0] [ 48] train_pos_goodness=     6.523 train_neg_goodness=     1.008 \n",
      "[Layer: 0] [ 49] train_pos_goodness=     6.590 train_neg_goodness=     0.987 \n",
      "[Layer: 0] [ 50] train_pos_goodness=     6.657 train_neg_goodness=     0.966 \n",
      "[Layer: 0] [ 51] train_pos_goodness=     6.724 train_neg_goodness=     0.946 \n",
      "[Layer: 0] [ 52] train_pos_goodness=     6.792 train_neg_goodness=     0.926 \n",
      "[Layer: 0] [ 53] train_pos_goodness=     6.860 train_neg_goodness=     0.906 \n",
      "[Layer: 0] [ 54] train_pos_goodness=     6.928 train_neg_goodness=     0.887 \n",
      "[Layer: 0] [ 55] train_pos_goodness=     6.997 train_neg_goodness=     0.868 \n",
      "[Layer: 0] [ 56] train_pos_goodness=     7.065 train_neg_goodness=     0.850 \n",
      "[Layer: 0] [ 57] train_pos_goodness=     7.133 train_neg_goodness=     0.832 \n",
      "[Layer: 0] [ 58] train_pos_goodness=     7.202 train_neg_goodness=     0.815 \n",
      "[Layer: 0] [ 59] train_pos_goodness=     7.270 train_neg_goodness=     0.797 \n",
      "[Layer: 0] [ 60] train_pos_goodness=     7.339 train_neg_goodness=     0.780 \n",
      "[Layer: 0] [ 61] train_pos_goodness=     7.407 train_neg_goodness=     0.764 \n",
      "[Layer: 0] [ 62] train_pos_goodness=     7.475 train_neg_goodness=     0.748 \n",
      "[Layer: 0] [ 63] train_pos_goodness=     7.543 train_neg_goodness=     0.732 \n",
      "[Layer: 0] [ 64] train_pos_goodness=     7.611 train_neg_goodness=     0.716 \n",
      "[Layer: 0] [ 65] train_pos_goodness=     7.680 train_neg_goodness=     0.701 \n",
      "[Layer: 0] [ 66] train_pos_goodness=     7.748 train_neg_goodness=     0.686 \n",
      "[Layer: 0] [ 67] train_pos_goodness=     7.816 train_neg_goodness=     0.672 \n",
      "[Layer: 0] [ 68] train_pos_goodness=     7.884 train_neg_goodness=     0.658 \n",
      "[Layer: 0] [ 69] train_pos_goodness=     7.951 train_neg_goodness=     0.644 \n",
      "[Layer: 0] [ 70] train_pos_goodness=     8.019 train_neg_goodness=     0.631 \n",
      "[Layer: 0] [ 71] train_pos_goodness=     8.086 train_neg_goodness=     0.618 \n",
      "[Layer: 0] [ 72] train_pos_goodness=     8.154 train_neg_goodness=     0.605 \n",
      "[Layer: 0] [ 73] train_pos_goodness=     8.221 train_neg_goodness=     0.593 \n",
      "[Layer: 0] [ 74] train_pos_goodness=     8.288 train_neg_goodness=     0.581 \n",
      "[Layer: 0] [ 75] train_pos_goodness=     8.354 train_neg_goodness=     0.569 \n",
      "[Layer: 0] [ 76] train_pos_goodness=     8.421 train_neg_goodness=     0.558 \n",
      "[Layer: 0] [ 77] train_pos_goodness=     8.487 train_neg_goodness=     0.547 \n",
      "[Layer: 0] [ 78] train_pos_goodness=     8.553 train_neg_goodness=     0.537 \n",
      "[Layer: 0] [ 79] train_pos_goodness=     8.619 train_neg_goodness=     0.526 \n",
      "[Layer: 0] [ 80] train_pos_goodness=     8.684 train_neg_goodness=     0.516 \n",
      "[Layer: 0] [ 81] train_pos_goodness=     8.749 train_neg_goodness=     0.507 \n",
      "[Layer: 0] [ 82] train_pos_goodness=     8.814 train_neg_goodness=     0.497 \n",
      "[Layer: 0] [ 83] train_pos_goodness=     8.878 train_neg_goodness=     0.488 \n",
      "[Layer: 0] [ 84] train_pos_goodness=     8.942 train_neg_goodness=     0.479 \n",
      "[Layer: 0] [ 85] train_pos_goodness=     9.005 train_neg_goodness=     0.471 \n",
      "[Layer: 0] [ 86] train_pos_goodness=     9.068 train_neg_goodness=     0.462 \n",
      "[Layer: 0] [ 87] train_pos_goodness=     9.131 train_neg_goodness=     0.454 \n",
      "[Layer: 0] [ 88] train_pos_goodness=     9.194 train_neg_goodness=     0.446 \n",
      "[Layer: 0] [ 89] train_pos_goodness=     9.256 train_neg_goodness=     0.438 \n",
      "[Layer: 0] [ 90] train_pos_goodness=     9.317 train_neg_goodness=     0.431 \n",
      "[Layer: 0] [ 91] train_pos_goodness=     9.379 train_neg_goodness=     0.424 \n",
      "[Layer: 0] [ 92] train_pos_goodness=     9.440 train_neg_goodness=     0.416 \n",
      "[Layer: 0] [ 93] train_pos_goodness=     9.500 train_neg_goodness=     0.409 \n",
      "[Layer: 0] [ 94] train_pos_goodness=     9.560 train_neg_goodness=     0.403 \n",
      "[Layer: 0] [ 95] train_pos_goodness=     9.620 train_neg_goodness=     0.396 \n",
      "[Layer: 0] [ 96] train_pos_goodness=     9.679 train_neg_goodness=     0.390 \n",
      "[Layer: 0] [ 97] train_pos_goodness=     9.738 train_neg_goodness=     0.383 \n",
      "[Layer: 0] [ 98] train_pos_goodness=     9.797 train_neg_goodness=     0.377 \n",
      "[Layer: 0] [ 99] train_pos_goodness=     9.855 train_neg_goodness=     0.371 \n",
      "[Layer: 0] [100] train_pos_goodness=     9.912 train_neg_goodness=     0.366 \n",
      "[Layer: 1] [  1] train_pos_goodness=     4.757 train_neg_goodness=     1.458 \n",
      "[Layer: 1] [  2] train_pos_goodness=     5.448 train_neg_goodness=     1.237 \n",
      "[Layer: 1] [  3] train_pos_goodness=     5.706 train_neg_goodness=     1.092 \n",
      "[Layer: 1] [  4] train_pos_goodness=     5.884 train_neg_goodness=     1.009 \n",
      "[Layer: 1] [  5] train_pos_goodness=     6.017 train_neg_goodness=     0.952 \n",
      "[Layer: 1] [  6] train_pos_goodness=     6.124 train_neg_goodness=     0.908 \n",
      "[Layer: 1] [  7] train_pos_goodness=     6.215 train_neg_goodness=     0.872 \n",
      "[Layer: 1] [  8] train_pos_goodness=     6.296 train_neg_goodness=     0.842 \n",
      "[Layer: 1] [  9] train_pos_goodness=     6.368 train_neg_goodness=     0.817 \n",
      "[Layer: 1] [ 10] train_pos_goodness=     6.433 train_neg_goodness=     0.795 \n",
      "[Layer: 1] [ 11] train_pos_goodness=     6.493 train_neg_goodness=     0.775 \n",
      "[Layer: 1] [ 12] train_pos_goodness=     6.548 train_neg_goodness=     0.758 \n",
      "[Layer: 1] [ 13] train_pos_goodness=     6.600 train_neg_goodness=     0.742 \n",
      "[Layer: 1] [ 14] train_pos_goodness=     6.649 train_neg_goodness=     0.728 \n",
      "[Layer: 1] [ 15] train_pos_goodness=     6.695 train_neg_goodness=     0.715 \n",
      "[Layer: 1] [ 16] train_pos_goodness=     6.738 train_neg_goodness=     0.703 \n",
      "[Layer: 1] [ 17] train_pos_goodness=     6.779 train_neg_goodness=     0.691 \n",
      "[Layer: 1] [ 18] train_pos_goodness=     6.817 train_neg_goodness=     0.681 \n",
      "[Layer: 1] [ 19] train_pos_goodness=     6.854 train_neg_goodness=     0.671 \n",
      "[Layer: 1] [ 20] train_pos_goodness=     6.888 train_neg_goodness=     0.661 \n",
      "[Layer: 1] [ 21] train_pos_goodness=     6.921 train_neg_goodness=     0.653 \n",
      "[Layer: 1] [ 22] train_pos_goodness=     6.952 train_neg_goodness=     0.644 \n",
      "[Layer: 1] [ 23] train_pos_goodness=     6.981 train_neg_goodness=     0.636 \n",
      "[Layer: 1] [ 24] train_pos_goodness=     7.010 train_neg_goodness=     0.629 \n",
      "[Layer: 1] [ 25] train_pos_goodness=     7.038 train_neg_goodness=     0.621 \n",
      "[Layer: 1] [ 26] train_pos_goodness=     7.065 train_neg_goodness=     0.614 \n",
      "[Layer: 1] [ 27] train_pos_goodness=     7.091 train_neg_goodness=     0.608 \n",
      "[Layer: 1] [ 28] train_pos_goodness=     7.117 train_neg_goodness=     0.602 \n",
      "[Layer: 1] [ 29] train_pos_goodness=     7.142 train_neg_goodness=     0.596 \n",
      "[Layer: 1] [ 30] train_pos_goodness=     7.167 train_neg_goodness=     0.590 \n",
      "[Layer: 1] [ 31] train_pos_goodness=     7.191 train_neg_goodness=     0.584 \n",
      "[Layer: 1] [ 32] train_pos_goodness=     7.214 train_neg_goodness=     0.579 \n",
      "[Layer: 1] [ 33] train_pos_goodness=     7.237 train_neg_goodness=     0.574 \n",
      "[Layer: 1] [ 34] train_pos_goodness=     7.260 train_neg_goodness=     0.569 \n",
      "[Layer: 1] [ 35] train_pos_goodness=     7.282 train_neg_goodness=     0.564 \n",
      "[Layer: 1] [ 36] train_pos_goodness=     7.304 train_neg_goodness=     0.560 \n",
      "[Layer: 1] [ 37] train_pos_goodness=     7.326 train_neg_goodness=     0.555 \n",
      "[Layer: 1] [ 38] train_pos_goodness=     7.347 train_neg_goodness=     0.551 \n",
      "[Layer: 1] [ 39] train_pos_goodness=     7.368 train_neg_goodness=     0.547 \n",
      "[Layer: 1] [ 40] train_pos_goodness=     7.389 train_neg_goodness=     0.543 \n",
      "[Layer: 1] [ 41] train_pos_goodness=     7.409 train_neg_goodness=     0.539 \n",
      "[Layer: 1] [ 42] train_pos_goodness=     7.430 train_neg_goodness=     0.536 \n",
      "[Layer: 1] [ 43] train_pos_goodness=     7.450 train_neg_goodness=     0.532 \n",
      "[Layer: 1] [ 44] train_pos_goodness=     7.470 train_neg_goodness=     0.529 \n",
      "[Layer: 1] [ 45] train_pos_goodness=     7.489 train_neg_goodness=     0.525 \n",
      "[Layer: 1] [ 46] train_pos_goodness=     7.509 train_neg_goodness=     0.522 \n",
      "[Layer: 1] [ 47] train_pos_goodness=     7.528 train_neg_goodness=     0.519 \n",
      "[Layer: 1] [ 48] train_pos_goodness=     7.546 train_neg_goodness=     0.516 \n",
      "[Layer: 1] [ 49] train_pos_goodness=     7.565 train_neg_goodness=     0.513 \n",
      "[Layer: 1] [ 50] train_pos_goodness=     7.583 train_neg_goodness=     0.510 \n",
      "[Layer: 1] [ 51] train_pos_goodness=     7.601 train_neg_goodness=     0.507 \n",
      "[Layer: 1] [ 52] train_pos_goodness=     7.618 train_neg_goodness=     0.504 \n",
      "[Layer: 1] [ 53] train_pos_goodness=     7.636 train_neg_goodness=     0.502 \n",
      "[Layer: 1] [ 54] train_pos_goodness=     7.653 train_neg_goodness=     0.499 \n",
      "[Layer: 1] [ 55] train_pos_goodness=     7.670 train_neg_goodness=     0.496 \n",
      "[Layer: 1] [ 56] train_pos_goodness=     7.687 train_neg_goodness=     0.494 \n",
      "[Layer: 1] [ 57] train_pos_goodness=     7.703 train_neg_goodness=     0.491 \n",
      "[Layer: 1] [ 58] train_pos_goodness=     7.720 train_neg_goodness=     0.489 \n",
      "[Layer: 1] [ 59] train_pos_goodness=     7.736 train_neg_goodness=     0.487 \n",
      "[Layer: 1] [ 60] train_pos_goodness=     7.752 train_neg_goodness=     0.484 \n",
      "[Layer: 1] [ 61] train_pos_goodness=     7.768 train_neg_goodness=     0.482 \n",
      "[Layer: 1] [ 62] train_pos_goodness=     7.783 train_neg_goodness=     0.480 \n",
      "[Layer: 1] [ 63] train_pos_goodness=     7.799 train_neg_goodness=     0.478 \n",
      "[Layer: 1] [ 64] train_pos_goodness=     7.814 train_neg_goodness=     0.476 \n",
      "[Layer: 1] [ 65] train_pos_goodness=     7.830 train_neg_goodness=     0.474 \n",
      "[Layer: 1] [ 66] train_pos_goodness=     7.845 train_neg_goodness=     0.472 \n",
      "[Layer: 1] [ 67] train_pos_goodness=     7.860 train_neg_goodness=     0.470 \n",
      "[Layer: 1] [ 68] train_pos_goodness=     7.875 train_neg_goodness=     0.468 \n",
      "[Layer: 1] [ 69] train_pos_goodness=     7.890 train_neg_goodness=     0.466 \n",
      "[Layer: 1] [ 70] train_pos_goodness=     7.904 train_neg_goodness=     0.464 \n",
      "[Layer: 1] [ 71] train_pos_goodness=     7.919 train_neg_goodness=     0.462 \n",
      "[Layer: 1] [ 72] train_pos_goodness=     7.933 train_neg_goodness=     0.460 \n",
      "[Layer: 1] [ 73] train_pos_goodness=     7.947 train_neg_goodness=     0.458 \n",
      "[Layer: 1] [ 74] train_pos_goodness=     7.961 train_neg_goodness=     0.456 \n",
      "[Layer: 1] [ 75] train_pos_goodness=     7.975 train_neg_goodness=     0.454 \n",
      "[Layer: 1] [ 76] train_pos_goodness=     7.989 train_neg_goodness=     0.453 \n",
      "[Layer: 1] [ 77] train_pos_goodness=     8.003 train_neg_goodness=     0.451 \n",
      "[Layer: 1] [ 78] train_pos_goodness=     8.016 train_neg_goodness=     0.449 \n",
      "[Layer: 1] [ 79] train_pos_goodness=     8.030 train_neg_goodness=     0.448 \n",
      "[Layer: 1] [ 80] train_pos_goodness=     8.043 train_neg_goodness=     0.446 \n",
      "[Layer: 1] [ 81] train_pos_goodness=     8.056 train_neg_goodness=     0.444 \n",
      "[Layer: 1] [ 82] train_pos_goodness=     8.069 train_neg_goodness=     0.443 \n",
      "[Layer: 1] [ 83] train_pos_goodness=     8.082 train_neg_goodness=     0.441 \n",
      "[Layer: 1] [ 84] train_pos_goodness=     8.095 train_neg_goodness=     0.440 \n",
      "[Layer: 1] [ 85] train_pos_goodness=     8.108 train_neg_goodness=     0.438 \n",
      "[Layer: 1] [ 86] train_pos_goodness=     8.121 train_neg_goodness=     0.436 \n",
      "[Layer: 1] [ 87] train_pos_goodness=     8.133 train_neg_goodness=     0.435 \n",
      "[Layer: 1] [ 88] train_pos_goodness=     8.146 train_neg_goodness=     0.433 \n",
      "[Layer: 1] [ 89] train_pos_goodness=     8.158 train_neg_goodness=     0.432 \n",
      "[Layer: 1] [ 90] train_pos_goodness=     8.171 train_neg_goodness=     0.430 \n",
      "[Layer: 1] [ 91] train_pos_goodness=     8.183 train_neg_goodness=     0.429 \n",
      "[Layer: 1] [ 92] train_pos_goodness=     8.195 train_neg_goodness=     0.428 \n",
      "[Layer: 1] [ 93] train_pos_goodness=     8.207 train_neg_goodness=     0.426 \n",
      "[Layer: 1] [ 94] train_pos_goodness=     8.220 train_neg_goodness=     0.425 \n",
      "[Layer: 1] [ 95] train_pos_goodness=     8.232 train_neg_goodness=     0.423 \n",
      "[Layer: 1] [ 96] train_pos_goodness=     8.244 train_neg_goodness=     0.422 \n",
      "[Layer: 1] [ 97] train_pos_goodness=     8.256 train_neg_goodness=     0.421 \n",
      "[Layer: 1] [ 98] train_pos_goodness=     8.268 train_neg_goodness=     0.419 \n",
      "[Layer: 1] [ 99] train_pos_goodness=     8.280 train_neg_goodness=     0.418 \n",
      "[Layer: 1] [100] train_pos_goodness=     8.292 train_neg_goodness=     0.417 \n",
      "[Layer: 2] [  1] train_pos_goodness=     5.922 train_neg_goodness=     0.963 \n",
      "[Layer: 2] [  2] train_pos_goodness=     6.143 train_neg_goodness=     0.768 \n",
      "[Layer: 2] [  3] train_pos_goodness=     6.310 train_neg_goodness=     0.675 \n",
      "[Layer: 2] [  4] train_pos_goodness=     6.435 train_neg_goodness=     0.618 \n",
      "[Layer: 2] [  5] train_pos_goodness=     6.535 train_neg_goodness=     0.579 \n",
      "[Layer: 2] [  6] train_pos_goodness=     6.618 train_neg_goodness=     0.550 \n",
      "[Layer: 2] [  7] train_pos_goodness=     6.689 train_neg_goodness=     0.528 \n",
      "[Layer: 2] [  8] train_pos_goodness=     6.749 train_neg_goodness=     0.510 \n",
      "[Layer: 2] [  9] train_pos_goodness=     6.799 train_neg_goodness=     0.496 \n",
      "[Layer: 2] [ 10] train_pos_goodness=     6.840 train_neg_goodness=     0.486 \n",
      "[Layer: 2] [ 11] train_pos_goodness=     6.872 train_neg_goodness=     0.477 \n",
      "[Layer: 2] [ 12] train_pos_goodness=     6.900 train_neg_goodness=     0.470 \n",
      "[Layer: 2] [ 13] train_pos_goodness=     6.927 train_neg_goodness=     0.464 \n",
      "[Layer: 2] [ 14] train_pos_goodness=     6.953 train_neg_goodness=     0.458 \n",
      "[Layer: 2] [ 15] train_pos_goodness=     6.979 train_neg_goodness=     0.453 \n",
      "[Layer: 2] [ 16] train_pos_goodness=     7.004 train_neg_goodness=     0.448 \n",
      "[Layer: 2] [ 17] train_pos_goodness=     7.027 train_neg_goodness=     0.444 \n",
      "[Layer: 2] [ 18] train_pos_goodness=     7.050 train_neg_goodness=     0.440 \n",
      "[Layer: 2] [ 19] train_pos_goodness=     7.071 train_neg_goodness=     0.436 \n",
      "[Layer: 2] [ 20] train_pos_goodness=     7.090 train_neg_goodness=     0.433 \n",
      "[Layer: 2] [ 21] train_pos_goodness=     7.109 train_neg_goodness=     0.430 \n",
      "[Layer: 2] [ 22] train_pos_goodness=     7.127 train_neg_goodness=     0.427 \n",
      "[Layer: 2] [ 23] train_pos_goodness=     7.145 train_neg_goodness=     0.424 \n",
      "[Layer: 2] [ 24] train_pos_goodness=     7.163 train_neg_goodness=     0.421 \n",
      "[Layer: 2] [ 25] train_pos_goodness=     7.180 train_neg_goodness=     0.418 \n",
      "[Layer: 2] [ 26] train_pos_goodness=     7.197 train_neg_goodness=     0.416 \n",
      "[Layer: 2] [ 27] train_pos_goodness=     7.213 train_neg_goodness=     0.414 \n",
      "[Layer: 2] [ 28] train_pos_goodness=     7.229 train_neg_goodness=     0.411 \n",
      "[Layer: 2] [ 29] train_pos_goodness=     7.245 train_neg_goodness=     0.409 \n",
      "[Layer: 2] [ 30] train_pos_goodness=     7.260 train_neg_goodness=     0.407 \n",
      "[Layer: 2] [ 31] train_pos_goodness=     7.275 train_neg_goodness=     0.405 \n",
      "[Layer: 2] [ 32] train_pos_goodness=     7.290 train_neg_goodness=     0.403 \n",
      "[Layer: 2] [ 33] train_pos_goodness=     7.305 train_neg_goodness=     0.401 \n",
      "[Layer: 2] [ 34] train_pos_goodness=     7.319 train_neg_goodness=     0.399 \n",
      "[Layer: 2] [ 35] train_pos_goodness=     7.334 train_neg_goodness=     0.398 \n",
      "[Layer: 2] [ 36] train_pos_goodness=     7.348 train_neg_goodness=     0.396 \n",
      "[Layer: 2] [ 37] train_pos_goodness=     7.362 train_neg_goodness=     0.394 \n",
      "[Layer: 2] [ 38] train_pos_goodness=     7.376 train_neg_goodness=     0.393 \n",
      "[Layer: 2] [ 39] train_pos_goodness=     7.390 train_neg_goodness=     0.391 \n",
      "[Layer: 2] [ 40] train_pos_goodness=     7.404 train_neg_goodness=     0.389 \n",
      "[Layer: 2] [ 41] train_pos_goodness=     7.418 train_neg_goodness=     0.388 \n",
      "[Layer: 2] [ 42] train_pos_goodness=     7.432 train_neg_goodness=     0.386 \n",
      "[Layer: 2] [ 43] train_pos_goodness=     7.446 train_neg_goodness=     0.384 \n",
      "[Layer: 2] [ 44] train_pos_goodness=     7.459 train_neg_goodness=     0.383 \n",
      "[Layer: 2] [ 45] train_pos_goodness=     7.473 train_neg_goodness=     0.381 \n",
      "[Layer: 2] [ 46] train_pos_goodness=     7.486 train_neg_goodness=     0.380 \n",
      "[Layer: 2] [ 47] train_pos_goodness=     7.500 train_neg_goodness=     0.378 \n",
      "[Layer: 2] [ 48] train_pos_goodness=     7.513 train_neg_goodness=     0.377 \n",
      "[Layer: 2] [ 49] train_pos_goodness=     7.526 train_neg_goodness=     0.376 \n",
      "[Layer: 2] [ 50] train_pos_goodness=     7.539 train_neg_goodness=     0.374 \n",
      "[Layer: 2] [ 51] train_pos_goodness=     7.551 train_neg_goodness=     0.373 \n",
      "[Layer: 2] [ 52] train_pos_goodness=     7.564 train_neg_goodness=     0.372 \n",
      "[Layer: 2] [ 53] train_pos_goodness=     7.576 train_neg_goodness=     0.370 \n",
      "[Layer: 2] [ 54] train_pos_goodness=     7.589 train_neg_goodness=     0.369 \n",
      "[Layer: 2] [ 55] train_pos_goodness=     7.601 train_neg_goodness=     0.368 \n",
      "[Layer: 2] [ 56] train_pos_goodness=     7.613 train_neg_goodness=     0.366 \n",
      "[Layer: 2] [ 57] train_pos_goodness=     7.625 train_neg_goodness=     0.365 \n",
      "[Layer: 2] [ 58] train_pos_goodness=     7.636 train_neg_goodness=     0.364 \n",
      "[Layer: 2] [ 59] train_pos_goodness=     7.648 train_neg_goodness=     0.363 \n",
      "[Layer: 2] [ 60] train_pos_goodness=     7.659 train_neg_goodness=     0.362 \n",
      "[Layer: 2] [ 61] train_pos_goodness=     7.670 train_neg_goodness=     0.361 \n",
      "[Layer: 2] [ 62] train_pos_goodness=     7.682 train_neg_goodness=     0.359 \n",
      "[Layer: 2] [ 63] train_pos_goodness=     7.692 train_neg_goodness=     0.358 \n",
      "[Layer: 2] [ 64] train_pos_goodness=     7.703 train_neg_goodness=     0.357 \n",
      "[Layer: 2] [ 65] train_pos_goodness=     7.714 train_neg_goodness=     0.356 \n",
      "[Layer: 2] [ 66] train_pos_goodness=     7.725 train_neg_goodness=     0.355 \n",
      "[Layer: 2] [ 67] train_pos_goodness=     7.735 train_neg_goodness=     0.354 \n",
      "[Layer: 2] [ 68] train_pos_goodness=     7.746 train_neg_goodness=     0.353 \n",
      "[Layer: 2] [ 69] train_pos_goodness=     7.756 train_neg_goodness=     0.352 \n",
      "[Layer: 2] [ 70] train_pos_goodness=     7.767 train_neg_goodness=     0.351 \n",
      "[Layer: 2] [ 71] train_pos_goodness=     7.777 train_neg_goodness=     0.350 \n",
      "[Layer: 2] [ 72] train_pos_goodness=     7.788 train_neg_goodness=     0.349 \n",
      "[Layer: 2] [ 73] train_pos_goodness=     7.798 train_neg_goodness=     0.348 \n",
      "[Layer: 2] [ 74] train_pos_goodness=     7.808 train_neg_goodness=     0.347 \n",
      "[Layer: 2] [ 75] train_pos_goodness=     7.818 train_neg_goodness=     0.346 \n",
      "[Layer: 2] [ 76] train_pos_goodness=     7.828 train_neg_goodness=     0.345 \n",
      "[Layer: 2] [ 77] train_pos_goodness=     7.838 train_neg_goodness=     0.344 \n",
      "[Layer: 2] [ 78] train_pos_goodness=     7.849 train_neg_goodness=     0.343 \n",
      "[Layer: 2] [ 79] train_pos_goodness=     7.858 train_neg_goodness=     0.342 \n",
      "[Layer: 2] [ 80] train_pos_goodness=     7.868 train_neg_goodness=     0.342 \n",
      "[Layer: 2] [ 81] train_pos_goodness=     7.878 train_neg_goodness=     0.341 \n",
      "[Layer: 2] [ 82] train_pos_goodness=     7.888 train_neg_goodness=     0.340 \n",
      "[Layer: 2] [ 83] train_pos_goodness=     7.898 train_neg_goodness=     0.339 \n",
      "[Layer: 2] [ 84] train_pos_goodness=     7.907 train_neg_goodness=     0.338 \n",
      "[Layer: 2] [ 85] train_pos_goodness=     7.917 train_neg_goodness=     0.337 \n",
      "[Layer: 2] [ 86] train_pos_goodness=     7.927 train_neg_goodness=     0.336 \n",
      "[Layer: 2] [ 87] train_pos_goodness=     7.936 train_neg_goodness=     0.336 \n",
      "[Layer: 2] [ 88] train_pos_goodness=     7.946 train_neg_goodness=     0.335 \n",
      "[Layer: 2] [ 89] train_pos_goodness=     7.955 train_neg_goodness=     0.334 \n",
      "[Layer: 2] [ 90] train_pos_goodness=     7.964 train_neg_goodness=     0.333 \n",
      "[Layer: 2] [ 91] train_pos_goodness=     7.973 train_neg_goodness=     0.332 \n",
      "[Layer: 2] [ 92] train_pos_goodness=     7.982 train_neg_goodness=     0.332 \n",
      "[Layer: 2] [ 93] train_pos_goodness=     7.991 train_neg_goodness=     0.331 \n",
      "[Layer: 2] [ 94] train_pos_goodness=     8.000 train_neg_goodness=     0.330 \n",
      "[Layer: 2] [ 95] train_pos_goodness=     8.009 train_neg_goodness=     0.329 \n",
      "[Layer: 2] [ 96] train_pos_goodness=     8.018 train_neg_goodness=     0.329 \n",
      "[Layer: 2] [ 97] train_pos_goodness=     8.027 train_neg_goodness=     0.328 \n",
      "[Layer: 2] [ 98] train_pos_goodness=     8.035 train_neg_goodness=     0.327 \n",
      "[Layer: 2] [ 99] train_pos_goodness=     8.044 train_neg_goodness=     0.326 \n",
      "[Layer: 2] [100] train_pos_goodness=     8.053 train_neg_goodness=     0.326 \n"
     ]
    }
   ],
   "source": [
    "metrics = {\n",
    "    \"pos_goodness\": [],\n",
    "    \"neg_goodness\": [],\n",
    "    \"valid_goodness\": [],\n",
    "    \"valid_accuracy\": [],\n",
    "}\n",
    "\n",
    "optims = [optax.adamw(LEARNING_RATE) for _ in range(len(model.layers))]\n",
    "opt_states = [optim.init(eqx.filter(layer, eqx.is_array))\n",
    "              for optim, layer in zip(optims, model.layers)]\n",
    "\n",
    "trained_model, trained_opt_states, metrics = train_greedy(\n",
    "    model, optims, opt_states, metrics=metrics, \n",
    "    threshold=THRESHOLD, batch_size=BATCH_SIZE,\n",
    "    epochs=EPOCHS, print_every=PRINT_EVERY\n",
    ")"
   ]
  },
  {
   "cell_type": "code",
   "execution_count": null,
   "metadata": {
    "scrolled": true
   },
   "outputs": [],
   "source": [
    "# trained_model, trained_opt_states, metrics = train(\n",
    "#     trained_model, optims, trained_opt_states, metrics=metrics,\n",
    "#     threshold=THRESHOLD, batch_size=BATCH_SIZE,\n",
    "#     epochs=EPOCHS, print_every=PRINT_EVERY\n",
    "# )"
   ]
  },
  {
   "cell_type": "code",
   "execution_count": null,
   "metadata": {
    "colab": {
     "base_uri": "https://localhost:8080/",
     "height": 940
    },
    "id": "JErxrnOBoHZt",
    "outputId": "7e46b5ff-beb9-4f17-f52c-a2d267b2179d",
    "tags": []
   },
   "outputs": [],
   "source": [
    "fig, ax1 = plt.subplots()\n",
    "\n",
    "ax1.set_xlabel('epoch')\n",
    "ax1.set_ylabel('goodness')\n",
    "ax1.plot(metrics[\"pos_goodness\"], label='positive')\n",
    "ax1.plot(metrics[\"valid_goodness\"], label='validation')\n",
    "ax1.plot(metrics[\"neg_goodness\"], label='negative')\n",
    "ax1.axhline(THRESHOLD, linestyle='--', label='threshold', color='red')\n",
    "ax1.tick_params(axis='y')\n",
    "ax1.legend(title='goodness')\n",
    "\n",
    "ax2 = ax1.twinx()\n",
    "ax2.set_ylabel('accuracy')\n",
    "ax2.plot(metrics[\"valid_accuracy\"], color='black', label='validation')\n",
    "ax2.tick_params(axis='y')\n",
    "ax2.legend(title='accuracy', loc='center right')\n",
    "ax2.set_ylim([0., 1.])\n",
    "ax2.set_yticks(list(np.linspace(0., 1., 9)) + [max(metrics[\"valid_accuracy\"])])\n",
    "\n",
    "plt.title(f\"FMNIST 784-512-512, softplus, thr={THRESHOLD}, adamw_lr={LEARNING_RATE}, bs={BATCH_SIZE}\")\n",
    "\n",
    "fig.tight_layout()\n",
    "plt.savefig(f'metrics_fmnist_784-512-512_softplus_{THRESHOLD}_adamw_{LEARNING_RATE}_{BATCH_SIZE}.png', dpi=300)"
   ]
  },
  {
   "cell_type": "code",
   "execution_count": 296,
   "metadata": {},
   "outputs": [
    {
     "data": {
      "text/plain": [
       "(16.830121994018555, 0.9510799646377563)"
      ]
     },
     "execution_count": 296,
     "metadata": {},
     "output_type": "execute_result"
    }
   ],
   "source": [
    "test_goodness, test_accuracy = evaluate(trained_model, X_test, y_test, BATCH_SIZE)\n",
    "\n",
    "# metrics[\"test_goodness\"] = [test_goodness.item()]\n",
    "# metrics[\"test_accuracy\"] = [test_accuracy.item()]\n",
    "\n",
    "test_goodness.item(), test_accuracy.item()"
   ]
  },
  {
   "cell_type": "code",
   "execution_count": 205,
   "metadata": {
    "scrolled": true
   },
   "outputs": [],
   "source": [
    "metrics[\"batch_size\"] = BATCH_SIZE\n",
    "metrics[\"threshold\"] = THRESHOLD\n",
    "metrics[\"learning_rate\"] = LEARNING_RATE\n",
    "metrics[\"optimizer\"] = \"adamw\""
   ]
  },
  {
   "cell_type": "code",
   "execution_count": 206,
   "metadata": {},
   "outputs": [],
   "source": [
    "import json\n",
    "\n",
    "with open(f\"metrics_fmnist_784-512-512_softplus_{THRESHOLD}_adamw_{LEARNING_RATE}_{BATCH_SIZE}.json\", \"w\") as f:\n",
    "    json.dump(metrics, f)"
   ]
  },
  {
   "cell_type": "code",
   "execution_count": 207,
   "metadata": {},
   "outputs": [],
   "source": [
    "def save_model(filename, metrics, model, opt_states):\n",
    "    with open(filename, \"wb\") as f:\n",
    "        f.write((json.dumps(metrics) + \"\\n\").encode())\n",
    "        eqx.tree_serialise_leaves(f, model)\n",
    "        eqx.tree_serialise_leaves(f, opt_states)\n",
    "\n",
    "save_model(f'checkpoint_fmnist_784-512-512_softplus_{THRESHOLD}_adamw_{LEARNING_RATE}_{BATCH_SIZE}.eqx',\n",
    "           metrics, trained_model, trained_opt_states)"
   ]
  },
  {
   "cell_type": "code",
   "execution_count": null,
   "metadata": {},
   "outputs": [],
   "source": [
    "# def load_model(filename):\n",
    "#     with open(filename, \"b\") as f:\n",
    "#         new_metrics = json.loads(f.readling().decode())\n",
    "#         new_model = None"
   ]
  }
 ],
 "metadata": {
  "accelerator": "GPU",
  "colab": {
   "gpuType": "T4",
   "provenance": []
  },
  "kernelspec": {
   "display_name": "Python 3 (ipykernel)",
   "language": "python",
   "name": "python3"
  },
  "language_info": {
   "codemirror_mode": {
    "name": "ipython",
    "version": 3
   },
   "file_extension": ".py",
   "mimetype": "text/x-python",
   "name": "python",
   "nbconvert_exporter": "python",
   "pygments_lexer": "ipython3",
   "version": "3.12.1"
  }
 },
 "nbformat": 4,
 "nbformat_minor": 4
}
