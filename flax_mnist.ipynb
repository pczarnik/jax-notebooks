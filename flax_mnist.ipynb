{
 "cells": [
  {
   "cell_type": "code",
   "execution_count": 1,
   "metadata": {
    "id": "so5jYVLUqKN1",
    "tags": []
   },
   "outputs": [],
   "source": [
    "from flax import linen as nn\n",
    "\n",
    "class MLP(nn.Module):\n",
    "    @nn.compact\n",
    "    def __call__(self, x):\n",
    "        x = x.reshape((x.shape[0], -1))\n",
    "        x = nn.Dense(features=120)(x)\n",
    "        x = nn.sigmoid(x)\n",
    "        x = nn.Dense(features=84)(x)\n",
    "        x = nn.sigmoid(x)\n",
    "        x = nn.Dense(features=10)(x)\n",
    "        return x"
   ]
  },
  {
   "cell_type": "code",
   "execution_count": 2,
   "metadata": {
    "colab": {
     "base_uri": "https://localhost:8080/"
    },
    "id": "ut2cFm4BrIrE",
    "outputId": "7ae669d5-1307-4ce7-94bf-8fe180406ac2",
    "tags": []
   },
   "outputs": [
    {
     "name": "stdout",
     "output_type": "stream",
     "text": [
      "\n",
      "\u001b[3m                                  MLP Summary                                   \u001b[0m\n",
      "┏━━━━━━━━━┳━━━━━━━━┳━━━━━━━━━━━━━━━━━━┳━━━━━━━━━━━━━━━━┳━━━━━━━━━━━━━━━━━━━━━━━┓\n",
      "┃\u001b[1m \u001b[0m\u001b[1mpath   \u001b[0m\u001b[1m \u001b[0m┃\u001b[1m \u001b[0m\u001b[1mmodule\u001b[0m\u001b[1m \u001b[0m┃\u001b[1m \u001b[0m\u001b[1minputs          \u001b[0m\u001b[1m \u001b[0m┃\u001b[1m \u001b[0m\u001b[1moutputs       \u001b[0m\u001b[1m \u001b[0m┃\u001b[1m \u001b[0m\u001b[1mparams               \u001b[0m\u001b[1m \u001b[0m┃\n",
      "┡━━━━━━━━━╇━━━━━━━━╇━━━━━━━━━━━━━━━━━━╇━━━━━━━━━━━━━━━━╇━━━━━━━━━━━━━━━━━━━━━━━┩\n",
      "│         │ MLP    │ \u001b[2mfloat32\u001b[0m[1,28,28] │ \u001b[2mfloat32\u001b[0m[1,10]  │                       │\n",
      "├─────────┼────────┼──────────────────┼────────────────┼───────────────────────┤\n",
      "│ Dense_0 │ Dense  │ \u001b[2mfloat32\u001b[0m[1,784]   │ \u001b[2mfloat32\u001b[0m[1,120] │ bias: \u001b[2mfloat32\u001b[0m[120]    │\n",
      "│         │        │                  │                │ kernel:               │\n",
      "│         │        │                  │                │ \u001b[2mfloat32\u001b[0m[784,120]      │\n",
      "│         │        │                  │                │                       │\n",
      "│         │        │                  │                │ \u001b[1m94,200 \u001b[0m\u001b[1;2m(376.8 KB)\u001b[0m     │\n",
      "├─────────┼────────┼──────────────────┼────────────────┼───────────────────────┤\n",
      "│ Dense_1 │ Dense  │ \u001b[2mfloat32\u001b[0m[1,120]   │ \u001b[2mfloat32\u001b[0m[1,84]  │ bias: \u001b[2mfloat32\u001b[0m[84]     │\n",
      "│         │        │                  │                │ kernel:               │\n",
      "│         │        │                  │                │ \u001b[2mfloat32\u001b[0m[120,84]       │\n",
      "│         │        │                  │                │                       │\n",
      "│         │        │                  │                │ \u001b[1m10,164 \u001b[0m\u001b[1;2m(40.7 KB)\u001b[0m      │\n",
      "├─────────┼────────┼──────────────────┼────────────────┼───────────────────────┤\n",
      "│ Dense_2 │ Dense  │ \u001b[2mfloat32\u001b[0m[1,84]    │ \u001b[2mfloat32\u001b[0m[1,10]  │ bias: \u001b[2mfloat32\u001b[0m[10]     │\n",
      "│         │        │                  │                │ kernel:               │\n",
      "│         │        │                  │                │ \u001b[2mfloat32\u001b[0m[84,10]        │\n",
      "│         │        │                  │                │                       │\n",
      "│         │        │                  │                │ \u001b[1m850 \u001b[0m\u001b[1;2m(3.4 KB)\u001b[0m          │\n",
      "├─────────┼────────┼──────────────────┼────────────────┼───────────────────────┤\n",
      "│\u001b[1m \u001b[0m\u001b[1m       \u001b[0m\u001b[1m \u001b[0m│\u001b[1m \u001b[0m\u001b[1m      \u001b[0m\u001b[1m \u001b[0m│\u001b[1m \u001b[0m\u001b[1m                \u001b[0m\u001b[1m \u001b[0m│\u001b[1m \u001b[0m\u001b[1m         Total\u001b[0m\u001b[1m \u001b[0m│\u001b[1m \u001b[0m\u001b[1m105,214 \u001b[0m\u001b[1;2m(420.9 KB)\u001b[0m\u001b[1m   \u001b[0m\u001b[1m \u001b[0m│\n",
      "└─────────┴────────┴──────────────────┴────────────────┴───────────────────────┘\n",
      "\u001b[1m                                                                                \u001b[0m\n",
      "\u001b[1m                      Total Parameters: 105,214 \u001b[0m\u001b[1;2m(420.9 KB)\u001b[0m\u001b[1m                      \u001b[0m\n",
      "\n",
      "\n"
     ]
    }
   ],
   "source": [
    "import jax\n",
    "import jax.numpy as jnp\n",
    "\n",
    "net = MLP()\n",
    "print(net.tabulate(jax.random.key(0), jnp.ones((1, 28, 28))))"
   ]
  },
  {
   "cell_type": "code",
   "execution_count": 3,
   "metadata": {
    "id": "1Q1oaVtOrUZI",
    "tags": []
   },
   "outputs": [],
   "source": [
    "from clu import metrics\n",
    "from flax.training import train_state\n",
    "from flax import struct\n",
    "import optax"
   ]
  },
  {
   "cell_type": "code",
   "execution_count": 4,
   "metadata": {
    "id": "GSYLtHAOrcaq",
    "tags": []
   },
   "outputs": [],
   "source": [
    "@struct.dataclass\n",
    "class Metrics(metrics.Collection):\n",
    "    accuracy: metrics.Accuracy\n",
    "    loss: metrics.Average.from_output('loss')"
   ]
  },
  {
   "cell_type": "code",
   "execution_count": 5,
   "metadata": {
    "id": "IPe18hZSr14r",
    "tags": []
   },
   "outputs": [],
   "source": [
    "class TrainState(train_state.TrainState):\n",
    "    metrics: Metrics\n",
    "\n",
    "def create_train_state(module, optimizer, rng):\n",
    "    params = module.init(rng, jnp.ones([1, 28, 28]))['params']\n",
    "    train_state = TrainState.create(\n",
    "        apply_fn=module.apply, params=params,\n",
    "        tx=optimizer, metrics=Metrics.empty()\n",
    "    )\n",
    "    return train_state"
   ]
  },
  {
   "cell_type": "code",
   "execution_count": 6,
   "metadata": {
    "id": "-1KORsqzr6hM",
    "tags": []
   },
   "outputs": [],
   "source": [
    "@jax.jit\n",
    "def train_step(state, X, y):\n",
    "    def loss_fn(params):\n",
    "        logits = state.apply_fn({'params': params}, X)\n",
    "        loss = optax.softmax_cross_entropy_with_integer_labels(\n",
    "            logits=logits, labels=y\n",
    "        ).mean()\n",
    "        return loss\n",
    "\n",
    "    grads = jax.grad(loss_fn)(state.params)\n",
    "    state = state.apply_gradients(grads=grads)\n",
    "    return state"
   ]
  },
  {
   "cell_type": "code",
   "execution_count": 7,
   "metadata": {
    "id": "8hY5KPOas4H3",
    "tags": []
   },
   "outputs": [],
   "source": [
    "@jax.jit\n",
    "def compute_metrics(*, state, X, y):\n",
    "    logits = state.apply_fn({'params': state.params}, X)\n",
    "    loss = optax.softmax_cross_entropy_with_integer_labels(\n",
    "        logits=logits, labels=y\n",
    "    ).mean()\n",
    "    metric_updates = state.metrics.single_from_model_output(\n",
    "        logits=logits, labels=y, loss=loss\n",
    "    )\n",
    "    metrics = state.metrics.merge(metric_updates)\n",
    "    state = state.replace(metrics=metrics)\n",
    "    return state"
   ]
  },
  {
   "cell_type": "code",
   "execution_count": 8,
   "metadata": {
    "colab": {
     "base_uri": "https://localhost:8080/"
    },
    "id": "CTWXBtLayKSG",
    "outputId": "df75ad24-58d5-4de8-d8c5-7cdcb2d43dab",
    "tags": []
   },
   "outputs": [
    {
     "name": "stdout",
     "output_type": "stream",
     "text": [
      "Downloading http://codh.rois.ac.jp/kmnist/dataset/kmnist/train-images-idx3-ubyte.gz\n",
      "Downloading http://codh.rois.ac.jp/kmnist/dataset/kmnist/train-labels-idx1-ubyte.gz\n",
      "Downloading http://codh.rois.ac.jp/kmnist/dataset/kmnist/t10k-images-idx3-ubyte.gz\n",
      "Downloading http://codh.rois.ac.jp/kmnist/dataset/kmnist/t10k-labels-idx1-ubyte.gz\n"
     ]
    }
   ],
   "source": [
    "import mnists\n",
    "import numpy as np\n",
    "from sklearn.model_selection import train_test_split\n",
    "\n",
    "dataset = mnists.KMNIST()\n",
    "\n",
    "X_train = dataset.train_images().astype(np.float32) / 255.0\n",
    "y_train = dataset.train_labels().astype(np.int32)\n",
    "\n",
    "X_train, X_valid, y_train, y_valid = train_test_split(\n",
    "    X_train, y_train, test_size=0.1, random_state=0,\n",
    ")\n",
    "\n",
    "X_test = dataset.test_images().astype(np.float32) / 255.0\n",
    "y_test = dataset.test_labels().astype(np.int32)"
   ]
  },
  {
   "cell_type": "code",
   "execution_count": 9,
   "metadata": {
    "tags": []
   },
   "outputs": [],
   "source": [
    "def batch_data(X, y, batch_size):\n",
    "    for i in range(0, len(y), batch_size):\n",
    "        yield X[i:i+batch_size], y[i:i+batch_size]"
   ]
  },
  {
   "cell_type": "code",
   "execution_count": 10,
   "metadata": {
    "tags": []
   },
   "outputs": [],
   "source": [
    "def create_metrics_history():\n",
    "    return {\n",
    "        'epoch': 0,\n",
    "        'train_loss': [],\n",
    "        'train_accuracy': [],\n",
    "        'valid_loss': [],\n",
    "        'valid_accuracy': [],\n",
    "        'test_loss': [],\n",
    "        'test_accuracy': [],\n",
    "        'best_valid_loss': np.inf,\n",
    "        'best_epoch': 0,\n",
    "    }\n",
    "\n",
    "metrics_history = create_metrics_history()\n",
    "\n",
    "# optimizer = optax.sgd(learning_rate=0.001, momentum=0.9, nesterov=True)\n",
    "optimizer = optax.adam(learning_rate=0.001)\n",
    "model = MLP()\n",
    "state = best_state = create_train_state(model, optimizer, jax.random.key(0))"
   ]
  },
  {
   "cell_type": "code",
   "execution_count": 11,
   "metadata": {
    "colab": {
     "base_uri": "https://localhost:8080/",
     "height": 533
    },
    "id": "W1Xy2rsMti3Q",
    "outputId": "1dd85c41-16a2-4565-fca8-01287a1ce58b",
    "tags": []
   },
   "outputs": [
    {
     "name": "stdout",
     "output_type": "stream",
     "text": [
      "Epoch:    10, [Train] loss: 0.778, accuracy: 0.795, [Valid] loss: 0.752, accuracy: 0.799\n",
      "Epoch:    20, [Train] loss: 0.459, accuracy: 0.869, [Valid] loss: 0.472, accuracy: 0.864\n",
      "Epoch:    30, [Train] loss: 0.330, accuracy: 0.906, [Valid] loss: 0.362, accuracy: 0.893\n",
      "Epoch:    40, [Train] loss: 0.250, accuracy: 0.929, [Valid] loss: 0.297, accuracy: 0.912\n",
      "Epoch:    50, [Train] loss: 0.194, accuracy: 0.946, [Valid] loss: 0.256, accuracy: 0.925\n",
      "Epoch:    60, [Train] loss: 0.153, accuracy: 0.960, [Valid] loss: 0.228, accuracy: 0.933\n",
      "Epoch:    70, [Train] loss: 0.122, accuracy: 0.970, [Valid] loss: 0.209, accuracy: 0.938\n",
      "Epoch:    80, [Train] loss: 0.098, accuracy: 0.977, [Valid] loss: 0.196, accuracy: 0.941\n",
      "Epoch:    90, [Train] loss: 0.078, accuracy: 0.983, [Valid] loss: 0.187, accuracy: 0.945\n",
      "Epoch:   100, [Train] loss: 0.063, accuracy: 0.988, [Valid] loss: 0.182, accuracy: 0.945\n",
      "Epoch:   110, [Train] loss: 0.050, accuracy: 0.992, [Valid] loss: 0.180, accuracy: 0.946\n",
      "Epoch:   120, [Train] loss: 0.040, accuracy: 0.994, [Valid] loss: 0.180, accuracy: 0.947\n",
      "Epoch:   130, [Train] loss: 0.032, accuracy: 0.996, [Valid] loss: 0.180, accuracy: 0.947\n",
      "Epoch:   140, [Train] loss: 0.025, accuracy: 0.998, [Valid] loss: 0.182, accuracy: 0.948\n",
      "Epoch:   150, [Train] loss: 0.020, accuracy: 0.999, [Valid] loss: 0.184, accuracy: 0.947\n",
      "Epoch:   160, [Train] loss: 0.016, accuracy: 0.999, [Valid] loss: 0.187, accuracy: 0.948\n",
      "Epoch:   170, [Train] loss: 0.013, accuracy: 0.999, [Valid] loss: 0.191, accuracy: 0.949\n",
      "Epoch:   180, [Train] loss: 0.010, accuracy: 1.000, [Valid] loss: 0.194, accuracy: 0.949\n",
      "Epoch:   190, [Train] loss: 0.009, accuracy: 1.000, [Valid] loss: 0.197, accuracy: 0.948\n",
      "Epoch:   200, [Train] loss: 0.007, accuracy: 1.000, [Valid] loss: 0.201, accuracy: 0.949\n",
      "Epoch:   210, [Train] loss: 0.006, accuracy: 1.000, [Valid] loss: 0.206, accuracy: 0.949\n",
      "Epoch:   220, [Train] loss: 0.005, accuracy: 1.000, [Valid] loss: 0.209, accuracy: 0.949\n",
      "Epoch:   230, [Train] loss: 0.004, accuracy: 1.000, [Valid] loss: 0.211, accuracy: 0.950\n",
      "Epoch:   240, [Train] loss: 0.004, accuracy: 1.000, [Valid] loss: 0.219, accuracy: 0.948\n",
      "Epoch:   250, [Train] loss: 0.003, accuracy: 1.000, [Valid] loss: 0.217, accuracy: 0.949\n",
      "Epoch:   260, [Train] loss: 0.003, accuracy: 1.000, [Valid] loss: 0.219, accuracy: 0.949\n",
      "Epoch:   270, [Train] loss: 0.002, accuracy: 1.000, [Valid] loss: 0.222, accuracy: 0.949\n",
      "Epoch:   280, [Train] loss: 0.002, accuracy: 1.000, [Valid] loss: 0.224, accuracy: 0.949\n",
      "Epoch:   290, [Train] loss: 0.002, accuracy: 1.000, [Valid] loss: 0.227, accuracy: 0.949\n",
      "Epoch:   300, [Train] loss: 0.002, accuracy: 1.000, [Valid] loss: 0.230, accuracy: 0.948\n"
     ]
    }
   ],
   "source": [
    "from copy import deepcopy\n",
    "\n",
    "def train_model(state, best_state, num_epochs, metrics_history,\n",
    "                report_every, batch_size):\n",
    "    metrics_history = deepcopy(metrics_history)\n",
    "    \n",
    "    start_epoch = metrics_history['epoch']\n",
    "\n",
    "    for epoch in range(start_epoch, num_epochs):\n",
    "        for X_batch, y_batch in batch_data(X_train, y_train, batch_size):\n",
    "            state = train_step(state, X_batch, y_batch)\n",
    "            state = compute_metrics(state=state, X=X_batch, y=y_batch)\n",
    "\n",
    "        for metric, value in state.metrics.compute().items():\n",
    "            metrics_history[f'train_{metric}'].append(value)\n",
    "\n",
    "        state = state.replace(metrics=state.metrics.empty())\n",
    "\n",
    "        valid_state = compute_metrics(state=state, X=X_valid, y=y_valid)\n",
    "        for metric, value in valid_state.metrics.compute().items():\n",
    "            metrics_history[f'valid_{metric}'].append(value)\n",
    "\n",
    "        if metrics_history['valid_loss'][-1] < metrics_history['best_valid_loss']:\n",
    "            metrics_history['best_valid_loss'] = metrics_history['valid_loss'][-1]\n",
    "            metrics_history['best_epoch'] = epoch + 1\n",
    "            best_state = state\n",
    "\n",
    "        metrics_history['epoch'] = epoch + 1\n",
    "            \n",
    "        if (epoch + 1) % report_every == 0:\n",
    "            print(\n",
    "                f\"Epoch: {epoch+1: 5d}, \"\n",
    "                f\"[Train] loss: {metrics_history['train_loss'][-1]:.3f}, \"\n",
    "                f\"accuracy: {metrics_history['train_accuracy'][-1]:.3f}, \"\n",
    "                f\"[Valid] loss: {metrics_history['valid_loss'][-1]:.3f}, \"\n",
    "                f\"accuracy: {metrics_history['valid_accuracy'][-1]:.3f}\"\n",
    "            )\n",
    "\n",
    "    return state, best_state, metrics_history\n",
    "\n",
    "\n",
    "state, best_state, metrics_history = train_model(\n",
    "    state, best_state, num_epochs=300, report_every=10, \n",
    "    batch_size=4096, metrics_history=metrics_history\n",
    ")"
   ]
  },
  {
   "cell_type": "code",
   "execution_count": 14,
   "metadata": {
    "tags": []
   },
   "outputs": [
    {
     "name": "stdout",
     "output_type": "stream",
     "text": [
      "[Test] Epoch: 117 accuracy: 0.875 loss: 0.443 \n",
      "[Test] Epoch: 300 accuracy: 0.880 loss: 0.595 \n"
     ]
    }
   ],
   "source": [
    "def evaluate_on_test(state, best_state, metrics_history):\n",
    "    def _evaluate(st, epoch):\n",
    "        st = compute_metrics(state=st, X=X_test, y=y_test)\n",
    "\n",
    "        print(f\"[Test] Epoch: {epoch}\", end=' ')\n",
    "        for metric, value in st.metrics.compute().items():\n",
    "            # metrics_history[f'test_{metric}'].append(value)\n",
    "            print(f\"{metric}: {value:.3f}\", end=' ')\n",
    "        print()\n",
    "\n",
    "    _evaluate(best_state, metrics_history['best_epoch'])\n",
    "    _evaluate(state, metrics_history['epoch'])\n",
    "    return metrics_history\n",
    "\n",
    "metrics_history = evaluate_on_test(state, best_state, metrics_history)"
   ]
  },
  {
   "cell_type": "code",
   "execution_count": 15,
   "metadata": {
    "colab": {
     "base_uri": "https://localhost:8080/",
     "height": 486
    },
    "id": "ZGatGnu1z0OB",
    "outputId": "89e3e9aa-f3ca-43da-8b33-29fbd8bfb309",
    "tags": []
   },
   "outputs": [
    {
     "data": {
      "image/png": "[encoded data removed]",
      "text/plain": [
       "<Figure size 1500x500 with 2 Axes>"
      ]
     },
     "metadata": {},
     "output_type": "display_data"
    }
   ],
   "source": [
    "import matplotlib.pyplot as plt\n",
    "\n",
    "def plot_metrics(metrics_history):\n",
    "    fig, (ax1, ax2) = plt.subplots(1, 2, figsize=(15, 5))\n",
    "    ax1.set_title('Loss')\n",
    "    ax2.set_title('Accuracy')\n",
    "    for dataset in ('train','valid'):\n",
    "        ax1.plot(metrics_history[f'{dataset}_loss'], label=f'{dataset}_loss')\n",
    "        ax2.plot(metrics_history[f'{dataset}_accuracy'], label=f'{dataset}_accuracy')\n",
    "    ax1.legend()\n",
    "    ax2.legend()\n",
    "    plt.show()\n",
    "\n",
    "plot_metrics(metrics_history)"
   ]
  },
  {
   "cell_type": "code",
   "execution_count": 16,
   "metadata": {
    "id": "PBm92iSW2oB6",
    "tags": []
   },
   "outputs": [],
   "source": [
    "class LeNet(nn.Module):\n",
    "    @nn.compact\n",
    "    def __call__(self, x):\n",
    "        x = x[..., None]\n",
    "\n",
    "        x = nn.Conv(features=6, kernel_size=(5, 5), padding=(2, 2))(x)\n",
    "        x = nn.sigmoid(x)\n",
    "        x = nn.avg_pool(x, window_shape=(2, 2), strides=(2, 2))\n",
    "\n",
    "        x = nn.Conv(features=16, kernel_size=(5, 5), padding=(0, 0))(x)\n",
    "        x = nn.sigmoid(x)\n",
    "        x = nn.avg_pool(x, window_shape=(2, 2), strides=(2, 2))\n",
    "\n",
    "        x = x.reshape((x.shape[0], -1))\n",
    "\n",
    "        x = nn.Dense(features=120)(x)\n",
    "        x = nn.sigmoid(x)\n",
    "\n",
    "        x = nn.Dense(features=84)(x)\n",
    "        x = nn.sigmoid(x)\n",
    "\n",
    "        x = nn.Dense(features=10)(x)\n",
    "\n",
    "        return x"
   ]
  },
  {
   "cell_type": "code",
   "execution_count": 17,
   "metadata": {
    "colab": {
     "base_uri": "https://localhost:8080/"
    },
    "id": "jhcby25E5FrW",
    "outputId": "ee4b0748-11ff-47f0-b384-d93b1deaee44",
    "tags": []
   },
   "outputs": [
    {
     "name": "stdout",
     "output_type": "stream",
     "text": [
      "\n",
      "\u001b[3m                                 LeNet Summary                                  \u001b[0m\n",
      "┏━━━━━━━━━┳━━━━━━━━┳━━━━━━━━━━━━━━━━━━━┳━━━━━━━━━━━━━━━━━━━┳━━━━━━━━━━━━━━━━━━━┓\n",
      "┃\u001b[1m \u001b[0m\u001b[1mpath   \u001b[0m\u001b[1m \u001b[0m┃\u001b[1m \u001b[0m\u001b[1mmodule\u001b[0m\u001b[1m \u001b[0m┃\u001b[1m \u001b[0m\u001b[1minputs           \u001b[0m\u001b[1m \u001b[0m┃\u001b[1m \u001b[0m\u001b[1moutputs          \u001b[0m\u001b[1m \u001b[0m┃\u001b[1m \u001b[0m\u001b[1mparams           \u001b[0m\u001b[1m \u001b[0m┃\n",
      "┡━━━━━━━━━╇━━━━━━━━╇━━━━━━━━━━━━━━━━━━━╇━━━━━━━━━━━━━━━━━━━╇━━━━━━━━━━━━━━━━━━━┩\n",
      "│         │ LeNet  │ \u001b[2mfloat32\u001b[0m[1,28,28]  │ \u001b[2mfloat32\u001b[0m[1,10]     │                   │\n",
      "├─────────┼────────┼───────────────────┼───────────────────┼───────────────────┤\n",
      "│ Conv_0  │ Conv   │ \u001b[2mfloat32\u001b[0m[1,28,28,… │ \u001b[2mfloat32\u001b[0m[1,28,28,… │ bias: \u001b[2mfloat32\u001b[0m[6]  │\n",
      "│         │        │                   │                   │ kernel:           │\n",
      "│         │        │                   │                   │ \u001b[2mfloat32\u001b[0m[5,5,1,6]  │\n",
      "│         │        │                   │                   │                   │\n",
      "│         │        │                   │                   │ \u001b[1m156 \u001b[0m\u001b[1;2m(624 B)\u001b[0m       │\n",
      "├─────────┼────────┼───────────────────┼───────────────────┼───────────────────┤\n",
      "│ Conv_1  │ Conv   │ \u001b[2mfloat32\u001b[0m[1,14,14,… │ \u001b[2mfloat32\u001b[0m[1,10,10,… │ bias: \u001b[2mfloat32\u001b[0m[16] │\n",
      "│         │        │                   │                   │ kernel:           │\n",
      "│         │        │                   │                   │ \u001b[2mfloat32\u001b[0m[5,5,6,16] │\n",
      "│         │        │                   │                   │                   │\n",
      "│         │        │                   │                   │ \u001b[1m2,416 \u001b[0m\u001b[1;2m(9.7 KB)\u001b[0m    │\n",
      "├─────────┼────────┼───────────────────┼───────────────────┼───────────────────┤\n",
      "│ Dense_0 │ Dense  │ \u001b[2mfloat32\u001b[0m[1,400]    │ \u001b[2mfloat32\u001b[0m[1,120]    │ bias:             │\n",
      "│         │        │                   │                   │ \u001b[2mfloat32\u001b[0m[120]      │\n",
      "│         │        │                   │                   │ kernel:           │\n",
      "│         │        │                   │                   │ \u001b[2mfloat32\u001b[0m[400,120]  │\n",
      "│         │        │                   │                   │                   │\n",
      "│         │        │                   │                   │ \u001b[1m48,120 \u001b[0m\u001b[1;2m(192.5 KB)\u001b[0m │\n",
      "├─────────┼────────┼───────────────────┼───────────────────┼───────────────────┤\n",
      "│ Dense_1 │ Dense  │ \u001b[2mfloat32\u001b[0m[1,120]    │ \u001b[2mfloat32\u001b[0m[1,84]     │ bias: \u001b[2mfloat32\u001b[0m[84] │\n",
      "│         │        │                   │                   │ kernel:           │\n",
      "│         │        │                   │                   │ \u001b[2mfloat32\u001b[0m[120,84]   │\n",
      "│         │        │                   │                   │                   │\n",
      "│         │        │                   │                   │ \u001b[1m10,164 \u001b[0m\u001b[1;2m(40.7 KB)\u001b[0m  │\n",
      "├─────────┼────────┼───────────────────┼───────────────────┼───────────────────┤\n",
      "│ Dense_2 │ Dense  │ \u001b[2mfloat32\u001b[0m[1,84]     │ \u001b[2mfloat32\u001b[0m[1,10]     │ bias: \u001b[2mfloat32\u001b[0m[10] │\n",
      "│         │        │                   │                   │ kernel:           │\n",
      "│         │        │                   │                   │ \u001b[2mfloat32\u001b[0m[84,10]    │\n",
      "│         │        │                   │                   │                   │\n",
      "│         │        │                   │                   │ \u001b[1m850 \u001b[0m\u001b[1;2m(3.4 KB)\u001b[0m      │\n",
      "├─────────┼────────┼───────────────────┼───────────────────┼───────────────────┤\n",
      "│\u001b[1m \u001b[0m\u001b[1m       \u001b[0m\u001b[1m \u001b[0m│\u001b[1m \u001b[0m\u001b[1m      \u001b[0m\u001b[1m \u001b[0m│\u001b[1m \u001b[0m\u001b[1m                 \u001b[0m\u001b[1m \u001b[0m│\u001b[1m \u001b[0m\u001b[1m            Total\u001b[0m\u001b[1m \u001b[0m│\u001b[1m \u001b[0m\u001b[1m61,706 \u001b[0m\u001b[1;2m(246.8 KB)\u001b[0m\u001b[1m \u001b[0m│\n",
      "└─────────┴────────┴───────────────────┴───────────────────┴───────────────────┘\n",
      "\u001b[1m                                                                                \u001b[0m\n",
      "\u001b[1m                      Total Parameters: 61,706 \u001b[0m\u001b[1;2m(246.8 KB)\u001b[0m\u001b[1m                       \u001b[0m\n",
      "\n",
      "\n"
     ]
    }
   ],
   "source": [
    "lenet = LeNet()\n",
    "print(lenet.tabulate(jax.random.key(0), jnp.ones((1, 28, 28))))"
   ]
  },
  {
   "cell_type": "code",
   "execution_count": 18,
   "metadata": {
    "colab": {
     "base_uri": "https://localhost:8080/",
     "height": 625
    },
    "id": "oHmPZPpq5E7i",
    "outputId": "a61847c3-9b6d-426d-88a3-702dbe2b7464",
    "tags": []
   },
   "outputs": [],
   "source": [
    "metrics_history = create_metrics_history()\n",
    "\n",
    "# optimizer = optax.sgd(learning_rate=0.0001)\n",
    "optimizer = optax.adam(learning_rate=0.001)\n",
    "model = LeNet()\n",
    "state = best_state = create_train_state(model, optimizer, jax.random.key(0))"
   ]
  },
  {
   "cell_type": "code",
   "execution_count": 19,
   "metadata": {
    "tags": []
   },
   "outputs": [
    {
     "name": "stdout",
     "output_type": "stream",
     "text": [
      "Epoch:    10, [Train] loss: 1.474, accuracy: 0.559, [Valid] loss: 1.395, accuracy: 0.571\n",
      "Epoch:    20, [Train] loss: 0.714, accuracy: 0.788, [Valid] loss: 0.699, accuracy: 0.792\n",
      "Epoch:    30, [Train] loss: 0.479, accuracy: 0.858, [Valid] loss: 0.477, accuracy: 0.855\n",
      "Epoch:    40, [Train] loss: 0.363, accuracy: 0.893, [Valid] loss: 0.366, accuracy: 0.889\n",
      "Epoch:    50, [Train] loss: 0.290, accuracy: 0.915, [Valid] loss: 0.297, accuracy: 0.910\n",
      "Epoch:    60, [Train] loss: 0.240, accuracy: 0.930, [Valid] loss: 0.250, accuracy: 0.927\n",
      "Epoch:    70, [Train] loss: 0.203, accuracy: 0.941, [Valid] loss: 0.217, accuracy: 0.937\n",
      "Epoch:    80, [Train] loss: 0.174, accuracy: 0.949, [Valid] loss: 0.192, accuracy: 0.946\n",
      "Epoch:    90, [Train] loss: 0.152, accuracy: 0.956, [Valid] loss: 0.172, accuracy: 0.951\n",
      "Epoch:   100, [Train] loss: 0.134, accuracy: 0.961, [Valid] loss: 0.157, accuracy: 0.955\n",
      "Epoch:   110, [Train] loss: 0.119, accuracy: 0.966, [Valid] loss: 0.145, accuracy: 0.958\n",
      "Epoch:   120, [Train] loss: 0.107, accuracy: 0.969, [Valid] loss: 0.135, accuracy: 0.962\n",
      "Epoch:   130, [Train] loss: 0.096, accuracy: 0.972, [Valid] loss: 0.126, accuracy: 0.966\n",
      "Epoch:   140, [Train] loss: 0.087, accuracy: 0.974, [Valid] loss: 0.120, accuracy: 0.967\n",
      "Epoch:   150, [Train] loss: 0.079, accuracy: 0.977, [Valid] loss: 0.114, accuracy: 0.969\n",
      "Epoch:   160, [Train] loss: 0.072, accuracy: 0.979, [Valid] loss: 0.109, accuracy: 0.970\n",
      "Epoch:   170, [Train] loss: 0.066, accuracy: 0.981, [Valid] loss: 0.106, accuracy: 0.970\n",
      "Epoch:   180, [Train] loss: 0.061, accuracy: 0.983, [Valid] loss: 0.103, accuracy: 0.971\n",
      "Epoch:   190, [Train] loss: 0.055, accuracy: 0.985, [Valid] loss: 0.100, accuracy: 0.972\n",
      "Epoch:   200, [Train] loss: 0.051, accuracy: 0.987, [Valid] loss: 0.098, accuracy: 0.973\n",
      "Epoch:   210, [Train] loss: 0.047, accuracy: 0.988, [Valid] loss: 0.097, accuracy: 0.973\n",
      "Epoch:   220, [Train] loss: 0.043, accuracy: 0.989, [Valid] loss: 0.095, accuracy: 0.974\n",
      "Epoch:   230, [Train] loss: 0.039, accuracy: 0.990, [Valid] loss: 0.095, accuracy: 0.973\n",
      "Epoch:   240, [Train] loss: 0.036, accuracy: 0.991, [Valid] loss: 0.095, accuracy: 0.973\n",
      "Epoch:   250, [Train] loss: 0.033, accuracy: 0.992, [Valid] loss: 0.095, accuracy: 0.973\n",
      "Epoch:   260, [Train] loss: 0.030, accuracy: 0.993, [Valid] loss: 0.096, accuracy: 0.973\n",
      "Epoch:   270, [Train] loss: 0.028, accuracy: 0.994, [Valid] loss: 0.096, accuracy: 0.973\n",
      "Epoch:   280, [Train] loss: 0.025, accuracy: 0.995, [Valid] loss: 0.094, accuracy: 0.974\n",
      "Epoch:   290, [Train] loss: 0.023, accuracy: 0.996, [Valid] loss: 0.092, accuracy: 0.975\n",
      "Epoch:   300, [Train] loss: 0.020, accuracy: 0.996, [Valid] loss: 0.092, accuracy: 0.975\n",
      "Epoch:   310, [Train] loss: 0.020, accuracy: 0.996, [Valid] loss: 0.097, accuracy: 0.975\n",
      "Epoch:   320, [Train] loss: 0.017, accuracy: 0.997, [Valid] loss: 0.094, accuracy: 0.976\n",
      "Epoch:   330, [Train] loss: 0.015, accuracy: 0.998, [Valid] loss: 0.094, accuracy: 0.976\n",
      "Epoch:   340, [Train] loss: 0.013, accuracy: 0.998, [Valid] loss: 0.094, accuracy: 0.976\n",
      "Epoch:   350, [Train] loss: 0.012, accuracy: 0.998, [Valid] loss: 0.095, accuracy: 0.976\n",
      "Epoch:   360, [Train] loss: 0.011, accuracy: 0.999, [Valid] loss: 0.096, accuracy: 0.975\n",
      "Epoch:   370, [Train] loss: 0.010, accuracy: 0.999, [Valid] loss: 0.097, accuracy: 0.975\n",
      "Epoch:   380, [Train] loss: 0.009, accuracy: 0.999, [Valid] loss: 0.099, accuracy: 0.975\n",
      "Epoch:   390, [Train] loss: 0.008, accuracy: 0.999, [Valid] loss: 0.100, accuracy: 0.975\n",
      "Epoch:   400, [Train] loss: 0.007, accuracy: 0.999, [Valid] loss: 0.101, accuracy: 0.975\n",
      "Epoch:   410, [Train] loss: 0.006, accuracy: 1.000, [Valid] loss: 0.101, accuracy: 0.976\n",
      "Epoch:   420, [Train] loss: 0.006, accuracy: 1.000, [Valid] loss: 0.101, accuracy: 0.976\n",
      "Epoch:   430, [Train] loss: 0.005, accuracy: 1.000, [Valid] loss: 0.102, accuracy: 0.977\n",
      "Epoch:   440, [Train] loss: 0.005, accuracy: 0.999, [Valid] loss: 0.105, accuracy: 0.975\n",
      "Epoch:   450, [Train] loss: 0.006, accuracy: 0.999, [Valid] loss: 0.108, accuracy: 0.974\n",
      "Epoch:   460, [Train] loss: 0.006, accuracy: 0.999, [Valid] loss: 0.111, accuracy: 0.975\n",
      "Epoch:   470, [Train] loss: 0.004, accuracy: 1.000, [Valid] loss: 0.114, accuracy: 0.974\n",
      "Epoch:   480, [Train] loss: 0.004, accuracy: 1.000, [Valid] loss: 0.114, accuracy: 0.975\n",
      "Epoch:   490, [Train] loss: 0.003, accuracy: 1.000, [Valid] loss: 0.112, accuracy: 0.975\n",
      "Epoch:   500, [Train] loss: 0.003, accuracy: 1.000, [Valid] loss: 0.113, accuracy: 0.976\n",
      "Epoch:   510, [Train] loss: 0.003, accuracy: 1.000, [Valid] loss: 0.122, accuracy: 0.975\n",
      "Epoch:   520, [Train] loss: 0.003, accuracy: 1.000, [Valid] loss: 0.117, accuracy: 0.976\n",
      "Epoch:   530, [Train] loss: 0.002, accuracy: 1.000, [Valid] loss: 0.122, accuracy: 0.974\n",
      "Epoch:   540, [Train] loss: 0.002, accuracy: 1.000, [Valid] loss: 0.125, accuracy: 0.973\n",
      "Epoch:   550, [Train] loss: 0.002, accuracy: 1.000, [Valid] loss: 0.127, accuracy: 0.973\n",
      "Epoch:   560, [Train] loss: 0.002, accuracy: 1.000, [Valid] loss: 0.128, accuracy: 0.974\n",
      "Epoch:   570, [Train] loss: 0.003, accuracy: 1.000, [Valid] loss: 0.127, accuracy: 0.974\n",
      "Epoch:   580, [Train] loss: 0.003, accuracy: 1.000, [Valid] loss: 0.124, accuracy: 0.975\n",
      "Epoch:   590, [Train] loss: 0.005, accuracy: 0.999, [Valid] loss: 0.120, accuracy: 0.977\n",
      "Epoch:   600, [Train] loss: 0.007, accuracy: 0.998, [Valid] loss: 0.133, accuracy: 0.974\n",
      "Epoch:   610, [Train] loss: 0.001, accuracy: 1.000, [Valid] loss: 0.124, accuracy: 0.976\n",
      "Epoch:   620, [Train] loss: 0.001, accuracy: 1.000, [Valid] loss: 0.127, accuracy: 0.977\n",
      "Epoch:   630, [Train] loss: 0.001, accuracy: 1.000, [Valid] loss: 0.129, accuracy: 0.976\n",
      "Epoch:   640, [Train] loss: 0.001, accuracy: 1.000, [Valid] loss: 0.131, accuracy: 0.976\n",
      "Epoch:   650, [Train] loss: 0.001, accuracy: 1.000, [Valid] loss: 0.131, accuracy: 0.976\n",
      "Epoch:   660, [Train] loss: 0.001, accuracy: 1.000, [Valid] loss: 0.130, accuracy: 0.976\n",
      "Epoch:   670, [Train] loss: 0.001, accuracy: 1.000, [Valid] loss: 0.129, accuracy: 0.977\n",
      "Epoch:   680, [Train] loss: 0.002, accuracy: 1.000, [Valid] loss: 0.128, accuracy: 0.977\n",
      "Epoch:   690, [Train] loss: 0.002, accuracy: 1.000, [Valid] loss: 0.128, accuracy: 0.977\n",
      "Epoch:   700, [Train] loss: 0.002, accuracy: 1.000, [Valid] loss: 0.128, accuracy: 0.977\n",
      "Epoch:   710, [Train] loss: 0.002, accuracy: 1.000, [Valid] loss: 0.131, accuracy: 0.977\n",
      "Epoch:   720, [Train] loss: 0.003, accuracy: 1.000, [Valid] loss: 0.157, accuracy: 0.971\n",
      "Epoch:   730, [Train] loss: 0.004, accuracy: 0.999, [Valid] loss: 0.176, accuracy: 0.969\n",
      "Epoch:   740, [Train] loss: 0.003, accuracy: 1.000, [Valid] loss: 0.139, accuracy: 0.976\n",
      "Epoch:   750, [Train] loss: 0.001, accuracy: 1.000, [Valid] loss: 0.146, accuracy: 0.976\n",
      "Epoch:   760, [Train] loss: 0.002, accuracy: 1.000, [Valid] loss: 0.155, accuracy: 0.974\n",
      "Epoch:   770, [Train] loss: 0.002, accuracy: 0.999, [Valid] loss: 0.163, accuracy: 0.972\n",
      "Epoch:   780, [Train] loss: 0.003, accuracy: 0.999, [Valid] loss: 0.171, accuracy: 0.971\n",
      "Epoch:   790, [Train] loss: 0.003, accuracy: 0.999, [Valid] loss: 0.181, accuracy: 0.969\n",
      "Epoch:   800, [Train] loss: 0.005, accuracy: 0.998, [Valid] loss: 0.178, accuracy: 0.969\n"
     ]
    }
   ],
   "source": [
    "state, best_state, metrics_history = train_model(\n",
    "    state, best_state, num_epochs=800, report_every=10, \n",
    "    batch_size=4096, metrics_history=metrics_history\n",
    ")"
   ]
  },
  {
   "cell_type": "code",
   "execution_count": 21,
   "metadata": {
    "tags": []
   },
   "outputs": [
    {
     "name": "stdout",
     "output_type": "stream",
     "text": [
      "[Test] Epoch: 293 accuracy: 0.933 loss: 0.265 \n",
      "[Test] Epoch: 800 accuracy: 0.922 loss: 0.540 \n"
     ]
    }
   ],
   "source": [
    "metrics_history = evaluate_on_test(state, best_state, metrics_history)"
   ]
  },
  {
   "cell_type": "code",
   "execution_count": 22,
   "metadata": {
    "tags": []
   },
   "outputs": [
    {
     "data": {
      "image/png": "[encoded data removed]",
      "text/plain": [
       "<Figure size 1500x500 with 2 Axes>"
      ]
     },
     "metadata": {},
     "output_type": "display_data"
    }
   ],
   "source": [
    "plot_metrics(metrics_history)"
   ]
  },
  {
   "cell_type": "code",
   "execution_count": 23,
   "metadata": {
    "tags": []
   },
   "outputs": [],
   "source": [
    "class LeNetWithReLUAndMaxPool(nn.Module):\n",
    "    @nn.compact\n",
    "    def __call__(self, x):\n",
    "        x = x[..., None]\n",
    "\n",
    "        x = nn.Conv(features=6, kernel_size=(5, 5), padding=(2, 2))(x)\n",
    "        x = nn.relu(x)\n",
    "        x = nn.max_pool(x, window_shape=(2, 2), strides=(2, 2))\n",
    "\n",
    "        x = nn.Conv(features=16, kernel_size=(5, 5), padding=(0, 0))(x)\n",
    "        x = nn.relu(x)\n",
    "        x = nn.max_pool(x, window_shape=(2, 2), strides=(2, 2))\n",
    "\n",
    "        x = x.reshape((x.shape[0], -1))\n",
    "\n",
    "        x = nn.Dense(features=120)(x)\n",
    "        x = nn.relu(x)\n",
    "\n",
    "        x = nn.Dense(features=84)(x)\n",
    "        x = nn.relu(x)\n",
    "\n",
    "        x = nn.Dense(features=10)(x)\n",
    "\n",
    "        return x"
   ]
  },
  {
   "cell_type": "code",
   "execution_count": 24,
   "metadata": {
    "tags": []
   },
   "outputs": [],
   "source": [
    "metrics_history = create_metrics_history()\n",
    "\n",
    "# optimizer = optax.sgd(learning_rate=0.0001)\n",
    "optimizer = optax.adam(learning_rate=0.001)\n",
    "model = LeNetWithReLUAndMaxPool()\n",
    "state = best_state = create_train_state(model, optimizer, jax.random.key(0))"
   ]
  },
  {
   "cell_type": "code",
   "execution_count": 25,
   "metadata": {
    "tags": []
   },
   "outputs": [
    {
     "name": "stdout",
     "output_type": "stream",
     "text": [
      "Epoch:    10, [Train] loss: 0.308, accuracy: 0.906, [Valid] loss: 0.306, accuracy: 0.906\n",
      "Epoch:    20, [Train] loss: 0.163, accuracy: 0.950, [Valid] loss: 0.182, accuracy: 0.947\n",
      "Epoch:    30, [Train] loss: 0.111, accuracy: 0.966, [Valid] loss: 0.140, accuracy: 0.957\n",
      "Epoch:    40, [Train] loss: 0.083, accuracy: 0.975, [Valid] loss: 0.125, accuracy: 0.962\n",
      "Epoch:    50, [Train] loss: 0.069, accuracy: 0.979, [Valid] loss: 0.101, accuracy: 0.971\n",
      "Epoch:    60, [Train] loss: 0.050, accuracy: 0.985, [Valid] loss: 0.093, accuracy: 0.973\n",
      "Epoch:    70, [Train] loss: 0.040, accuracy: 0.989, [Valid] loss: 0.088, accuracy: 0.974\n",
      "Epoch:    80, [Train] loss: 0.032, accuracy: 0.991, [Valid] loss: 0.089, accuracy: 0.975\n",
      "Epoch:    90, [Train] loss: 0.030, accuracy: 0.991, [Valid] loss: 0.101, accuracy: 0.972\n",
      "Epoch:   100, [Train] loss: 0.032, accuracy: 0.990, [Valid] loss: 0.107, accuracy: 0.972\n",
      "Epoch:   110, [Train] loss: 0.017, accuracy: 0.996, [Valid] loss: 0.092, accuracy: 0.978\n",
      "Epoch:   120, [Train] loss: 0.013, accuracy: 0.997, [Valid] loss: 0.099, accuracy: 0.978\n",
      "Epoch:   130, [Train] loss: 0.010, accuracy: 0.998, [Valid] loss: 0.108, accuracy: 0.978\n",
      "Epoch:   140, [Train] loss: 0.019, accuracy: 0.993, [Valid] loss: 0.125, accuracy: 0.973\n",
      "Epoch:   150, [Train] loss: 0.012, accuracy: 0.997, [Valid] loss: 0.135, accuracy: 0.973\n",
      "Epoch:   160, [Train] loss: 0.007, accuracy: 0.999, [Valid] loss: 0.123, accuracy: 0.974\n",
      "Epoch:   170, [Train] loss: 0.007, accuracy: 0.999, [Valid] loss: 0.131, accuracy: 0.975\n",
      "Epoch:   180, [Train] loss: 0.011, accuracy: 0.997, [Valid] loss: 0.171, accuracy: 0.969\n",
      "Epoch:   190, [Train] loss: 0.006, accuracy: 0.999, [Valid] loss: 0.118, accuracy: 0.976\n",
      "Epoch:   200, [Train] loss: 0.004, accuracy: 0.999, [Valid] loss: 0.132, accuracy: 0.975\n",
      "Epoch:   210, [Train] loss: 0.003, accuracy: 1.000, [Valid] loss: 0.149, accuracy: 0.970\n",
      "Epoch:   220, [Train] loss: 0.005, accuracy: 0.999, [Valid] loss: 0.154, accuracy: 0.972\n",
      "Epoch:   230, [Train] loss: 0.010, accuracy: 0.997, [Valid] loss: 0.168, accuracy: 0.973\n",
      "Epoch:   240, [Train] loss: 0.001, accuracy: 1.000, [Valid] loss: 0.123, accuracy: 0.979\n",
      "Epoch:   250, [Train] loss: 0.000, accuracy: 1.000, [Valid] loss: 0.128, accuracy: 0.980\n",
      "Epoch:   260, [Train] loss: 0.000, accuracy: 1.000, [Valid] loss: 0.133, accuracy: 0.980\n",
      "Epoch:   270, [Train] loss: 0.000, accuracy: 1.000, [Valid] loss: 0.136, accuracy: 0.980\n",
      "Epoch:   280, [Train] loss: 0.000, accuracy: 1.000, [Valid] loss: 0.140, accuracy: 0.980\n",
      "Epoch:   290, [Train] loss: 0.000, accuracy: 1.000, [Valid] loss: 0.142, accuracy: 0.980\n",
      "Epoch:   300, [Train] loss: 0.000, accuracy: 1.000, [Valid] loss: 0.145, accuracy: 0.980\n",
      "Epoch:   310, [Train] loss: 0.000, accuracy: 1.000, [Valid] loss: 0.147, accuracy: 0.980\n",
      "Epoch:   320, [Train] loss: 0.000, accuracy: 1.000, [Valid] loss: 0.150, accuracy: 0.980\n",
      "Epoch:   330, [Train] loss: 0.000, accuracy: 1.000, [Valid] loss: 0.152, accuracy: 0.980\n",
      "Epoch:   340, [Train] loss: 0.000, accuracy: 1.000, [Valid] loss: 0.154, accuracy: 0.980\n",
      "Epoch:   350, [Train] loss: 0.000, accuracy: 1.000, [Valid] loss: 0.156, accuracy: 0.980\n",
      "Epoch:   360, [Train] loss: 0.000, accuracy: 1.000, [Valid] loss: 0.158, accuracy: 0.980\n",
      "Epoch:   370, [Train] loss: 0.000, accuracy: 1.000, [Valid] loss: 0.160, accuracy: 0.979\n",
      "Epoch:   380, [Train] loss: 0.000, accuracy: 1.000, [Valid] loss: 0.161, accuracy: 0.979\n",
      "Epoch:   390, [Train] loss: 0.000, accuracy: 1.000, [Valid] loss: 0.163, accuracy: 0.979\n",
      "Epoch:   400, [Train] loss: 0.000, accuracy: 1.000, [Valid] loss: 0.165, accuracy: 0.979\n",
      "Epoch:   410, [Train] loss: 0.000, accuracy: 1.000, [Valid] loss: 0.167, accuracy: 0.979\n",
      "Epoch:   420, [Train] loss: 0.000, accuracy: 1.000, [Valid] loss: 0.168, accuracy: 0.980\n",
      "Epoch:   430, [Train] loss: 0.000, accuracy: 1.000, [Valid] loss: 0.170, accuracy: 0.980\n",
      "Epoch:   440, [Train] loss: 0.000, accuracy: 1.000, [Valid] loss: 0.172, accuracy: 0.980\n",
      "Epoch:   450, [Train] loss: 0.000, accuracy: 1.000, [Valid] loss: 0.173, accuracy: 0.980\n",
      "Epoch:   460, [Train] loss: 0.000, accuracy: 1.000, [Valid] loss: 0.175, accuracy: 0.979\n",
      "Epoch:   470, [Train] loss: 0.000, accuracy: 1.000, [Valid] loss: 0.177, accuracy: 0.979\n",
      "Epoch:   480, [Train] loss: 0.000, accuracy: 1.000, [Valid] loss: 0.178, accuracy: 0.979\n",
      "Epoch:   490, [Train] loss: 0.000, accuracy: 1.000, [Valid] loss: 0.180, accuracy: 0.979\n",
      "Epoch:   500, [Train] loss: 0.000, accuracy: 1.000, [Valid] loss: 0.182, accuracy: 0.979\n",
      "Epoch:   510, [Train] loss: 0.000, accuracy: 1.000, [Valid] loss: 0.183, accuracy: 0.979\n",
      "Epoch:   520, [Train] loss: 0.000, accuracy: 1.000, [Valid] loss: 0.185, accuracy: 0.979\n",
      "Epoch:   530, [Train] loss: 0.000, accuracy: 1.000, [Valid] loss: 0.187, accuracy: 0.979\n",
      "Epoch:   540, [Train] loss: 0.000, accuracy: 1.000, [Valid] loss: 0.188, accuracy: 0.979\n",
      "Epoch:   550, [Train] loss: 0.000, accuracy: 1.000, [Valid] loss: 0.190, accuracy: 0.979\n",
      "Epoch:   560, [Train] loss: 0.000, accuracy: 1.000, [Valid] loss: 0.191, accuracy: 0.979\n",
      "Epoch:   570, [Train] loss: 0.000, accuracy: 1.000, [Valid] loss: 0.193, accuracy: 0.979\n",
      "Epoch:   580, [Train] loss: 0.000, accuracy: 1.000, [Valid] loss: 0.195, accuracy: 0.979\n",
      "Epoch:   590, [Train] loss: 0.000, accuracy: 1.000, [Valid] loss: 0.196, accuracy: 0.979\n",
      "Epoch:   600, [Train] loss: 0.000, accuracy: 1.000, [Valid] loss: 0.198, accuracy: 0.979\n",
      "Epoch:   610, [Train] loss: 0.000, accuracy: 1.000, [Valid] loss: 0.199, accuracy: 0.979\n",
      "Epoch:   620, [Train] loss: 0.000, accuracy: 1.000, [Valid] loss: 0.201, accuracy: 0.979\n",
      "Epoch:   630, [Train] loss: 0.000, accuracy: 1.000, [Valid] loss: 0.202, accuracy: 0.979\n",
      "Epoch:   640, [Train] loss: 0.000, accuracy: 1.000, [Valid] loss: 0.204, accuracy: 0.979\n",
      "Epoch:   650, [Train] loss: 0.000, accuracy: 1.000, [Valid] loss: 0.205, accuracy: 0.979\n",
      "Epoch:   660, [Train] loss: 0.000, accuracy: 1.000, [Valid] loss: 0.207, accuracy: 0.979\n",
      "Epoch:   670, [Train] loss: 0.000, accuracy: 1.000, [Valid] loss: 0.208, accuracy: 0.979\n",
      "Epoch:   680, [Train] loss: 0.000, accuracy: 1.000, [Valid] loss: 0.209, accuracy: 0.978\n",
      "Epoch:   690, [Train] loss: 0.000, accuracy: 1.000, [Valid] loss: 0.211, accuracy: 0.978\n",
      "Epoch:   700, [Train] loss: 0.000, accuracy: 1.000, [Valid] loss: 0.213, accuracy: 0.978\n",
      "Epoch:   710, [Train] loss: 0.000, accuracy: 1.000, [Valid] loss: 0.214, accuracy: 0.978\n",
      "Epoch:   720, [Train] loss: 0.000, accuracy: 1.000, [Valid] loss: 0.216, accuracy: 0.978\n",
      "Epoch:   730, [Train] loss: 0.000, accuracy: 1.000, [Valid] loss: 0.217, accuracy: 0.978\n",
      "Epoch:   740, [Train] loss: 0.000, accuracy: 1.000, [Valid] loss: 0.218, accuracy: 0.978\n",
      "Epoch:   750, [Train] loss: 0.000, accuracy: 1.000, [Valid] loss: 0.220, accuracy: 0.978\n",
      "Epoch:   760, [Train] loss: 0.000, accuracy: 1.000, [Valid] loss: 0.221, accuracy: 0.978\n",
      "Epoch:   770, [Train] loss: 0.000, accuracy: 1.000, [Valid] loss: 0.223, accuracy: 0.978\n",
      "Epoch:   780, [Train] loss: 0.000, accuracy: 1.000, [Valid] loss: 0.224, accuracy: 0.978\n",
      "Epoch:   790, [Train] loss: 0.000, accuracy: 1.000, [Valid] loss: 0.226, accuracy: 0.978\n",
      "Epoch:   800, [Train] loss: 0.000, accuracy: 1.000, [Valid] loss: 0.227, accuracy: 0.978\n",
      "Epoch:   810, [Train] loss: 0.000, accuracy: 1.000, [Valid] loss: 0.228, accuracy: 0.978\n",
      "Epoch:   820, [Train] loss: 0.000, accuracy: 1.000, [Valid] loss: 0.230, accuracy: 0.978\n",
      "Epoch:   830, [Train] loss: 0.000, accuracy: 1.000, [Valid] loss: 0.231, accuracy: 0.978\n",
      "Epoch:   840, [Train] loss: 0.000, accuracy: 1.000, [Valid] loss: 0.233, accuracy: 0.978\n",
      "Epoch:   850, [Train] loss: 0.000, accuracy: 1.000, [Valid] loss: 0.234, accuracy: 0.978\n",
      "Epoch:   860, [Train] loss: 0.000, accuracy: 1.000, [Valid] loss: 0.236, accuracy: 0.978\n",
      "Epoch:   870, [Train] loss: 0.000, accuracy: 1.000, [Valid] loss: 0.237, accuracy: 0.978\n",
      "Epoch:   880, [Train] loss: 0.000, accuracy: 1.000, [Valid] loss: 0.239, accuracy: 0.978\n",
      "Epoch:   890, [Train] loss: 0.000, accuracy: 1.000, [Valid] loss: 0.240, accuracy: 0.978\n",
      "Epoch:   900, [Train] loss: 0.000, accuracy: 1.000, [Valid] loss: 0.242, accuracy: 0.978\n",
      "Epoch:   910, [Train] loss: 0.000, accuracy: 1.000, [Valid] loss: 0.243, accuracy: 0.978\n",
      "Epoch:   920, [Train] loss: 0.000, accuracy: 1.000, [Valid] loss: 0.245, accuracy: 0.978\n",
      "Epoch:   930, [Train] loss: 0.000, accuracy: 1.000, [Valid] loss: 0.246, accuracy: 0.978\n",
      "Epoch:   940, [Train] loss: 0.000, accuracy: 1.000, [Valid] loss: 0.247, accuracy: 0.978\n",
      "Epoch:   950, [Train] loss: 0.000, accuracy: 1.000, [Valid] loss: 0.249, accuracy: 0.978\n",
      "Epoch:   960, [Train] loss: 0.000, accuracy: 1.000, [Valid] loss: 0.250, accuracy: 0.978\n",
      "Epoch:   970, [Train] loss: 0.000, accuracy: 1.000, [Valid] loss: 0.252, accuracy: 0.978\n",
      "Epoch:   980, [Train] loss: 0.000, accuracy: 1.000, [Valid] loss: 0.253, accuracy: 0.978\n",
      "Epoch:   990, [Train] loss: 0.000, accuracy: 1.000, [Valid] loss: 0.254, accuracy: 0.978\n",
      "Epoch:  1000, [Train] loss: 0.000, accuracy: 1.000, [Valid] loss: 0.256, accuracy: 0.978\n",
      "[Test] Epoch: 72 accuracy: 0.923 loss: 0.301 \n",
      "[Test] Epoch: 1000 accuracy: 0.945 loss: 0.745 \n"
     ]
    }
   ],
   "source": [
    "state, best_state, metrics_history = train_model(\n",
    "    state, best_state, num_epochs=1000, report_every=10, \n",
    "    batch_size=4096, metrics_history=metrics_history\n",
    ")\n",
    "evaluate_on_test(state, best_state, metrics_history);"
   ]
  },
  {
   "cell_type": "code",
   "execution_count": 26,
   "metadata": {
    "tags": []
   },
   "outputs": [
    {
     "data": {
      "image/png": "[encoded data removed]",
      "text/plain": [
       "<Figure size 1500x500 with 2 Axes>"
      ]
     },
     "metadata": {},
     "output_type": "display_data"
    }
   ],
   "source": [
    "plot_metrics(metrics_history)"
   ]
  },
  {
   "cell_type": "code",
   "execution_count": null,
   "metadata": {},
   "outputs": [],
   "source": []
  },
  {
   "cell_type": "code",
   "execution_count": null,
   "metadata": {},
   "outputs": [],
   "source": []
  },
  {
   "cell_type": "code",
   "execution_count": null,
   "metadata": {},
   "outputs": [],
   "source": []
  },
  {
   "cell_type": "code",
   "execution_count": null,
   "metadata": {},
   "outputs": [],
   "source": []
  },
  {
   "cell_type": "code",
   "execution_count": 11,
   "metadata": {
    "id": "zNcXGLr46U4f",
    "tags": []
   },
   "outputs": [],
   "source": [
    "class CNNDropout(nn.Module):\n",
    "    @nn.compact\n",
    "    def __call__(self, x, training: bool):\n",
    "        x = x[..., None]\n",
    "        x = nn.Conv(features=32, kernel_size=(3, 3))(x)\n",
    "        x = nn.relu(x)\n",
    "        x = nn.avg_pool(x, window_shape=(2, 2), strides=(2, 2))\n",
    "        x = nn.Dropout(rate=0.5, deterministic=not training)(x)\n",
    "        x = nn.Conv(features=64, kernel_size=(3, 3))(x)\n",
    "        x = nn.relu(x)\n",
    "        x = nn.avg_pool(x, window_shape=(2, 2), strides=(2, 2))\n",
    "        x = nn.Dropout(rate=0.5, deterministic=not training)(x)\n",
    "        x = x.reshape((x.shape[0], -1))\n",
    "        x = nn.Dropout(rate=0.5, deterministic=not training)(x)\n",
    "        x = nn.Dense(features=256)(x)\n",
    "        x = nn.relu(x)\n",
    "        x = nn.Dropout(rate=0.5, deterministic=not training)(x)\n",
    "        x = nn.Dense(features=256)(x)\n",
    "        x = nn.relu(x)\n",
    "        x = nn.Dropout(rate=0.5, deterministic=not training)(x)\n",
    "        x = nn.Dense(features=256)(x)\n",
    "        x = nn.relu(x)\n",
    "        x = nn.Dropout(rate=0.5, deterministic=not training)(x)\n",
    "        x = nn.Dense(features=256)(x)\n",
    "        x = nn.relu(x)\n",
    "        x = nn.Dropout(rate=0.5, deterministic=not training)(x)\n",
    "        x = nn.Dense(features=10)(x)\n",
    "        return x\n",
    "\n",
    "cnnd = CNNDropout()"
   ]
  },
  {
   "cell_type": "code",
   "execution_count": 12,
   "metadata": {
    "colab": {
     "base_uri": "https://localhost:8080/"
    },
    "id": "pOsSlgiGAIV9",
    "outputId": "efcfa5ec-fccc-42b7-cebb-007e35287799",
    "tags": []
   },
   "outputs": [
    {
     "name": "stdout",
     "output_type": "stream",
     "text": [
      "\n",
      "\u001b[3m                               CNNDropout Summary                               \u001b[0m\n",
      "┏━━━━━━━━━━━┳━━━━━━━━━━━━┳━━━━━━━━━━━━━━━━━┳━━━━━━━━━━━━━━━━━┳━━━━━━━━━━━━━━━━━┓\n",
      "┃\u001b[1m \u001b[0m\u001b[1mpath     \u001b[0m\u001b[1m \u001b[0m┃\u001b[1m \u001b[0m\u001b[1mmodule    \u001b[0m\u001b[1m \u001b[0m┃\u001b[1m \u001b[0m\u001b[1minputs         \u001b[0m\u001b[1m \u001b[0m┃\u001b[1m \u001b[0m\u001b[1moutputs        \u001b[0m\u001b[1m \u001b[0m┃\u001b[1m \u001b[0m\u001b[1mparams         \u001b[0m\u001b[1m \u001b[0m┃\n",
      "┡━━━━━━━━━━━╇━━━━━━━━━━━━╇━━━━━━━━━━━━━━━━━╇━━━━━━━━━━━━━━━━━╇━━━━━━━━━━━━━━━━━┩\n",
      "│           │ CNNDropout │ -               │ \u001b[2mfloat32\u001b[0m[1,10]   │                 │\n",
      "│           │            │ \u001b[2mfloat32\u001b[0m[1,28,2… │                 │                 │\n",
      "│           │            │ - training:     │                 │                 │\n",
      "│           │            │ False           │                 │                 │\n",
      "├───────────┼────────────┼─────────────────┼─────────────────┼─────────────────┤\n",
      "│ Conv_0    │ Conv       │ \u001b[2mfloat32\u001b[0m[1,28,2… │ \u001b[2mfloat32\u001b[0m[1,28,2… │ bias:           │\n",
      "│           │            │                 │                 │ \u001b[2mfloat32\u001b[0m[32]     │\n",
      "│           │            │                 │                 │ kernel:         │\n",
      "│           │            │                 │                 │ \u001b[2mfloat32\u001b[0m[3,3,1,… │\n",
      "│           │            │                 │                 │                 │\n",
      "│           │            │                 │                 │ \u001b[1m320 \u001b[0m\u001b[1;2m(1.3 KB)\u001b[0m    │\n",
      "├───────────┼────────────┼─────────────────┼─────────────────┼─────────────────┤\n",
      "│ Dropout_0 │ Dropout    │ \u001b[2mfloat32\u001b[0m[1,14,1… │ \u001b[2mfloat32\u001b[0m[1,14,1… │                 │\n",
      "├───────────┼────────────┼─────────────────┼─────────────────┼─────────────────┤\n",
      "│ Conv_1    │ Conv       │ \u001b[2mfloat32\u001b[0m[1,14,1… │ \u001b[2mfloat32\u001b[0m[1,14,1… │ bias:           │\n",
      "│           │            │                 │                 │ \u001b[2mfloat32\u001b[0m[64]     │\n",
      "│           │            │                 │                 │ kernel:         │\n",
      "│           │            │                 │                 │ \u001b[2mfloat32\u001b[0m[3,3,32… │\n",
      "│           │            │                 │                 │                 │\n",
      "│           │            │                 │                 │ \u001b[1m18,496 \u001b[0m\u001b[1;2m(74.0 \u001b[0m   │\n",
      "│           │            │                 │                 │ \u001b[1;2mKB)\u001b[0m             │\n",
      "├───────────┼────────────┼─────────────────┼─────────────────┼─────────────────┤\n",
      "│ Dropout_1 │ Dropout    │ \u001b[2mfloat32\u001b[0m[1,7,7,… │ \u001b[2mfloat32\u001b[0m[1,7,7,… │                 │\n",
      "├───────────┼────────────┼─────────────────┼─────────────────┼─────────────────┤\n",
      "│ Dropout_2 │ Dropout    │ \u001b[2mfloat32\u001b[0m[1,3136] │ \u001b[2mfloat32\u001b[0m[1,3136] │                 │\n",
      "├───────────┼────────────┼─────────────────┼─────────────────┼─────────────────┤\n",
      "│ Dense_0   │ Dense      │ \u001b[2mfloat32\u001b[0m[1,3136] │ \u001b[2mfloat32\u001b[0m[1,512]  │ bias:           │\n",
      "│           │            │                 │                 │ \u001b[2mfloat32\u001b[0m[512]    │\n",
      "│           │            │                 │                 │ kernel:         │\n",
      "│           │            │                 │                 │ \u001b[2mfloat32\u001b[0m[3136,5… │\n",
      "│           │            │                 │                 │                 │\n",
      "│           │            │                 │                 │ \u001b[1m1,606,144 \u001b[0m\u001b[1;2m(6.4 \u001b[0m │\n",
      "│           │            │                 │                 │ \u001b[1;2mMB)\u001b[0m             │\n",
      "├───────────┼────────────┼─────────────────┼─────────────────┼─────────────────┤\n",
      "│ Dropout_3 │ Dropout    │ \u001b[2mfloat32\u001b[0m[1,512]  │ \u001b[2mfloat32\u001b[0m[1,512]  │                 │\n",
      "├───────────┼────────────┼─────────────────┼─────────────────┼─────────────────┤\n",
      "│ Dense_1   │ Dense      │ \u001b[2mfloat32\u001b[0m[1,512]  │ \u001b[2mfloat32\u001b[0m[1,256]  │ bias:           │\n",
      "│           │            │                 │                 │ \u001b[2mfloat32\u001b[0m[256]    │\n",
      "│           │            │                 │                 │ kernel:         │\n",
      "│           │            │                 │                 │ \u001b[2mfloat32\u001b[0m[512,25… │\n",
      "│           │            │                 │                 │                 │\n",
      "│           │            │                 │                 │ \u001b[1m131,328 \u001b[0m\u001b[1;2m(525.3 \u001b[0m │\n",
      "│           │            │                 │                 │ \u001b[1;2mKB)\u001b[0m             │\n",
      "├───────────┼────────────┼─────────────────┼─────────────────┼─────────────────┤\n",
      "│ Dropout_4 │ Dropout    │ \u001b[2mfloat32\u001b[0m[1,256]  │ \u001b[2mfloat32\u001b[0m[1,256]  │                 │\n",
      "├───────────┼────────────┼─────────────────┼─────────────────┼─────────────────┤\n",
      "│ Dense_2   │ Dense      │ \u001b[2mfloat32\u001b[0m[1,256]  │ \u001b[2mfloat32\u001b[0m[1,128]  │ bias:           │\n",
      "│           │            │                 │                 │ \u001b[2mfloat32\u001b[0m[128]    │\n",
      "│           │            │                 │                 │ kernel:         │\n",
      "│           │            │                 │                 │ \u001b[2mfloat32\u001b[0m[256,12… │\n",
      "│           │            │                 │                 │                 │\n",
      "│           │            │                 │                 │ \u001b[1m32,896 \u001b[0m\u001b[1;2m(131.6 \u001b[0m  │\n",
      "│           │            │                 │                 │ \u001b[1;2mKB)\u001b[0m             │\n",
      "├───────────┼────────────┼─────────────────┼─────────────────┼─────────────────┤\n",
      "│ Dropout_5 │ Dropout    │ \u001b[2mfloat32\u001b[0m[1,128]  │ \u001b[2mfloat32\u001b[0m[1,128]  │                 │\n",
      "├───────────┼────────────┼─────────────────┼─────────────────┼─────────────────┤\n",
      "│ Dense_3   │ Dense      │ \u001b[2mfloat32\u001b[0m[1,128]  │ \u001b[2mfloat32\u001b[0m[1,64]   │ bias:           │\n",
      "│           │            │                 │                 │ \u001b[2mfloat32\u001b[0m[64]     │\n",
      "│           │            │                 │                 │ kernel:         │\n",
      "│           │            │                 │                 │ \u001b[2mfloat32\u001b[0m[128,64] │\n",
      "│           │            │                 │                 │                 │\n",
      "│           │            │                 │                 │ \u001b[1m8,256 \u001b[0m\u001b[1;2m(33.0 KB)\u001b[0m │\n",
      "├───────────┼────────────┼─────────────────┼─────────────────┼─────────────────┤\n",
      "│ Dropout_6 │ Dropout    │ \u001b[2mfloat32\u001b[0m[1,64]   │ \u001b[2mfloat32\u001b[0m[1,64]   │                 │\n",
      "├───────────┼────────────┼─────────────────┼─────────────────┼─────────────────┤\n",
      "│ Dense_4   │ Dense      │ \u001b[2mfloat32\u001b[0m[1,64]   │ \u001b[2mfloat32\u001b[0m[1,10]   │ bias:           │\n",
      "│           │            │                 │                 │ \u001b[2mfloat32\u001b[0m[10]     │\n",
      "│           │            │                 │                 │ kernel:         │\n",
      "│           │            │                 │                 │ \u001b[2mfloat32\u001b[0m[64,10]  │\n",
      "│           │            │                 │                 │                 │\n",
      "│           │            │                 │                 │ \u001b[1m650 \u001b[0m\u001b[1;2m(2.6 KB)\u001b[0m    │\n",
      "├───────────┼────────────┼─────────────────┼─────────────────┼─────────────────┤\n",
      "│\u001b[1m \u001b[0m\u001b[1m         \u001b[0m\u001b[1m \u001b[0m│\u001b[1m \u001b[0m\u001b[1m          \u001b[0m\u001b[1m \u001b[0m│\u001b[1m \u001b[0m\u001b[1m               \u001b[0m\u001b[1m \u001b[0m│\u001b[1m \u001b[0m\u001b[1m          Total\u001b[0m\u001b[1m \u001b[0m│\u001b[1m \u001b[0m\u001b[1m1,798,090 \u001b[0m\u001b[1;2m(7.2 \u001b[0m\u001b[1m \u001b[0m│\n",
      "│\u001b[1m           \u001b[0m│\u001b[1m            \u001b[0m│\u001b[1m                 \u001b[0m│\u001b[1m                 \u001b[0m│\u001b[1m \u001b[0m\u001b[1;2mMB)\u001b[0m\u001b[1m            \u001b[0m\u001b[1m \u001b[0m│\n",
      "└───────────┴────────────┴─────────────────┴─────────────────┴─────────────────┘\n",
      "\u001b[1m                                                                                \u001b[0m\n",
      "\u001b[1m                      Total Parameters: 1,798,090 \u001b[0m\u001b[1;2m(7.2 MB)\u001b[0m\u001b[1m                      \u001b[0m\n",
      "\n",
      "\n"
     ]
    }
   ],
   "source": [
    "print(cnnd.tabulate(jax.random.key(0), jnp.ones((1, 28, 28)), training=False))"
   ]
  },
  {
   "cell_type": "code",
   "execution_count": 13,
   "metadata": {
    "id": "iVf9S2ewA1-S",
    "tags": []
   },
   "outputs": [],
   "source": [
    "class TrainState(train_state.TrainState):\n",
    "    metrics: Metrics\n",
    "    key: jax.Array\n",
    "\n",
    "def create_train_state(module, optimizer, rng, dropout_key):\n",
    "    params = module.init(rng, jnp.ones([1, 28, 28]), training=False)['params']\n",
    "    train_state = TrainState.create(\n",
    "        apply_fn=module.apply, params=params, tx=optimizer, metrics=Metrics.empty(), key=dropout_key\n",
    "    )\n",
    "    return train_state"
   ]
  },
  {
   "cell_type": "code",
   "execution_count": 14,
   "metadata": {
    "id": "ZQPOio0NA1-T",
    "tags": []
   },
   "outputs": [],
   "source": [
    "@jax.jit\n",
    "def train_step(state, X, y, dropout_key):\n",
    "    dropout_train_key = jax.random.fold_in(key=dropout_key, data=state.step)\n",
    "\n",
    "    def loss_fn(params):\n",
    "        logits = state.apply_fn({'params': params}, X, training=True, rngs={'dropout': dropout_train_key})\n",
    "        loss = optax.softmax_cross_entropy_with_integer_labels(\n",
    "            logits=logits, labels=y\n",
    "        ).mean()\n",
    "        return loss\n",
    "\n",
    "    grads = jax.grad(loss_fn)(state.params)\n",
    "    state = state.apply_gradients(grads=grads)\n",
    "    return state"
   ]
  },
  {
   "cell_type": "code",
   "execution_count": 15,
   "metadata": {
    "id": "hLxs6xA2A1-T",
    "tags": []
   },
   "outputs": [],
   "source": [
    "@jax.jit\n",
    "def compute_metrics(*, state, X, y):\n",
    "    logits = state.apply_fn({'params': state.params}, X, training=False)\n",
    "    loss = optax.softmax_cross_entropy_with_integer_labels(\n",
    "        logits=logits, labels=y\n",
    "    ).mean()\n",
    "    metric_updates = state.metrics.single_from_model_output(\n",
    "        logits=logits, labels=y, loss=loss\n",
    "    )\n",
    "    metrics = state.metrics.merge(metric_updates)\n",
    "    state = state.replace(metrics=metrics)\n",
    "    return state"
   ]
  },
  {
   "cell_type": "code",
   "execution_count": 18,
   "metadata": {
    "colab": {
     "base_uri": "https://localhost:8080/",
     "height": 625
    },
    "id": "2ZMsQJLNBxMD",
    "outputId": "6473793c-5afb-4ab2-e6a5-1d2a87d7dc29",
    "tags": []
   },
   "outputs": [
    {
     "name": "stdout",
     "output_type": "stream",
     "text": [
      "Epoch:   5, [Train] loss: 0.732, accuracy: 0.708, [Test] loss: 0.740, accuracy: 0.698\n",
      "Epoch:  10, [Train] loss: 0.601, accuracy: 0.744, [Test] loss: 0.615, accuracy: 0.736\n",
      "Epoch:  15, [Train] loss: 0.630, accuracy: 0.737, [Test] loss: 0.652, accuracy: 0.733\n",
      "Epoch:  20, [Train] loss: 0.627, accuracy: 0.741, [Test] loss: 0.643, accuracy: 0.767\n",
      "Epoch:  25, [Train] loss: 0.710, accuracy: 0.727, [Test] loss: 0.698, accuracy: 0.743\n",
      "Epoch:  30, [Train] loss: 0.719, accuracy: 0.720, [Test] loss: 0.720, accuracy: 0.713\n",
      "Epoch:  35, [Train] loss: 0.709, accuracy: 0.720, [Test] loss: 0.918, accuracy: 0.704\n",
      "Epoch:  40, [Train] loss: 0.967, accuracy: 0.658, [Test] loss: 1.128, accuracy: 0.644\n",
      "Epoch:  45, [Train] loss: 1.483, accuracy: 0.366, [Test] loss: 1.533, accuracy: 0.337\n",
      "Epoch:  50, [Train] loss: 2.148, accuracy: 0.149, [Test] loss: 2.114, accuracy: 0.173\n"
     ]
    },
    {
     "ename": "KeyboardInterrupt",
     "evalue": "",
     "output_type": "error",
     "traceback": [
      "\u001b[0;31m---------------------------------------------------------------------------\u001b[0m",
      "\u001b[0;31mKeyboardInterrupt\u001b[0m                         Traceback (most recent call last)",
      "Cell \u001b[0;32mIn[18], line 16\u001b[0m\n\u001b[1;32m     14\u001b[0m \u001b[38;5;28;01mfor\u001b[39;00m X_batch, y_batch \u001b[38;5;129;01min\u001b[39;00m \u001b[38;5;28mzip\u001b[39m(X_train, y_train):\n\u001b[1;32m     15\u001b[0m     state \u001b[38;5;241m=\u001b[39m train_step(state, X_batch, y_batch, jax\u001b[38;5;241m.\u001b[39mrandom\u001b[38;5;241m.\u001b[39mkey(\u001b[38;5;241m2\u001b[39m))\n\u001b[0;32m---> 16\u001b[0m     state \u001b[38;5;241m=\u001b[39m \u001b[43mcompute_metrics\u001b[49m\u001b[43m(\u001b[49m\u001b[43mstate\u001b[49m\u001b[38;5;241;43m=\u001b[39;49m\u001b[43mstate\u001b[49m\u001b[43m,\u001b[49m\u001b[43m \u001b[49m\u001b[43mX\u001b[49m\u001b[38;5;241;43m=\u001b[39;49m\u001b[43mX_batch\u001b[49m\u001b[43m,\u001b[49m\u001b[43m \u001b[49m\u001b[43my\u001b[49m\u001b[38;5;241;43m=\u001b[39;49m\u001b[43my_batch\u001b[49m\u001b[43m)\u001b[49m\n\u001b[1;32m     18\u001b[0m \u001b[38;5;28;01mfor\u001b[39;00m metric, value \u001b[38;5;129;01min\u001b[39;00m state\u001b[38;5;241m.\u001b[39mmetrics\u001b[38;5;241m.\u001b[39mcompute()\u001b[38;5;241m.\u001b[39mitems():\n\u001b[1;32m     19\u001b[0m     metrics_history[\u001b[38;5;124mf\u001b[39m\u001b[38;5;124m'\u001b[39m\u001b[38;5;124mtrain_\u001b[39m\u001b[38;5;132;01m{\u001b[39;00mmetric\u001b[38;5;132;01m}\u001b[39;00m\u001b[38;5;124m'\u001b[39m]\u001b[38;5;241m.\u001b[39mappend(value)\n",
      "File \u001b[0;32m<string>:1\u001b[0m, in \u001b[0;36m<lambda>\u001b[0;34m(_cls, count, mu, nu)\u001b[0m\n",
      "\u001b[0;31mKeyboardInterrupt\u001b[0m: "
     ]
    }
   ],
   "source": [
    "num_epochs = 1000\n",
    "report_every = 5\n",
    "\n",
    "metrics_history = {'train_loss': [],\n",
    "                   'train_accuracy': [],\n",
    "                   'test_loss': [],\n",
    "                   'test_accuracy': []}\n",
    "\n",
    "# optimizer = optax.sgd(learning_rate=0.001, momentum=0.9, nesterov=True)\n",
    "optimizer = optax.adam(learning_rate=0.001)\n",
    "state = create_train_state(cnnd, optimizer, jax.random.key(0), jax.random.key(1))\n",
    "\n",
    "for epoch in range(num_epochs):\n",
    "    for X_batch, y_batch in zip(X_train, y_train):\n",
    "        state = train_step(state, X_batch, y_batch, jax.random.key(2))\n",
    "        state = compute_metrics(state=state, X=X_batch, y=y_batch)\n",
    "\n",
    "    for metric, value in state.metrics.compute().items():\n",
    "        metrics_history[f'train_{metric}'].append(value)\n",
    "\n",
    "    state = state.replace(metrics=state.metrics.empty())\n",
    "\n",
    "    test_state = state\n",
    "    for X_batch, y_batch in zip(X_test, y_test):\n",
    "        test_state = compute_metrics(state=test_state, X=X_batch, y=y_batch)\n",
    "\n",
    "    for metric, value in test_state.metrics.compute().items():\n",
    "        metrics_history[f'test_{metric}'].append(value)\n",
    "\n",
    "    if (epoch + 1) % report_every == 0:\n",
    "        print(f\"Epoch: {epoch+1: 3d}, \"\n",
    "            f\"[Train] loss: {metrics_history['train_loss'][-1]:.3f}, \"\n",
    "            f\"accuracy: {metrics_history['train_accuracy'][-1]:.3f}, \"\n",
    "            f\"[Test] loss: {metrics_history['test_loss'][-1]:.3f}, \"\n",
    "            f\"accuracy: {metrics_history['test_accuracy'][-1]:.3f}\")"
   ]
  },
  {
   "cell_type": "code",
   "execution_count": 17,
   "metadata": {
    "colab": {
     "base_uri": "https://localhost:8080/",
     "height": 486
    },
    "id": "4AEoYaXRCucm",
    "outputId": "39a1d88a-994c-47c5-a154-d519d81ad095",
    "tags": []
   },
   "outputs": [
    {
     "data": {
      "image/png": "[encoded data removed]",
      "text/plain": [
       "<Figure size 1500x500 with 2 Axes>"
      ]
     },
     "metadata": {},
     "output_type": "display_data"
    },
    {
     "data": {
      "text/plain": [
       "<Figure size 640x480 with 0 Axes>"
      ]
     },
     "metadata": {},
     "output_type": "display_data"
    }
   ],
   "source": [
    "import matplotlib.pyplot as plt\n",
    "\n",
    "fig, (ax1, ax2) = plt.subplots(1, 2, figsize=(15, 5))\n",
    "ax1.set_title('Loss')\n",
    "ax2.set_title('Accuracy')\n",
    "for dataset in ('train','test'):\n",
    "    ax1.plot(metrics_history[f'{dataset}_loss'], label=f'{dataset}_loss')\n",
    "    ax2.plot(metrics_history[f'{dataset}_accuracy'], label=f'{dataset}_accuracy')\n",
    "ax1.legend()\n",
    "ax2.legend()\n",
    "plt.show()\n",
    "plt.clf()"
   ]
  },
  {
   "cell_type": "code",
   "execution_count": 39,
   "metadata": {
    "id": "5QyfERYADuY4"
   },
   "outputs": [],
   "source": [
    "class ResBlock(nn.Module):\n",
    "    @nn.compact\n",
    "    def __call__(self, x):\n",
    "        x1 = x\n",
    "        x = nn.Dense(features=1024)(x)\n",
    "        x = nn.relu(x)\n",
    "        return x + x1\n",
    "\n",
    "class Resnet(nn.Module):\n",
    "    @nn.compact\n",
    "    def __call__(self, x):\n",
    "        x = x[..., None]\n",
    "\n",
    "        x = nn.Conv(features=32, kernel_size=(3, 3))(x)\n",
    "        x = nn.relu(x)\n",
    "        x = nn.avg_pool(x, window_shape=(2, 2), strides=(2, 2))\n",
    "\n",
    "        x = nn.Conv(features=64, kernel_size=(3, 3))(x)\n",
    "        x = nn.relu(x)\n",
    "        x = nn.avg_pool(x, window_shape=(2, 2), strides=(2, 2))\n",
    "\n",
    "        x = nn.Conv(features=128, kernel_size=(3, 3))(x)\n",
    "        x = nn.relu(x)\n",
    "        x = nn.avg_pool(x, window_shape=(2, 2), strides=(2, 2))\n",
    "\n",
    "        x = x.reshape((x.shape[0], -1))\n",
    "        x = nn.Dense(features=1024)(x)\n",
    "\n",
    "        x = ResBlock()(x)\n",
    "        x = ResBlock()(x)\n",
    "        x = ResBlock()(x)\n",
    "        x = ResBlock()(x)\n",
    "        x = ResBlock()(x)\n",
    "        x = ResBlock()(x)\n",
    "\n",
    "        x = nn.Dense(features=10)(x)\n",
    "        return x\n",
    "\n",
    "resnet = Resnet()"
   ]
  },
  {
   "cell_type": "code",
   "execution_count": 40,
   "metadata": {
    "tags": []
   },
   "outputs": [
    {
     "name": "stdout",
     "output_type": "stream",
     "text": [
      "\n",
      "\u001b[3m                                 Resnet Summary                                 \u001b[0m\n",
      "┏━━━━━━━━━━━━━━━━┳━━━━━━━━━━┳━━━━━━━━━━━━━━━━┳━━━━━━━━━━━━━━━━┳━━━━━━━━━━━━━━━━┓\n",
      "┃\u001b[1m \u001b[0m\u001b[1mpath          \u001b[0m\u001b[1m \u001b[0m┃\u001b[1m \u001b[0m\u001b[1mmodule  \u001b[0m\u001b[1m \u001b[0m┃\u001b[1m \u001b[0m\u001b[1minputs        \u001b[0m\u001b[1m \u001b[0m┃\u001b[1m \u001b[0m\u001b[1moutputs       \u001b[0m\u001b[1m \u001b[0m┃\u001b[1m \u001b[0m\u001b[1mparams        \u001b[0m\u001b[1m \u001b[0m┃\n",
      "┡━━━━━━━━━━━━━━━━╇━━━━━━━━━━╇━━━━━━━━━━━━━━━━╇━━━━━━━━━━━━━━━━╇━━━━━━━━━━━━━━━━┩\n",
      "│                │ Resnet   │ \u001b[2mfloat32\u001b[0m[1,28,… │ \u001b[2mfloat32\u001b[0m[1,10]  │                │\n",
      "├────────────────┼──────────┼────────────────┼────────────────┼────────────────┤\n",
      "│ Conv_0         │ Conv     │ \u001b[2mfloat32\u001b[0m[1,28,… │ \u001b[2mfloat32\u001b[0m[1,28,… │ bias:          │\n",
      "│                │          │                │                │ \u001b[2mfloat32\u001b[0m[32]    │\n",
      "│                │          │                │                │ kernel:        │\n",
      "│                │          │                │                │ \u001b[2mfloat32\u001b[0m[3,3,1… │\n",
      "│                │          │                │                │                │\n",
      "│                │          │                │                │ \u001b[1m320 \u001b[0m\u001b[1;2m(1.3 KB)\u001b[0m   │\n",
      "├────────────────┼──────────┼────────────────┼────────────────┼────────────────┤\n",
      "│ Conv_1         │ Conv     │ \u001b[2mfloat32\u001b[0m[1,14,… │ \u001b[2mfloat32\u001b[0m[1,14,… │ bias:          │\n",
      "│                │          │                │                │ \u001b[2mfloat32\u001b[0m[64]    │\n",
      "│                │          │                │                │ kernel:        │\n",
      "│                │          │                │                │ \u001b[2mfloat32\u001b[0m[3,3,3… │\n",
      "│                │          │                │                │                │\n",
      "│                │          │                │                │ \u001b[1m18,496 \u001b[0m\u001b[1;2m(74.0 \u001b[0m  │\n",
      "│                │          │                │                │ \u001b[1;2mKB)\u001b[0m            │\n",
      "├────────────────┼──────────┼────────────────┼────────────────┼────────────────┤\n",
      "│ Conv_2         │ Conv     │ \u001b[2mfloat32\u001b[0m[1,7,7… │ \u001b[2mfloat32\u001b[0m[1,7,7… │ bias:          │\n",
      "│                │          │                │                │ \u001b[2mfloat32\u001b[0m[128]   │\n",
      "│                │          │                │                │ kernel:        │\n",
      "│                │          │                │                │ \u001b[2mfloat32\u001b[0m[3,3,6… │\n",
      "│                │          │                │                │                │\n",
      "│                │          │                │                │ \u001b[1m73,856 \u001b[0m\u001b[1;2m(295.4 \u001b[0m │\n",
      "│                │          │                │                │ \u001b[1;2mKB)\u001b[0m            │\n",
      "├────────────────┼──────────┼────────────────┼────────────────┼────────────────┤\n",
      "│ Dense_0        │ Dense    │ \u001b[2mfloat32\u001b[0m[1,115… │ \u001b[2mfloat32\u001b[0m[1,102… │ bias:          │\n",
      "│                │          │                │                │ \u001b[2mfloat32\u001b[0m[1024]  │\n",
      "│                │          │                │                │ kernel:        │\n",
      "│                │          │                │                │ \u001b[2mfloat32\u001b[0m[1152,… │\n",
      "│                │          │                │                │                │\n",
      "│                │          │                │                │ \u001b[1m1,180,672 \u001b[0m\u001b[1;2m(4.7\u001b[0m │\n",
      "│                │          │                │                │ \u001b[1;2mMB)\u001b[0m            │\n",
      "├────────────────┼──────────┼────────────────┼────────────────┼────────────────┤\n",
      "│ ResBlock_0     │ ResBlock │ \u001b[2mfloat32\u001b[0m[1,102… │ \u001b[2mfloat32\u001b[0m[1,102… │                │\n",
      "├────────────────┼──────────┼────────────────┼────────────────┼────────────────┤\n",
      "│ ResBlock_0/De… │ Dense    │ \u001b[2mfloat32\u001b[0m[1,102… │ \u001b[2mfloat32\u001b[0m[1,102… │ bias:          │\n",
      "│                │          │                │                │ \u001b[2mfloat32\u001b[0m[1024]  │\n",
      "│                │          │                │                │ kernel:        │\n",
      "│                │          │                │                │ \u001b[2mfloat32\u001b[0m[1024,… │\n",
      "│                │          │                │                │                │\n",
      "│                │          │                │                │ \u001b[1m1,049,600 \u001b[0m\u001b[1;2m(4.2\u001b[0m │\n",
      "│                │          │                │                │ \u001b[1;2mMB)\u001b[0m            │\n",
      "├────────────────┼──────────┼────────────────┼────────────────┼────────────────┤\n",
      "│ ResBlock_1     │ ResBlock │ \u001b[2mfloat32\u001b[0m[1,102… │ \u001b[2mfloat32\u001b[0m[1,102… │                │\n",
      "├────────────────┼──────────┼────────────────┼────────────────┼────────────────┤\n",
      "│ ResBlock_1/De… │ Dense    │ \u001b[2mfloat32\u001b[0m[1,102… │ \u001b[2mfloat32\u001b[0m[1,102… │ bias:          │\n",
      "│                │          │                │                │ \u001b[2mfloat32\u001b[0m[1024]  │\n",
      "│                │          │                │                │ kernel:        │\n",
      "│                │          │                │                │ \u001b[2mfloat32\u001b[0m[1024,… │\n",
      "│                │          │                │                │                │\n",
      "│                │          │                │                │ \u001b[1m1,049,600 \u001b[0m\u001b[1;2m(4.2\u001b[0m │\n",
      "│                │          │                │                │ \u001b[1;2mMB)\u001b[0m            │\n",
      "├────────────────┼──────────┼────────────────┼────────────────┼────────────────┤\n",
      "│ ResBlock_2     │ ResBlock │ \u001b[2mfloat32\u001b[0m[1,102… │ \u001b[2mfloat32\u001b[0m[1,102… │                │\n",
      "├────────────────┼──────────┼────────────────┼────────────────┼────────────────┤\n",
      "│ ResBlock_2/De… │ Dense    │ \u001b[2mfloat32\u001b[0m[1,102… │ \u001b[2mfloat32\u001b[0m[1,102… │ bias:          │\n",
      "│                │          │                │                │ \u001b[2mfloat32\u001b[0m[1024]  │\n",
      "│                │          │                │                │ kernel:        │\n",
      "│                │          │                │                │ \u001b[2mfloat32\u001b[0m[1024,… │\n",
      "│                │          │                │                │                │\n",
      "│                │          │                │                │ \u001b[1m1,049,600 \u001b[0m\u001b[1;2m(4.2\u001b[0m │\n",
      "│                │          │                │                │ \u001b[1;2mMB)\u001b[0m            │\n",
      "├────────────────┼──────────┼────────────────┼────────────────┼────────────────┤\n",
      "│ ResBlock_3     │ ResBlock │ \u001b[2mfloat32\u001b[0m[1,102… │ \u001b[2mfloat32\u001b[0m[1,102… │                │\n",
      "├────────────────┼──────────┼────────────────┼────────────────┼────────────────┤\n",
      "│ ResBlock_3/De… │ Dense    │ \u001b[2mfloat32\u001b[0m[1,102… │ \u001b[2mfloat32\u001b[0m[1,102… │ bias:          │\n",
      "│                │          │                │                │ \u001b[2mfloat32\u001b[0m[1024]  │\n",
      "│                │          │                │                │ kernel:        │\n",
      "│                │          │                │                │ \u001b[2mfloat32\u001b[0m[1024,… │\n",
      "│                │          │                │                │                │\n",
      "│                │          │                │                │ \u001b[1m1,049,600 \u001b[0m\u001b[1;2m(4.2\u001b[0m │\n",
      "│                │          │                │                │ \u001b[1;2mMB)\u001b[0m            │\n",
      "├────────────────┼──────────┼────────────────┼────────────────┼────────────────┤\n",
      "│ ResBlock_4     │ ResBlock │ \u001b[2mfloat32\u001b[0m[1,102… │ \u001b[2mfloat32\u001b[0m[1,102… │                │\n",
      "├────────────────┼──────────┼────────────────┼────────────────┼────────────────┤\n",
      "│ ResBlock_4/De… │ Dense    │ \u001b[2mfloat32\u001b[0m[1,102… │ \u001b[2mfloat32\u001b[0m[1,102… │ bias:          │\n",
      "│                │          │                │                │ \u001b[2mfloat32\u001b[0m[1024]  │\n",
      "│                │          │                │                │ kernel:        │\n",
      "│                │          │                │                │ \u001b[2mfloat32\u001b[0m[1024,… │\n",
      "│                │          │                │                │                │\n",
      "│                │          │                │                │ \u001b[1m1,049,600 \u001b[0m\u001b[1;2m(4.2\u001b[0m │\n",
      "│                │          │                │                │ \u001b[1;2mMB)\u001b[0m            │\n",
      "├────────────────┼──────────┼────────────────┼────────────────┼────────────────┤\n",
      "│ ResBlock_5     │ ResBlock │ \u001b[2mfloat32\u001b[0m[1,102… │ \u001b[2mfloat32\u001b[0m[1,102… │                │\n",
      "├────────────────┼──────────┼────────────────┼────────────────┼────────────────┤\n",
      "│ ResBlock_5/De… │ Dense    │ \u001b[2mfloat32\u001b[0m[1,102… │ \u001b[2mfloat32\u001b[0m[1,102… │ bias:          │\n",
      "│                │          │                │                │ \u001b[2mfloat32\u001b[0m[1024]  │\n",
      "│                │          │                │                │ kernel:        │\n",
      "│                │          │                │                │ \u001b[2mfloat32\u001b[0m[1024,… │\n",
      "│                │          │                │                │                │\n",
      "│                │          │                │                │ \u001b[1m1,049,600 \u001b[0m\u001b[1;2m(4.2\u001b[0m │\n",
      "│                │          │                │                │ \u001b[1;2mMB)\u001b[0m            │\n",
      "├────────────────┼──────────┼────────────────┼────────────────┼────────────────┤\n",
      "│ Dense_1        │ Dense    │ \u001b[2mfloat32\u001b[0m[1,102… │ \u001b[2mfloat32\u001b[0m[1,10]  │ bias:          │\n",
      "│                │          │                │                │ \u001b[2mfloat32\u001b[0m[10]    │\n",
      "│                │          │                │                │ kernel:        │\n",
      "│                │          │                │                │ \u001b[2mfloat32\u001b[0m[1024,… │\n",
      "│                │          │                │                │                │\n",
      "│                │          │                │                │ \u001b[1m10,250 \u001b[0m\u001b[1;2m(41.0 \u001b[0m  │\n",
      "│                │          │                │                │ \u001b[1;2mKB)\u001b[0m            │\n",
      "├────────────────┼──────────┼────────────────┼────────────────┼────────────────┤\n",
      "│\u001b[1m \u001b[0m\u001b[1m              \u001b[0m\u001b[1m \u001b[0m│\u001b[1m \u001b[0m\u001b[1m        \u001b[0m\u001b[1m \u001b[0m│\u001b[1m \u001b[0m\u001b[1m              \u001b[0m\u001b[1m \u001b[0m│\u001b[1m \u001b[0m\u001b[1m         Total\u001b[0m\u001b[1m \u001b[0m│\u001b[1m \u001b[0m\u001b[1m7,581,194     \u001b[0m\u001b[1m \u001b[0m│\n",
      "│\u001b[1m                \u001b[0m│\u001b[1m          \u001b[0m│\u001b[1m                \u001b[0m│\u001b[1m                \u001b[0m│\u001b[1m \u001b[0m\u001b[1;2m(30.3 MB)\u001b[0m\u001b[1m     \u001b[0m\u001b[1m \u001b[0m│\n",
      "└────────────────┴──────────┴────────────────┴────────────────┴────────────────┘\n",
      "\u001b[1m                                                                                \u001b[0m\n",
      "\u001b[1m                     Total Parameters: 7,581,194 \u001b[0m\u001b[1;2m(30.3 MB)\u001b[0m\u001b[1m                      \u001b[0m\n",
      "\n",
      "\n"
     ]
    }
   ],
   "source": [
    "print(resnet.tabulate(jax.random.key(0), jnp.ones((1, 28, 28))))"
   ]
  },
  {
   "cell_type": "code",
   "execution_count": 41,
   "metadata": {
    "id": "GSYLtHAOrcaq",
    "tags": []
   },
   "outputs": [],
   "source": [
    "@struct.dataclass\n",
    "class Metrics(metrics.Collection):\n",
    "    accuracy: metrics.Accuracy\n",
    "    loss: metrics.Average.from_output('loss')"
   ]
  },
  {
   "cell_type": "code",
   "execution_count": 42,
   "metadata": {
    "id": "IPe18hZSr14r",
    "tags": []
   },
   "outputs": [],
   "source": [
    "class TrainState(train_state.TrainState):\n",
    "    metrics: Metrics\n",
    "\n",
    "def create_train_state(module, optimizer, rng):\n",
    "    params = module.init(rng, jnp.ones([1, 28, 28]))['params']\n",
    "    train_state = TrainState.create(\n",
    "        apply_fn=module.apply, params=params, tx=optimizer, metrics=Metrics.empty()\n",
    "    )\n",
    "    return train_state"
   ]
  },
  {
   "cell_type": "code",
   "execution_count": 43,
   "metadata": {
    "id": "-1KORsqzr6hM",
    "tags": []
   },
   "outputs": [],
   "source": [
    "@jax.jit\n",
    "def train_step(state, X, y):\n",
    "    def loss_fn(params):\n",
    "        logits = state.apply_fn({'params': params}, X)\n",
    "        loss = optax.softmax_cross_entropy_with_integer_labels(\n",
    "            logits=logits, labels=y\n",
    "        ).mean()\n",
    "        return loss\n",
    "\n",
    "    grads = jax.grad(loss_fn)(state.params)\n",
    "    state = state.apply_gradients(grads=grads)\n",
    "    return state"
   ]
  },
  {
   "cell_type": "code",
   "execution_count": 44,
   "metadata": {
    "id": "8hY5KPOas4H3",
    "tags": []
   },
   "outputs": [],
   "source": [
    "@jax.jit\n",
    "def compute_metrics(*, state, X, y):\n",
    "    logits = state.apply_fn({'params': state.params}, X)\n",
    "    loss = optax.softmax_cross_entropy_with_integer_labels(\n",
    "        logits=logits, labels=y\n",
    "    ).mean()\n",
    "    metric_updates = state.metrics.single_from_model_output(\n",
    "        logits=logits, labels=y, loss=loss\n",
    "    )\n",
    "    metrics = state.metrics.merge(metric_updates)\n",
    "    state = state.replace(metrics=metrics)\n",
    "    return state"
   ]
  },
  {
   "cell_type": "code",
   "execution_count": 48,
   "metadata": {
    "tags": []
   },
   "outputs": [
    {
     "name": "stdout",
     "output_type": "stream",
     "text": [
      "Epoch:   1, [Train] loss: 5.248, accuracy: 0.278, [Test] loss: 1.864, accuracy: 0.391\n",
      "Epoch:   2, [Train] loss: 1.765, accuracy: 0.429, [Test] loss: 1.716, accuracy: 0.458\n",
      "Epoch:   3, [Train] loss: 1.637, accuracy: 0.481, [Test] loss: 1.597, accuracy: 0.499\n",
      "Epoch:   4, [Train] loss: 1.523, accuracy: 0.516, [Test] loss: 1.481, accuracy: 0.530\n",
      "Epoch:   5, [Train] loss: 1.412, accuracy: 0.550, [Test] loss: 1.369, accuracy: 0.565\n",
      "Epoch:   6, [Train] loss: 1.303, accuracy: 0.615, [Test] loss: 1.256, accuracy: 0.645\n",
      "Epoch:   7, [Train] loss: 1.181, accuracy: 0.670, [Test] loss: 1.114, accuracy: 0.686\n",
      "Epoch:   8, [Train] loss: 1.019, accuracy: 0.707, [Test] loss: 0.938, accuracy: 0.725\n",
      "Epoch:   9, [Train] loss: 0.836, accuracy: 0.749, [Test] loss: 0.778, accuracy: 0.757\n",
      "Epoch:  10, [Train] loss: 0.692, accuracy: 0.781, [Test] loss: 0.664, accuracy: 0.786\n",
      "Epoch:  11, [Train] loss: 0.589, accuracy: 0.804, [Test] loss: 0.584, accuracy: 0.803\n",
      "Epoch:  12, [Train] loss: 0.522, accuracy: 0.820, [Test] loss: 0.537, accuracy: 0.817\n",
      "Epoch:  13, [Train] loss: 0.480, accuracy: 0.832, [Test] loss: 0.506, accuracy: 0.825\n",
      "Epoch:  14, [Train] loss: 0.451, accuracy: 0.841, [Test] loss: 0.483, accuracy: 0.832\n",
      "Epoch:  15, [Train] loss: 0.427, accuracy: 0.849, [Test] loss: 0.463, accuracy: 0.837\n",
      "Epoch:  16, [Train] loss: 0.406, accuracy: 0.857, [Test] loss: 0.445, accuracy: 0.841\n",
      "Epoch:  17, [Train] loss: 0.388, accuracy: 0.862, [Test] loss: 0.431, accuracy: 0.847\n",
      "Epoch:  18, [Train] loss: 0.373, accuracy: 0.868, [Test] loss: 0.419, accuracy: 0.851\n",
      "Epoch:  19, [Train] loss: 0.360, accuracy: 0.872, [Test] loss: 0.410, accuracy: 0.853\n",
      "Epoch:  20, [Train] loss: 0.349, accuracy: 0.877, [Test] loss: 0.402, accuracy: 0.855\n",
      "Epoch:  21, [Train] loss: 0.338, accuracy: 0.880, [Test] loss: 0.395, accuracy: 0.857\n",
      "Epoch:  22, [Train] loss: 0.329, accuracy: 0.883, [Test] loss: 0.389, accuracy: 0.858\n",
      "Epoch:  23, [Train] loss: 0.321, accuracy: 0.886, [Test] loss: 0.384, accuracy: 0.860\n",
      "Epoch:  24, [Train] loss: 0.314, accuracy: 0.888, [Test] loss: 0.380, accuracy: 0.862\n",
      "Epoch:  25, [Train] loss: 0.307, accuracy: 0.891, [Test] loss: 0.375, accuracy: 0.864\n",
      "Epoch:  26, [Train] loss: 0.300, accuracy: 0.892, [Test] loss: 0.371, accuracy: 0.866\n",
      "Epoch:  27, [Train] loss: 0.294, accuracy: 0.894, [Test] loss: 0.368, accuracy: 0.867\n",
      "Epoch:  28, [Train] loss: 0.289, accuracy: 0.896, [Test] loss: 0.365, accuracy: 0.868\n",
      "Epoch:  29, [Train] loss: 0.283, accuracy: 0.898, [Test] loss: 0.362, accuracy: 0.868\n",
      "Epoch:  30, [Train] loss: 0.278, accuracy: 0.900, [Test] loss: 0.359, accuracy: 0.869\n",
      "Epoch:  31, [Train] loss: 0.273, accuracy: 0.902, [Test] loss: 0.357, accuracy: 0.870\n",
      "Epoch:  32, [Train] loss: 0.269, accuracy: 0.904, [Test] loss: 0.354, accuracy: 0.872\n",
      "Epoch:  33, [Train] loss: 0.264, accuracy: 0.905, [Test] loss: 0.352, accuracy: 0.872\n",
      "Epoch:  34, [Train] loss: 0.260, accuracy: 0.906, [Test] loss: 0.350, accuracy: 0.872\n",
      "Epoch:  35, [Train] loss: 0.256, accuracy: 0.908, [Test] loss: 0.348, accuracy: 0.874\n",
      "Epoch:  36, [Train] loss: 0.252, accuracy: 0.909, [Test] loss: 0.346, accuracy: 0.874\n",
      "Epoch:  37, [Train] loss: 0.248, accuracy: 0.910, [Test] loss: 0.345, accuracy: 0.874\n"
     ]
    },
    {
     "ename": "KeyboardInterrupt",
     "evalue": "",
     "output_type": "error",
     "traceback": [
      "\u001b[0;31m---------------------------------------------------------------------------\u001b[0m",
      "\u001b[0;31mKeyboardInterrupt\u001b[0m                         Traceback (most recent call last)",
      "Cell \u001b[0;32mIn[48], line 16\u001b[0m\n\u001b[1;32m     14\u001b[0m \u001b[38;5;28;01mfor\u001b[39;00m X_batch, y_batch \u001b[38;5;129;01min\u001b[39;00m \u001b[38;5;28mzip\u001b[39m(X_train, y_train):\n\u001b[1;32m     15\u001b[0m     state \u001b[38;5;241m=\u001b[39m train_step(state, X_batch, y_batch)\n\u001b[0;32m---> 16\u001b[0m     state \u001b[38;5;241m=\u001b[39m \u001b[43mcompute_metrics\u001b[49m\u001b[43m(\u001b[49m\u001b[43mstate\u001b[49m\u001b[38;5;241;43m=\u001b[39;49m\u001b[43mstate\u001b[49m\u001b[43m,\u001b[49m\u001b[43m \u001b[49m\u001b[43mX\u001b[49m\u001b[38;5;241;43m=\u001b[39;49m\u001b[43mX_batch\u001b[49m\u001b[43m,\u001b[49m\u001b[43m \u001b[49m\u001b[43my\u001b[49m\u001b[38;5;241;43m=\u001b[39;49m\u001b[43my_batch\u001b[49m\u001b[43m)\u001b[49m\n\u001b[1;32m     18\u001b[0m \u001b[38;5;28;01mfor\u001b[39;00m metric, value \u001b[38;5;129;01min\u001b[39;00m state\u001b[38;5;241m.\u001b[39mmetrics\u001b[38;5;241m.\u001b[39mcompute()\u001b[38;5;241m.\u001b[39mitems():\n\u001b[1;32m     19\u001b[0m     metrics_history[\u001b[38;5;124mf\u001b[39m\u001b[38;5;124m'\u001b[39m\u001b[38;5;124mtrain_\u001b[39m\u001b[38;5;132;01m{\u001b[39;00mmetric\u001b[38;5;132;01m}\u001b[39;00m\u001b[38;5;124m'\u001b[39m]\u001b[38;5;241m.\u001b[39mappend(value)\n",
      "File \u001b[0;32m<string>:1\u001b[0m, in \u001b[0;36m<lambda>\u001b[0;34m(_cls, trace)\u001b[0m\n",
      "\u001b[0;31mKeyboardInterrupt\u001b[0m: "
     ]
    }
   ],
   "source": [
    "num_epochs = 1000\n",
    "report_every = 1\n",
    "\n",
    "metrics_history = {'train_loss': [],\n",
    "                   'train_accuracy': [],\n",
    "                   'test_loss': [],\n",
    "                   'test_accuracy': []}\n",
    "\n",
    "optimizer = optax.sgd(learning_rate=0.0001, momentum=0.9, nesterov=True)\n",
    "# optimizer = optax.adam(learning_rate=0.001)#, momentum=0.9, nesterov=True)\n",
    "state = create_train_state(resnet, optimizer, jax.random.key(0))\n",
    "\n",
    "for epoch in range(num_epochs):\n",
    "    for X_batch, y_batch in zip(X_train, y_train):\n",
    "        state = train_step(state, X_batch, y_batch)\n",
    "        state = compute_metrics(state=state, X=X_batch, y=y_batch)\n",
    "\n",
    "    for metric, value in state.metrics.compute().items():\n",
    "        metrics_history[f'train_{metric}'].append(value)\n",
    "\n",
    "    state = state.replace(metrics=state.metrics.empty())\n",
    "\n",
    "    test_state = state\n",
    "    for X_batch, y_batch in zip(X_test, y_test):\n",
    "        test_state = compute_metrics(state=test_state, X=X_batch, y=y_batch)\n",
    "\n",
    "    for metric, value in test_state.metrics.compute().items():\n",
    "        metrics_history[f'test_{metric}'].append(value)\n",
    "\n",
    "    if (epoch + 1) % report_every == 0:\n",
    "        print(f\"Epoch: {epoch+1: 3d}, \"\n",
    "            f\"[Train] loss: {metrics_history['train_loss'][-1]:.3f}, \"\n",
    "            f\"accuracy: {metrics_history['train_accuracy'][-1]:.3f}, \"\n",
    "            f\"[Test] loss: {metrics_history['test_loss'][-1]:.3f}, \"\n",
    "            f\"accuracy: {metrics_history['test_accuracy'][-1]:.3f}\")"
   ]
  },
  {
   "cell_type": "code",
   "execution_count": null,
   "metadata": {},
   "outputs": [],
   "source": []
  }
 ],
 "metadata": {
  "accelerator": "GPU",
  "colab": {
   "gpuType": "T4",
   "provenance": []
  },
  "kernelspec": {
   "display_name": "jax:Python",
   "language": "python",
   "name": "conda-env-jax-py"
  },
  "language_info": {
   "codemirror_mode": {
    "name": "ipython",
    "version": 3
   },
   "file_extension": ".py",
   "mimetype": "text/x-python",
   "name": "python",
   "nbconvert_exporter": "python",
   "pygments_lexer": "ipython3",
   "version": "3.12.3"
  }
 },
 "nbformat": 4,
 "nbformat_minor": 4
}
