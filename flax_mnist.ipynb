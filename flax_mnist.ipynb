{
 "cells": [
  {
   "cell_type": "code",
   "execution_count": 2,
   "metadata": {
    "id": "5w918NCmp31g",
    "tags": []
   },
   "outputs": [],
   "source": [
    "import numpy as np\n",
    "\n",
    "def get_datasets(dataset_cls, batch_size):\n",
    "    def get_batches(X, y):\n",
    "        num_batches = len(X) // batch_size\n",
    "        X_batched = np.array_split(X, num_batches)\n",
    "        y_batched = np.array_split(y.astype(np.int32), num_batches)\n",
    "        return X_batched, y_batched\n",
    "\n",
    "    dataset = dataset_cls()\n",
    "    X_train = dataset.train_images()\n",
    "    y_train = dataset.train_labels()\n",
    "    X_train_batched, y_train_batched = get_batches(X_train, y_train)\n",
    "\n",
    "    X_test = dataset.test_images()\n",
    "    y_test = dataset.test_labels()\n",
    "    X_test_batched, y_test_batched = get_batches(X_test, y_test)\n",
    "    return X_train_batched, y_train_batched, X_test_batched, y_test_batched"
   ]
  },
  {
   "cell_type": "code",
   "execution_count": 3,
   "metadata": {
    "id": "so5jYVLUqKN1",
    "tags": []
   },
   "outputs": [],
   "source": [
    "from flax import linen as nn\n",
    "\n",
    "class NN(nn.Module):\n",
    "    @nn.compact\n",
    "    def __call__(self, x):\n",
    "        x = x.reshape((x.shape[0], -1))\n",
    "        x = nn.Dense(features=512)(x)\n",
    "        x = nn.relu(x)\n",
    "        x = nn.Dense(features=128)(x)\n",
    "        x = nn.relu(x)\n",
    "        x = nn.Dense(features=10)(x)\n",
    "        return x"
   ]
  },
  {
   "cell_type": "code",
   "execution_count": 4,
   "metadata": {
    "colab": {
     "base_uri": "https://localhost:8080/"
    },
    "id": "ut2cFm4BrIrE",
    "outputId": "7ae669d5-1307-4ce7-94bf-8fe180406ac2",
    "tags": []
   },
   "outputs": [
    {
     "name": "stdout",
     "output_type": "stream",
     "text": [
      "\n",
      "\u001b[3m                                   NN Summary                                   \u001b[0m\n",
      "┏━━━━━━━━━┳━━━━━━━━┳━━━━━━━━━━━━━━━━━━┳━━━━━━━━━━━━━━━━┳━━━━━━━━━━━━━━━━━━━━━━━┓\n",
      "┃\u001b[1m \u001b[0m\u001b[1mpath   \u001b[0m\u001b[1m \u001b[0m┃\u001b[1m \u001b[0m\u001b[1mmodule\u001b[0m\u001b[1m \u001b[0m┃\u001b[1m \u001b[0m\u001b[1minputs          \u001b[0m\u001b[1m \u001b[0m┃\u001b[1m \u001b[0m\u001b[1moutputs       \u001b[0m\u001b[1m \u001b[0m┃\u001b[1m \u001b[0m\u001b[1mparams               \u001b[0m\u001b[1m \u001b[0m┃\n",
      "┡━━━━━━━━━╇━━━━━━━━╇━━━━━━━━━━━━━━━━━━╇━━━━━━━━━━━━━━━━╇━━━━━━━━━━━━━━━━━━━━━━━┩\n",
      "│         │ NN     │ \u001b[2mfloat32\u001b[0m[1,28,28] │ \u001b[2mfloat32\u001b[0m[1,10]  │                       │\n",
      "├─────────┼────────┼──────────────────┼────────────────┼───────────────────────┤\n",
      "│ Dense_0 │ Dense  │ \u001b[2mfloat32\u001b[0m[1,784]   │ \u001b[2mfloat32\u001b[0m[1,512] │ bias: \u001b[2mfloat32\u001b[0m[512]    │\n",
      "│         │        │                  │                │ kernel:               │\n",
      "│         │        │                  │                │ \u001b[2mfloat32\u001b[0m[784,512]      │\n",
      "│         │        │                  │                │                       │\n",
      "│         │        │                  │                │ \u001b[1m401,920 \u001b[0m\u001b[1;2m(1.6 MB)\u001b[0m      │\n",
      "├─────────┼────────┼──────────────────┼────────────────┼───────────────────────┤\n",
      "│ Dense_1 │ Dense  │ \u001b[2mfloat32\u001b[0m[1,512]   │ \u001b[2mfloat32\u001b[0m[1,128] │ bias: \u001b[2mfloat32\u001b[0m[128]    │\n",
      "│         │        │                  │                │ kernel:               │\n",
      "│         │        │                  │                │ \u001b[2mfloat32\u001b[0m[512,128]      │\n",
      "│         │        │                  │                │                       │\n",
      "│         │        │                  │                │ \u001b[1m65,664 \u001b[0m\u001b[1;2m(262.7 KB)\u001b[0m     │\n",
      "├─────────┼────────┼──────────────────┼────────────────┼───────────────────────┤\n",
      "│ Dense_2 │ Dense  │ \u001b[2mfloat32\u001b[0m[1,128]   │ \u001b[2mfloat32\u001b[0m[1,10]  │ bias: \u001b[2mfloat32\u001b[0m[10]     │\n",
      "│         │        │                  │                │ kernel:               │\n",
      "│         │        │                  │                │ \u001b[2mfloat32\u001b[0m[128,10]       │\n",
      "│         │        │                  │                │                       │\n",
      "│         │        │                  │                │ \u001b[1m1,290 \u001b[0m\u001b[1;2m(5.2 KB)\u001b[0m        │\n",
      "├─────────┼────────┼──────────────────┼────────────────┼───────────────────────┤\n",
      "│\u001b[1m \u001b[0m\u001b[1m       \u001b[0m\u001b[1m \u001b[0m│\u001b[1m \u001b[0m\u001b[1m      \u001b[0m\u001b[1m \u001b[0m│\u001b[1m \u001b[0m\u001b[1m                \u001b[0m\u001b[1m \u001b[0m│\u001b[1m \u001b[0m\u001b[1m         Total\u001b[0m\u001b[1m \u001b[0m│\u001b[1m \u001b[0m\u001b[1m468,874 \u001b[0m\u001b[1;2m(1.9 MB)\u001b[0m\u001b[1m     \u001b[0m\u001b[1m \u001b[0m│\n",
      "└─────────┴────────┴──────────────────┴────────────────┴───────────────────────┘\n",
      "\u001b[1m                                                                                \u001b[0m\n",
      "\u001b[1m                       Total Parameters: 468,874 \u001b[0m\u001b[1;2m(1.9 MB)\u001b[0m\u001b[1m                       \u001b[0m\n",
      "\n",
      "\n"
     ]
    }
   ],
   "source": [
    "import jax\n",
    "import jax.numpy as jnp\n",
    "\n",
    "net = NN()\n",
    "print(net.tabulate(jax.random.key(0), jnp.ones((1, 28, 28))))"
   ]
  },
  {
   "cell_type": "code",
   "execution_count": 5,
   "metadata": {
    "id": "1Q1oaVtOrUZI",
    "tags": []
   },
   "outputs": [],
   "source": [
    "from clu import metrics\n",
    "from flax.training import train_state\n",
    "from flax import struct\n",
    "import optax"
   ]
  },
  {
   "cell_type": "code",
   "execution_count": 6,
   "metadata": {
    "id": "GSYLtHAOrcaq",
    "tags": []
   },
   "outputs": [],
   "source": [
    "@struct.dataclass\n",
    "class Metrics(metrics.Collection):\n",
    "    accuracy: metrics.Accuracy\n",
    "    loss: metrics.Average.from_output('loss')"
   ]
  },
  {
   "cell_type": "code",
   "execution_count": 7,
   "metadata": {
    "id": "IPe18hZSr14r",
    "tags": []
   },
   "outputs": [],
   "source": [
    "class TrainState(train_state.TrainState):\n",
    "    metrics: Metrics\n",
    "\n",
    "def create_train_state(module, optimizer, rng):\n",
    "    params = module.init(rng, jnp.ones([1, 28, 28]))['params']\n",
    "    train_state = TrainState.create(\n",
    "        apply_fn=module.apply, params=params, tx=optimizer, metrics=Metrics.empty()\n",
    "    )\n",
    "    return train_state"
   ]
  },
  {
   "cell_type": "code",
   "execution_count": 8,
   "metadata": {
    "id": "-1KORsqzr6hM",
    "tags": []
   },
   "outputs": [],
   "source": [
    "@jax.jit\n",
    "def train_step(state, X, y):\n",
    "    def loss_fn(params):\n",
    "        logits = state.apply_fn({'params': params}, X)\n",
    "        loss = optax.softmax_cross_entropy_with_integer_labels(\n",
    "            logits=logits, labels=y\n",
    "        ).mean()\n",
    "        return loss\n",
    "\n",
    "    grads = jax.grad(loss_fn)(state.params)\n",
    "    state = state.apply_gradients(grads=grads)\n",
    "    return state"
   ]
  },
  {
   "cell_type": "code",
   "execution_count": 9,
   "metadata": {
    "id": "8hY5KPOas4H3",
    "tags": []
   },
   "outputs": [],
   "source": [
    "@jax.jit\n",
    "def compute_metrics(*, state, X, y):\n",
    "    logits = state.apply_fn({'params': state.params}, X)\n",
    "    loss = optax.softmax_cross_entropy_with_integer_labels(\n",
    "        logits=logits, labels=y\n",
    "    ).mean()\n",
    "    metric_updates = state.metrics.single_from_model_output(\n",
    "        logits=logits, labels=y, loss=loss\n",
    "    )\n",
    "    metrics = state.metrics.merge(metric_updates)\n",
    "    state = state.replace(metrics=metrics)\n",
    "    return state"
   ]
  },
  {
   "cell_type": "code",
   "execution_count": 10,
   "metadata": {
    "colab": {
     "base_uri": "https://localhost:8080/"
    },
    "id": "CTWXBtLayKSG",
    "outputId": "df75ad24-58d5-4de8-d8c5-7cdcb2d43dab",
    "tags": []
   },
   "outputs": [],
   "source": [
    "import mnists\n",
    "\n",
    "batch_size = 128\n",
    "\n",
    "X_train, y_train, X_test, y_test = get_datasets(mnists.FashionMNIST, batch_size)"
   ]
  },
  {
   "cell_type": "code",
   "execution_count": 10,
   "metadata": {
    "colab": {
     "base_uri": "https://localhost:8080/",
     "height": 533
    },
    "id": "W1Xy2rsMti3Q",
    "outputId": "1dd85c41-16a2-4565-fca8-01287a1ce58b",
    "tags": []
   },
   "outputs": [
    {
     "name": "stdout",
     "output_type": "stream",
     "text": [
      "Epoch:   5, [Train] loss: 2.117, accuracy: 0.171, [Test] loss: 2.112, accuracy: 0.175\n",
      "Epoch:  10, [Train] loss: 1.923, accuracy: 0.238, [Test] loss: 1.878, accuracy: 0.266\n",
      "Epoch:  15, [Train] loss: 1.603, accuracy: 0.337, [Test] loss: 1.618, accuracy: 0.331\n",
      "Epoch:  20, [Train] loss: 1.271, accuracy: 0.449, [Test] loss: 1.286, accuracy: 0.451\n",
      "Epoch:  25, [Train] loss: 1.242, accuracy: 0.457, [Test] loss: 1.270, accuracy: 0.452\n",
      "Epoch:  30, [Train] loss: 1.231, accuracy: 0.465, [Test] loss: 1.258, accuracy: 0.462\n",
      "Epoch:  35, [Train] loss: 1.053, accuracy: 0.536, [Test] loss: 1.075, accuracy: 0.546\n",
      "Epoch:  40, [Train] loss: 1.228, accuracy: 0.467, [Test] loss: 1.204, accuracy: 0.521\n",
      "Epoch:  45, [Train] loss: 1.549, accuracy: 0.341, [Test] loss: 1.532, accuracy: 0.337\n",
      "Epoch:  50, [Train] loss: 1.486, accuracy: 0.354, [Test] loss: 1.516, accuracy: 0.318\n",
      "Epoch:  55, [Train] loss: 2.085, accuracy: 0.196, [Test] loss: 2.072, accuracy: 0.190\n",
      "Epoch:  60, [Train] loss: 1.895, accuracy: 0.195, [Test] loss: 1.900, accuracy: 0.196\n",
      "Epoch:  65, [Train] loss: 1.872, accuracy: 0.198, [Test] loss: 1.899, accuracy: 0.197\n",
      "Epoch:  70, [Train] loss: 1.879, accuracy: 0.197, [Test] loss: 1.872, accuracy: 0.198\n",
      "Epoch:  75, [Train] loss: 1.874, accuracy: 0.197, [Test] loss: 1.864, accuracy: 0.198\n",
      "Epoch:  80, [Train] loss: 1.867, accuracy: 0.197, [Test] loss: 1.870, accuracy: 0.198\n",
      "Epoch:  85, [Train] loss: 1.851, accuracy: 0.197, [Test] loss: 1.866, accuracy: 0.198\n",
      "Epoch:  90, [Train] loss: 1.855, accuracy: 0.197, [Test] loss: 1.856, accuracy: 0.198\n",
      "Epoch:  95, [Train] loss: 1.857, accuracy: 0.196, [Test] loss: 1.854, accuracy: 0.198\n",
      "Epoch:  100, [Train] loss: 1.853, accuracy: 0.196, [Test] loss: 1.858, accuracy: 0.198\n"
     ]
    }
   ],
   "source": [
    "num_epochs = 100\n",
    "report_every = 5\n",
    "\n",
    "metrics_history = {'train_loss': [],\n",
    "                   'train_accuracy': [],\n",
    "                   'test_loss': [],\n",
    "                   'test_accuracy': []}\n",
    "\n",
    "optimizer = optax.sgd(learning_rate=0.001, momentum=0.9, nesterov=True)\n",
    "state = create_train_state(net, optimizer, jax.random.key(0))\n",
    "\n",
    "for epoch in range(num_epochs):\n",
    "    for X_batch, y_batch in zip(X_train, y_train):\n",
    "        state = train_step(state, X_batch, y_batch)\n",
    "        state = compute_metrics(state=state, X=X_batch, y=y_batch)\n",
    "\n",
    "    for metric, value in state.metrics.compute().items():\n",
    "        metrics_history[f'train_{metric}'].append(value)\n",
    "\n",
    "    state = state.replace(metrics=state.metrics.empty())\n",
    "\n",
    "    test_state = state\n",
    "    for X_batch, y_batch in zip(X_test, y_test):\n",
    "        test_state = compute_metrics(state=test_state, X=X_batch, y=y_batch)\n",
    "\n",
    "    for metric, value in test_state.metrics.compute().items():\n",
    "        metrics_history[f'test_{metric}'].append(value)\n",
    "\n",
    "    if (epoch + 1) % report_every == 0:\n",
    "        print(f\"Epoch: {epoch+1: 3d}, \"\n",
    "            f\"[Train] loss: {metrics_history['train_loss'][-1]:.3f}, \"\n",
    "            f\"accuracy: {metrics_history['train_accuracy'][-1]:.3f}, \"\n",
    "            f\"[Test] loss: {metrics_history['test_loss'][-1]:.3f}, \"\n",
    "            f\"accuracy: {metrics_history['test_accuracy'][-1]:.3f}\")"
   ]
  },
  {
   "cell_type": "code",
   "execution_count": 12,
   "metadata": {
    "colab": {
     "base_uri": "https://localhost:8080/",
     "height": 486
    },
    "id": "ZGatGnu1z0OB",
    "outputId": "89e3e9aa-f3ca-43da-8b33-29fbd8bfb309",
    "tags": []
   },
   "outputs": [
    {
     "data": {
      "image/png": "[encoded data removed]",
      "text/plain": [
       "<Figure size 1500x500 with 2 Axes>"
      ]
     },
     "metadata": {},
     "output_type": "display_data"
    },
    {
     "data": {
      "text/plain": [
       "<Figure size 640x480 with 0 Axes>"
      ]
     },
     "metadata": {},
     "output_type": "display_data"
    }
   ],
   "source": [
    "import matplotlib.pyplot as plt\n",
    "\n",
    "fig, (ax1, ax2) = plt.subplots(1, 2, figsize=(15, 5))\n",
    "ax1.set_title('Loss')\n",
    "ax2.set_title('Accuracy')\n",
    "for dataset in ('train','test'):\n",
    "    ax1.plot(metrics_history[f'{dataset}_loss'], label=f'{dataset}_loss')\n",
    "    ax2.plot(metrics_history[f'{dataset}_accuracy'], label=f'{dataset}_accuracy')\n",
    "ax1.legend()\n",
    "ax2.legend()\n",
    "plt.show()\n",
    "plt.clf()"
   ]
  },
  {
   "cell_type": "code",
   "execution_count": 13,
   "metadata": {
    "id": "PBm92iSW2oB6",
    "tags": []
   },
   "outputs": [],
   "source": [
    "class CNN(nn.Module):\n",
    "    @nn.compact\n",
    "    def __call__(self, x):\n",
    "        x = x[..., None]\n",
    "        x = nn.Conv(features=32, kernel_size=(3, 3))(x)\n",
    "        x = nn.relu(x)\n",
    "        x = nn.avg_pool(x, window_shape=(2, 2), strides=(2, 2))\n",
    "        x = nn.Conv(features=64, kernel_size=(3, 3))(x)\n",
    "        x = nn.relu(x)\n",
    "        x = nn.avg_pool(x, window_shape=(2, 2), strides=(2, 2))\n",
    "        x = x.reshape((x.shape[0], -1))\n",
    "        x = nn.Dense(features=512)(x)\n",
    "        x = nn.relu(x)\n",
    "        x = nn.Dense(features=128)(x)\n",
    "        x = nn.relu(x)\n",
    "        x = nn.Dense(features=10)(x)\n",
    "        return x"
   ]
  },
  {
   "cell_type": "code",
   "execution_count": 14,
   "metadata": {
    "colab": {
     "base_uri": "https://localhost:8080/"
    },
    "id": "jhcby25E5FrW",
    "outputId": "ee4b0748-11ff-47f0-b384-d93b1deaee44",
    "tags": []
   },
   "outputs": [
    {
     "name": "stdout",
     "output_type": "stream",
     "text": [
      "\n",
      "\u001b[3m                                  CNN Summary                                   \u001b[0m\n",
      "┏━━━━━━━━━┳━━━━━━━━┳━━━━━━━━━━━━━━━━━━━┳━━━━━━━━━━━━━━━━━━━┳━━━━━━━━━━━━━━━━━━━┓\n",
      "┃\u001b[1m \u001b[0m\u001b[1mpath   \u001b[0m\u001b[1m \u001b[0m┃\u001b[1m \u001b[0m\u001b[1mmodule\u001b[0m\u001b[1m \u001b[0m┃\u001b[1m \u001b[0m\u001b[1minputs           \u001b[0m\u001b[1m \u001b[0m┃\u001b[1m \u001b[0m\u001b[1moutputs          \u001b[0m\u001b[1m \u001b[0m┃\u001b[1m \u001b[0m\u001b[1mparams           \u001b[0m\u001b[1m \u001b[0m┃\n",
      "┡━━━━━━━━━╇━━━━━━━━╇━━━━━━━━━━━━━━━━━━━╇━━━━━━━━━━━━━━━━━━━╇━━━━━━━━━━━━━━━━━━━┩\n",
      "│         │ CNN    │ \u001b[2mfloat32\u001b[0m[1,28,28]  │ \u001b[2mfloat32\u001b[0m[1,10]     │                   │\n",
      "├─────────┼────────┼───────────────────┼───────────────────┼───────────────────┤\n",
      "│ Conv_0  │ Conv   │ \u001b[2mfloat32\u001b[0m[1,28,28,… │ \u001b[2mfloat32\u001b[0m[1,28,28,… │ bias: \u001b[2mfloat32\u001b[0m[32] │\n",
      "│         │        │                   │                   │ kernel:           │\n",
      "│         │        │                   │                   │ \u001b[2mfloat32\u001b[0m[3,3,1,32] │\n",
      "│         │        │                   │                   │                   │\n",
      "│         │        │                   │                   │ \u001b[1m320 \u001b[0m\u001b[1;2m(1.3 KB)\u001b[0m      │\n",
      "├─────────┼────────┼───────────────────┼───────────────────┼───────────────────┤\n",
      "│ Conv_1  │ Conv   │ \u001b[2mfloat32\u001b[0m[1,14,14,… │ \u001b[2mfloat32\u001b[0m[1,14,14,… │ bias: \u001b[2mfloat32\u001b[0m[64] │\n",
      "│         │        │                   │                   │ kernel:           │\n",
      "│         │        │                   │                   │ \u001b[2mfloat32\u001b[0m[3,3,32,6… │\n",
      "│         │        │                   │                   │                   │\n",
      "│         │        │                   │                   │ \u001b[1m18,496 \u001b[0m\u001b[1;2m(74.0 KB)\u001b[0m  │\n",
      "├─────────┼────────┼───────────────────┼───────────────────┼───────────────────┤\n",
      "│ Dense_0 │ Dense  │ \u001b[2mfloat32\u001b[0m[1,3136]   │ \u001b[2mfloat32\u001b[0m[1,512]    │ bias:             │\n",
      "│         │        │                   │                   │ \u001b[2mfloat32\u001b[0m[512]      │\n",
      "│         │        │                   │                   │ kernel:           │\n",
      "│         │        │                   │                   │ \u001b[2mfloat32\u001b[0m[3136,512] │\n",
      "│         │        │                   │                   │                   │\n",
      "│         │        │                   │                   │ \u001b[1m1,606,144 \u001b[0m\u001b[1;2m(6.4 \u001b[0m   │\n",
      "│         │        │                   │                   │ \u001b[1;2mMB)\u001b[0m               │\n",
      "├─────────┼────────┼───────────────────┼───────────────────┼───────────────────┤\n",
      "│ Dense_1 │ Dense  │ \u001b[2mfloat32\u001b[0m[1,512]    │ \u001b[2mfloat32\u001b[0m[1,128]    │ bias:             │\n",
      "│         │        │                   │                   │ \u001b[2mfloat32\u001b[0m[128]      │\n",
      "│         │        │                   │                   │ kernel:           │\n",
      "│         │        │                   │                   │ \u001b[2mfloat32\u001b[0m[512,128]  │\n",
      "│         │        │                   │                   │                   │\n",
      "│         │        │                   │                   │ \u001b[1m65,664 \u001b[0m\u001b[1;2m(262.7 KB)\u001b[0m │\n",
      "├─────────┼────────┼───────────────────┼───────────────────┼───────────────────┤\n",
      "│ Dense_2 │ Dense  │ \u001b[2mfloat32\u001b[0m[1,128]    │ \u001b[2mfloat32\u001b[0m[1,10]     │ bias: \u001b[2mfloat32\u001b[0m[10] │\n",
      "│         │        │                   │                   │ kernel:           │\n",
      "│         │        │                   │                   │ \u001b[2mfloat32\u001b[0m[128,10]   │\n",
      "│         │        │                   │                   │                   │\n",
      "│         │        │                   │                   │ \u001b[1m1,290 \u001b[0m\u001b[1;2m(5.2 KB)\u001b[0m    │\n",
      "├─────────┼────────┼───────────────────┼───────────────────┼───────────────────┤\n",
      "│\u001b[1m \u001b[0m\u001b[1m       \u001b[0m\u001b[1m \u001b[0m│\u001b[1m \u001b[0m\u001b[1m      \u001b[0m\u001b[1m \u001b[0m│\u001b[1m \u001b[0m\u001b[1m                 \u001b[0m\u001b[1m \u001b[0m│\u001b[1m \u001b[0m\u001b[1m            Total\u001b[0m\u001b[1m \u001b[0m│\u001b[1m \u001b[0m\u001b[1m1,691,914 \u001b[0m\u001b[1;2m(6.8 \u001b[0m\u001b[1m  \u001b[0m\u001b[1m \u001b[0m│\n",
      "│\u001b[1m         \u001b[0m│\u001b[1m        \u001b[0m│\u001b[1m                   \u001b[0m│\u001b[1m                   \u001b[0m│\u001b[1m \u001b[0m\u001b[1;2mMB)\u001b[0m\u001b[1m              \u001b[0m\u001b[1m \u001b[0m│\n",
      "└─────────┴────────┴───────────────────┴───────────────────┴───────────────────┘\n",
      "\u001b[1m                                                                                \u001b[0m\n",
      "\u001b[1m                      Total Parameters: 1,691,914 \u001b[0m\u001b[1;2m(6.8 MB)\u001b[0m\u001b[1m                      \u001b[0m\n",
      "\n",
      "\n"
     ]
    }
   ],
   "source": [
    "cnn = CNN()\n",
    "print(cnn.tabulate(jax.random.key(0), jnp.ones((1, 28, 28))))"
   ]
  },
  {
   "cell_type": "code",
   "execution_count": 16,
   "metadata": {
    "colab": {
     "base_uri": "https://localhost:8080/",
     "height": 625
    },
    "id": "oHmPZPpq5E7i",
    "outputId": "a61847c3-9b6d-426d-88a3-702dbe2b7464",
    "tags": []
   },
   "outputs": [
    {
     "name": "stdout",
     "output_type": "stream",
     "text": [
      "Epoch:   5, [Train] loss: 0.205, accuracy: 0.929, [Test] loss: 0.285, accuracy: 0.899\n",
      "Epoch:  10, [Train] loss: 0.146, accuracy: 0.951, [Test] loss: 0.277, accuracy: 0.905\n",
      "Epoch:  15, [Train] loss: 0.102, accuracy: 0.968, [Test] loss: 0.289, accuracy: 0.908\n",
      "Epoch:  20, [Train] loss: 0.068, accuracy: 0.982, [Test] loss: 0.316, accuracy: 0.909\n",
      "Epoch:  25, [Train] loss: 0.042, accuracy: 0.991, [Test] loss: 0.353, accuracy: 0.908\n",
      "Epoch:  30, [Train] loss: 0.026, accuracy: 0.996, [Test] loss: 0.416, accuracy: 0.904\n",
      "Epoch:  35, [Train] loss: 0.018, accuracy: 0.998, [Test] loss: 0.476, accuracy: 0.903\n",
      "Epoch:  40, [Train] loss: 0.013, accuracy: 0.999, [Test] loss: 0.551, accuracy: 0.904\n",
      "Epoch:  45, [Train] loss: 0.009, accuracy: 1.000, [Test] loss: 0.600, accuracy: 0.904\n",
      "Epoch:  50, [Train] loss: 0.006, accuracy: 1.000, [Test] loss: 0.539, accuracy: 0.914\n",
      "Epoch:  55, [Train] loss: 0.005, accuracy: 1.000, [Test] loss: 0.596, accuracy: 0.911\n",
      "Epoch:  60, [Train] loss: 0.003, accuracy: 1.000, [Test] loss: 0.619, accuracy: 0.909\n",
      "Epoch:  65, [Train] loss: 0.002, accuracy: 1.000, [Test] loss: 0.657, accuracy: 0.912\n",
      "Epoch:  70, [Train] loss: 0.001, accuracy: 1.000, [Test] loss: 0.623, accuracy: 0.918\n",
      "Epoch:  75, [Train] loss: 0.001, accuracy: 1.000, [Test] loss: 0.669, accuracy: 0.914\n",
      "Epoch:  80, [Train] loss: 0.001, accuracy: 1.000, [Test] loss: 0.652, accuracy: 0.916\n",
      "Epoch:  85, [Train] loss: 0.000, accuracy: 1.000, [Test] loss: 0.663, accuracy: 0.921\n",
      "Epoch:  90, [Train] loss: 0.000, accuracy: 1.000, [Test] loss: 0.678, accuracy: 0.921\n",
      "Epoch:  95, [Train] loss: 0.000, accuracy: 1.000, [Test] loss: 0.691, accuracy: 0.921\n",
      "Epoch:  100, [Train] loss: 0.000, accuracy: 1.000, [Test] loss: 0.701, accuracy: 0.922\n",
      "Epoch:  105, [Train] loss: 0.000, accuracy: 1.000, [Test] loss: 0.710, accuracy: 0.922\n",
      "Epoch:  110, [Train] loss: 0.000, accuracy: 1.000, [Test] loss: 0.717, accuracy: 0.922\n",
      "Epoch:  115, [Train] loss: 0.000, accuracy: 1.000, [Test] loss: 0.724, accuracy: 0.922\n",
      "Epoch:  120, [Train] loss: 0.000, accuracy: 1.000, [Test] loss: 0.730, accuracy: 0.922\n",
      "Epoch:  125, [Train] loss: 0.000, accuracy: 1.000, [Test] loss: 0.736, accuracy: 0.922\n",
      "Epoch:  130, [Train] loss: 0.000, accuracy: 1.000, [Test] loss: 0.741, accuracy: 0.922\n",
      "Epoch:  135, [Train] loss: 0.000, accuracy: 1.000, [Test] loss: 0.746, accuracy: 0.922\n",
      "Epoch:  140, [Train] loss: 0.000, accuracy: 1.000, [Test] loss: 0.750, accuracy: 0.922\n",
      "Epoch:  145, [Train] loss: 0.000, accuracy: 1.000, [Test] loss: 0.754, accuracy: 0.922\n",
      "Epoch:  150, [Train] loss: 0.000, accuracy: 1.000, [Test] loss: 0.758, accuracy: 0.922\n",
      "Epoch:  155, [Train] loss: 0.000, accuracy: 1.000, [Test] loss: 0.762, accuracy: 0.922\n",
      "Epoch:  160, [Train] loss: 0.000, accuracy: 1.000, [Test] loss: 0.765, accuracy: 0.922\n",
      "Epoch:  165, [Train] loss: 0.000, accuracy: 1.000, [Test] loss: 0.769, accuracy: 0.922\n",
      "Epoch:  170, [Train] loss: 0.000, accuracy: 1.000, [Test] loss: 0.772, accuracy: 0.922\n",
      "Epoch:  175, [Train] loss: 0.000, accuracy: 1.000, [Test] loss: 0.775, accuracy: 0.922\n",
      "Epoch:  180, [Train] loss: 0.000, accuracy: 1.000, [Test] loss: 0.777, accuracy: 0.922\n",
      "Epoch:  185, [Train] loss: 0.000, accuracy: 1.000, [Test] loss: 0.780, accuracy: 0.922\n",
      "Epoch:  190, [Train] loss: 0.000, accuracy: 1.000, [Test] loss: 0.783, accuracy: 0.922\n",
      "Epoch:  195, [Train] loss: 0.000, accuracy: 1.000, [Test] loss: 0.785, accuracy: 0.922\n",
      "Epoch:  200, [Train] loss: 0.000, accuracy: 1.000, [Test] loss: 0.787, accuracy: 0.922\n",
      "Epoch:  205, [Train] loss: 0.000, accuracy: 1.000, [Test] loss: 0.790, accuracy: 0.922\n",
      "Epoch:  210, [Train] loss: 0.000, accuracy: 1.000, [Test] loss: 0.792, accuracy: 0.922\n",
      "Epoch:  215, [Train] loss: 0.000, accuracy: 1.000, [Test] loss: 0.794, accuracy: 0.922\n",
      "Epoch:  220, [Train] loss: 0.000, accuracy: 1.000, [Test] loss: 0.796, accuracy: 0.922\n",
      "Epoch:  225, [Train] loss: 0.000, accuracy: 1.000, [Test] loss: 0.798, accuracy: 0.922\n",
      "Epoch:  230, [Train] loss: 0.000, accuracy: 1.000, [Test] loss: 0.800, accuracy: 0.922\n",
      "Epoch:  235, [Train] loss: 0.000, accuracy: 1.000, [Test] loss: 0.802, accuracy: 0.922\n",
      "Epoch:  240, [Train] loss: 0.000, accuracy: 1.000, [Test] loss: 0.804, accuracy: 0.922\n",
      "Epoch:  245, [Train] loss: 0.000, accuracy: 1.000, [Test] loss: 0.805, accuracy: 0.922\n",
      "Epoch:  250, [Train] loss: 0.000, accuracy: 1.000, [Test] loss: 0.807, accuracy: 0.922\n",
      "Epoch:  255, [Train] loss: 0.000, accuracy: 1.000, [Test] loss: 0.809, accuracy: 0.922\n",
      "Epoch:  260, [Train] loss: 0.000, accuracy: 1.000, [Test] loss: 0.811, accuracy: 0.922\n",
      "Epoch:  265, [Train] loss: 0.000, accuracy: 1.000, [Test] loss: 0.812, accuracy: 0.922\n",
      "Epoch:  270, [Train] loss: 0.000, accuracy: 1.000, [Test] loss: 0.814, accuracy: 0.922\n",
      "Epoch:  275, [Train] loss: 0.000, accuracy: 1.000, [Test] loss: 0.815, accuracy: 0.922\n",
      "Epoch:  280, [Train] loss: 0.000, accuracy: 1.000, [Test] loss: 0.817, accuracy: 0.922\n",
      "Epoch:  285, [Train] loss: 0.000, accuracy: 1.000, [Test] loss: 0.818, accuracy: 0.922\n",
      "Epoch:  290, [Train] loss: 0.000, accuracy: 1.000, [Test] loss: 0.820, accuracy: 0.922\n",
      "Epoch:  295, [Train] loss: 0.000, accuracy: 1.000, [Test] loss: 0.821, accuracy: 0.922\n"
     ]
    },
    {
     "ename": "KeyboardInterrupt",
     "evalue": "",
     "output_type": "error",
     "traceback": [
      "\u001b[0;31m---------------------------------------------------------------------------\u001b[0m",
      "\u001b[0;31mKeyboardInterrupt\u001b[0m                         Traceback (most recent call last)",
      "Cell \u001b[0;32mIn[16], line 15\u001b[0m\n\u001b[1;32m     13\u001b[0m \u001b[38;5;28;01mfor\u001b[39;00m epoch \u001b[38;5;129;01min\u001b[39;00m \u001b[38;5;28mrange\u001b[39m(num_epochs):\n\u001b[1;32m     14\u001b[0m     \u001b[38;5;28;01mfor\u001b[39;00m X_batch, y_batch \u001b[38;5;129;01min\u001b[39;00m \u001b[38;5;28mzip\u001b[39m(X_train, y_train):\n\u001b[0;32m---> 15\u001b[0m         state \u001b[38;5;241m=\u001b[39m \u001b[43mtrain_step\u001b[49m\u001b[43m(\u001b[49m\u001b[43mstate\u001b[49m\u001b[43m,\u001b[49m\u001b[43m \u001b[49m\u001b[43mX_batch\u001b[49m\u001b[43m,\u001b[49m\u001b[43m \u001b[49m\u001b[43my_batch\u001b[49m\u001b[43m)\u001b[49m\n\u001b[1;32m     16\u001b[0m         state \u001b[38;5;241m=\u001b[39m compute_metrics(state\u001b[38;5;241m=\u001b[39mstate, X\u001b[38;5;241m=\u001b[39mX_batch, y\u001b[38;5;241m=\u001b[39my_batch)\n\u001b[1;32m     18\u001b[0m     \u001b[38;5;28;01mfor\u001b[39;00m metric, value \u001b[38;5;129;01min\u001b[39;00m state\u001b[38;5;241m.\u001b[39mmetrics\u001b[38;5;241m.\u001b[39mcompute()\u001b[38;5;241m.\u001b[39mitems():\n",
      "File \u001b[0;32m<string>:1\u001b[0m, in \u001b[0;36m<lambda>\u001b[0;34m(_cls, trace)\u001b[0m\n",
      "\u001b[0;31mKeyboardInterrupt\u001b[0m: "
     ]
    }
   ],
   "source": [
    "num_epochs = 1000\n",
    "report_every = 5\n",
    "\n",
    "metrics_history = {'train_loss': [],\n",
    "                   'train_accuracy': [],\n",
    "                   'test_loss': [],\n",
    "                   'test_accuracy': []}\n",
    "\n",
    "optimizer = optax.sgd(learning_rate=0.001, momentum=0.9, nesterov=True)\n",
    "# optimizer = optax.adam(learning_rate=0.001)#, momentum=0.9, nesterov=True)\n",
    "state = create_train_state(cnn, optimizer, jax.random.key(0))\n",
    "\n",
    "for epoch in range(num_epochs):\n",
    "    for X_batch, y_batch in zip(X_train, y_train):\n",
    "        state = train_step(state, X_batch, y_batch)\n",
    "        state = compute_metrics(state=state, X=X_batch, y=y_batch)\n",
    "\n",
    "    for metric, value in state.metrics.compute().items():\n",
    "        metrics_history[f'train_{metric}'].append(value)\n",
    "\n",
    "    state = state.replace(metrics=state.metrics.empty())\n",
    "\n",
    "    test_state = state\n",
    "    for X_batch, y_batch in zip(X_test, y_test):\n",
    "        test_state = compute_metrics(state=test_state, X=X_batch, y=y_batch)\n",
    "\n",
    "    for metric, value in test_state.metrics.compute().items():\n",
    "        metrics_history[f'test_{metric}'].append(value)\n",
    "\n",
    "    if (epoch + 1) % report_every == 0:\n",
    "        print(f\"Epoch: {epoch+1: 3d}, \"\n",
    "            f\"[Train] loss: {metrics_history['train_loss'][-1]:.3f}, \"\n",
    "            f\"accuracy: {metrics_history['train_accuracy'][-1]:.3f}, \"\n",
    "            f\"[Test] loss: {metrics_history['test_loss'][-1]:.3f}, \"\n",
    "            f\"accuracy: {metrics_history['test_accuracy'][-1]:.3f}\")"
   ]
  },
  {
   "cell_type": "code",
   "execution_count": 17,
   "metadata": {
    "colab": {
     "base_uri": "https://localhost:8080/",
     "height": 486
    },
    "id": "vu2T_k035pFj",
    "outputId": "444ff51d-1d3e-477e-a37d-0b163ee68691",
    "tags": []
   },
   "outputs": [
    {
     "data": {
      "image/png": "[encoded data removed]",
      "text/plain": [
       "<Figure size 1500x500 with 2 Axes>"
      ]
     },
     "metadata": {},
     "output_type": "display_data"
    },
    {
     "data": {
      "text/plain": [
       "<Figure size 640x480 with 0 Axes>"
      ]
     },
     "metadata": {},
     "output_type": "display_data"
    }
   ],
   "source": [
    "import matplotlib.pyplot as plt\n",
    "\n",
    "fig, (ax1, ax2) = plt.subplots(1, 2, figsize=(15, 5))\n",
    "ax1.set_title('Loss')\n",
    "ax2.set_title('Accuracy')\n",
    "for dataset in ('train','test'):\n",
    "    ax1.plot(metrics_history[f'{dataset}_loss'], label=f'{dataset}_loss')\n",
    "    ax2.plot(metrics_history[f'{dataset}_accuracy'], label=f'{dataset}_accuracy')\n",
    "ax1.legend()\n",
    "ax2.legend()\n",
    "plt.show()\n",
    "plt.clf()"
   ]
  },
  {
   "cell_type": "code",
   "execution_count": 11,
   "metadata": {
    "id": "zNcXGLr46U4f",
    "tags": []
   },
   "outputs": [],
   "source": [
    "class CNNDropout(nn.Module):\n",
    "    @nn.compact\n",
    "    def __call__(self, x, training: bool):\n",
    "        x = x[..., None]\n",
    "        x = nn.Conv(features=32, kernel_size=(3, 3))(x)\n",
    "        x = nn.relu(x)\n",
    "        x = nn.avg_pool(x, window_shape=(2, 2), strides=(2, 2))\n",
    "        x = nn.Dropout(rate=0.5, deterministic=not training)(x)\n",
    "        x = nn.Conv(features=64, kernel_size=(3, 3))(x)\n",
    "        x = nn.relu(x)\n",
    "        x = nn.avg_pool(x, window_shape=(2, 2), strides=(2, 2))\n",
    "        x = nn.Dropout(rate=0.5, deterministic=not training)(x)\n",
    "        x = x.reshape((x.shape[0], -1))\n",
    "        x = nn.Dropout(rate=0.5, deterministic=not training)(x)\n",
    "        x = nn.Dense(features=256)(x)\n",
    "        x = nn.relu(x)\n",
    "        x = nn.Dropout(rate=0.5, deterministic=not training)(x)\n",
    "        x = nn.Dense(features=256)(x)\n",
    "        x = nn.relu(x)\n",
    "        x = nn.Dropout(rate=0.5, deterministic=not training)(x)\n",
    "        x = nn.Dense(features=256)(x)\n",
    "        x = nn.relu(x)\n",
    "        x = nn.Dropout(rate=0.5, deterministic=not training)(x)\n",
    "        x = nn.Dense(features=256)(x)\n",
    "        x = nn.relu(x)\n",
    "        x = nn.Dropout(rate=0.5, deterministic=not training)(x)\n",
    "        x = nn.Dense(features=10)(x)\n",
    "        return x\n",
    "\n",
    "cnnd = CNNDropout()"
   ]
  },
  {
   "cell_type": "code",
   "execution_count": 12,
   "metadata": {
    "colab": {
     "base_uri": "https://localhost:8080/"
    },
    "id": "pOsSlgiGAIV9",
    "outputId": "efcfa5ec-fccc-42b7-cebb-007e35287799",
    "tags": []
   },
   "outputs": [
    {
     "name": "stdout",
     "output_type": "stream",
     "text": [
      "\n",
      "\u001b[3m                               CNNDropout Summary                               \u001b[0m\n",
      "┏━━━━━━━━━━━┳━━━━━━━━━━━━┳━━━━━━━━━━━━━━━━━┳━━━━━━━━━━━━━━━━━┳━━━━━━━━━━━━━━━━━┓\n",
      "┃\u001b[1m \u001b[0m\u001b[1mpath     \u001b[0m\u001b[1m \u001b[0m┃\u001b[1m \u001b[0m\u001b[1mmodule    \u001b[0m\u001b[1m \u001b[0m┃\u001b[1m \u001b[0m\u001b[1minputs         \u001b[0m\u001b[1m \u001b[0m┃\u001b[1m \u001b[0m\u001b[1moutputs        \u001b[0m\u001b[1m \u001b[0m┃\u001b[1m \u001b[0m\u001b[1mparams         \u001b[0m\u001b[1m \u001b[0m┃\n",
      "┡━━━━━━━━━━━╇━━━━━━━━━━━━╇━━━━━━━━━━━━━━━━━╇━━━━━━━━━━━━━━━━━╇━━━━━━━━━━━━━━━━━┩\n",
      "│           │ CNNDropout │ -               │ \u001b[2mfloat32\u001b[0m[1,10]   │                 │\n",
      "│           │            │ \u001b[2mfloat32\u001b[0m[1,28,2… │                 │                 │\n",
      "│           │            │ - training:     │                 │                 │\n",
      "│           │            │ False           │                 │                 │\n",
      "├───────────┼────────────┼─────────────────┼─────────────────┼─────────────────┤\n",
      "│ Conv_0    │ Conv       │ \u001b[2mfloat32\u001b[0m[1,28,2… │ \u001b[2mfloat32\u001b[0m[1,28,2… │ bias:           │\n",
      "│           │            │                 │                 │ \u001b[2mfloat32\u001b[0m[32]     │\n",
      "│           │            │                 │                 │ kernel:         │\n",
      "│           │            │                 │                 │ \u001b[2mfloat32\u001b[0m[3,3,1,… │\n",
      "│           │            │                 │                 │                 │\n",
      "│           │            │                 │                 │ \u001b[1m320 \u001b[0m\u001b[1;2m(1.3 KB)\u001b[0m    │\n",
      "├───────────┼────────────┼─────────────────┼─────────────────┼─────────────────┤\n",
      "│ Dropout_0 │ Dropout    │ \u001b[2mfloat32\u001b[0m[1,14,1… │ \u001b[2mfloat32\u001b[0m[1,14,1… │                 │\n",
      "├───────────┼────────────┼─────────────────┼─────────────────┼─────────────────┤\n",
      "│ Conv_1    │ Conv       │ \u001b[2mfloat32\u001b[0m[1,14,1… │ \u001b[2mfloat32\u001b[0m[1,14,1… │ bias:           │\n",
      "│           │            │                 │                 │ \u001b[2mfloat32\u001b[0m[64]     │\n",
      "│           │            │                 │                 │ kernel:         │\n",
      "│           │            │                 │                 │ \u001b[2mfloat32\u001b[0m[3,3,32… │\n",
      "│           │            │                 │                 │                 │\n",
      "│           │            │                 │                 │ \u001b[1m18,496 \u001b[0m\u001b[1;2m(74.0 \u001b[0m   │\n",
      "│           │            │                 │                 │ \u001b[1;2mKB)\u001b[0m             │\n",
      "├───────────┼────────────┼─────────────────┼─────────────────┼─────────────────┤\n",
      "│ Dropout_1 │ Dropout    │ \u001b[2mfloat32\u001b[0m[1,7,7,… │ \u001b[2mfloat32\u001b[0m[1,7,7,… │                 │\n",
      "├───────────┼────────────┼─────────────────┼─────────────────┼─────────────────┤\n",
      "│ Dropout_2 │ Dropout    │ \u001b[2mfloat32\u001b[0m[1,3136] │ \u001b[2mfloat32\u001b[0m[1,3136] │                 │\n",
      "├───────────┼────────────┼─────────────────┼─────────────────┼─────────────────┤\n",
      "│ Dense_0   │ Dense      │ \u001b[2mfloat32\u001b[0m[1,3136] │ \u001b[2mfloat32\u001b[0m[1,512]  │ bias:           │\n",
      "│           │            │                 │                 │ \u001b[2mfloat32\u001b[0m[512]    │\n",
      "│           │            │                 │                 │ kernel:         │\n",
      "│           │            │                 │                 │ \u001b[2mfloat32\u001b[0m[3136,5… │\n",
      "│           │            │                 │                 │                 │\n",
      "│           │            │                 │                 │ \u001b[1m1,606,144 \u001b[0m\u001b[1;2m(6.4 \u001b[0m │\n",
      "│           │            │                 │                 │ \u001b[1;2mMB)\u001b[0m             │\n",
      "├───────────┼────────────┼─────────────────┼─────────────────┼─────────────────┤\n",
      "│ Dropout_3 │ Dropout    │ \u001b[2mfloat32\u001b[0m[1,512]  │ \u001b[2mfloat32\u001b[0m[1,512]  │                 │\n",
      "├───────────┼────────────┼─────────────────┼─────────────────┼─────────────────┤\n",
      "│ Dense_1   │ Dense      │ \u001b[2mfloat32\u001b[0m[1,512]  │ \u001b[2mfloat32\u001b[0m[1,256]  │ bias:           │\n",
      "│           │            │                 │                 │ \u001b[2mfloat32\u001b[0m[256]    │\n",
      "│           │            │                 │                 │ kernel:         │\n",
      "│           │            │                 │                 │ \u001b[2mfloat32\u001b[0m[512,25… │\n",
      "│           │            │                 │                 │                 │\n",
      "│           │            │                 │                 │ \u001b[1m131,328 \u001b[0m\u001b[1;2m(525.3 \u001b[0m │\n",
      "│           │            │                 │                 │ \u001b[1;2mKB)\u001b[0m             │\n",
      "├───────────┼────────────┼─────────────────┼─────────────────┼─────────────────┤\n",
      "│ Dropout_4 │ Dropout    │ \u001b[2mfloat32\u001b[0m[1,256]  │ \u001b[2mfloat32\u001b[0m[1,256]  │                 │\n",
      "├───────────┼────────────┼─────────────────┼─────────────────┼─────────────────┤\n",
      "│ Dense_2   │ Dense      │ \u001b[2mfloat32\u001b[0m[1,256]  │ \u001b[2mfloat32\u001b[0m[1,128]  │ bias:           │\n",
      "│           │            │                 │                 │ \u001b[2mfloat32\u001b[0m[128]    │\n",
      "│           │            │                 │                 │ kernel:         │\n",
      "│           │            │                 │                 │ \u001b[2mfloat32\u001b[0m[256,12… │\n",
      "│           │            │                 │                 │                 │\n",
      "│           │            │                 │                 │ \u001b[1m32,896 \u001b[0m\u001b[1;2m(131.6 \u001b[0m  │\n",
      "│           │            │                 │                 │ \u001b[1;2mKB)\u001b[0m             │\n",
      "├───────────┼────────────┼─────────────────┼─────────────────┼─────────────────┤\n",
      "│ Dropout_5 │ Dropout    │ \u001b[2mfloat32\u001b[0m[1,128]  │ \u001b[2mfloat32\u001b[0m[1,128]  │                 │\n",
      "├───────────┼────────────┼─────────────────┼─────────────────┼─────────────────┤\n",
      "│ Dense_3   │ Dense      │ \u001b[2mfloat32\u001b[0m[1,128]  │ \u001b[2mfloat32\u001b[0m[1,64]   │ bias:           │\n",
      "│           │            │                 │                 │ \u001b[2mfloat32\u001b[0m[64]     │\n",
      "│           │            │                 │                 │ kernel:         │\n",
      "│           │            │                 │                 │ \u001b[2mfloat32\u001b[0m[128,64] │\n",
      "│           │            │                 │                 │                 │\n",
      "│           │            │                 │                 │ \u001b[1m8,256 \u001b[0m\u001b[1;2m(33.0 KB)\u001b[0m │\n",
      "├───────────┼────────────┼─────────────────┼─────────────────┼─────────────────┤\n",
      "│ Dropout_6 │ Dropout    │ \u001b[2mfloat32\u001b[0m[1,64]   │ \u001b[2mfloat32\u001b[0m[1,64]   │                 │\n",
      "├───────────┼────────────┼─────────────────┼─────────────────┼─────────────────┤\n",
      "│ Dense_4   │ Dense      │ \u001b[2mfloat32\u001b[0m[1,64]   │ \u001b[2mfloat32\u001b[0m[1,10]   │ bias:           │\n",
      "│           │            │                 │                 │ \u001b[2mfloat32\u001b[0m[10]     │\n",
      "│           │            │                 │                 │ kernel:         │\n",
      "│           │            │                 │                 │ \u001b[2mfloat32\u001b[0m[64,10]  │\n",
      "│           │            │                 │                 │                 │\n",
      "│           │            │                 │                 │ \u001b[1m650 \u001b[0m\u001b[1;2m(2.6 KB)\u001b[0m    │\n",
      "├───────────┼────────────┼─────────────────┼─────────────────┼─────────────────┤\n",
      "│\u001b[1m \u001b[0m\u001b[1m         \u001b[0m\u001b[1m \u001b[0m│\u001b[1m \u001b[0m\u001b[1m          \u001b[0m\u001b[1m \u001b[0m│\u001b[1m \u001b[0m\u001b[1m               \u001b[0m\u001b[1m \u001b[0m│\u001b[1m \u001b[0m\u001b[1m          Total\u001b[0m\u001b[1m \u001b[0m│\u001b[1m \u001b[0m\u001b[1m1,798,090 \u001b[0m\u001b[1;2m(7.2 \u001b[0m\u001b[1m \u001b[0m│\n",
      "│\u001b[1m           \u001b[0m│\u001b[1m            \u001b[0m│\u001b[1m                 \u001b[0m│\u001b[1m                 \u001b[0m│\u001b[1m \u001b[0m\u001b[1;2mMB)\u001b[0m\u001b[1m            \u001b[0m\u001b[1m \u001b[0m│\n",
      "└───────────┴────────────┴─────────────────┴─────────────────┴─────────────────┘\n",
      "\u001b[1m                                                                                \u001b[0m\n",
      "\u001b[1m                      Total Parameters: 1,798,090 \u001b[0m\u001b[1;2m(7.2 MB)\u001b[0m\u001b[1m                      \u001b[0m\n",
      "\n",
      "\n"
     ]
    }
   ],
   "source": [
    "print(cnnd.tabulate(jax.random.key(0), jnp.ones((1, 28, 28)), training=False))"
   ]
  },
  {
   "cell_type": "code",
   "execution_count": 13,
   "metadata": {
    "id": "iVf9S2ewA1-S",
    "tags": []
   },
   "outputs": [],
   "source": [
    "class TrainState(train_state.TrainState):\n",
    "    metrics: Metrics\n",
    "    key: jax.Array\n",
    "\n",
    "def create_train_state(module, optimizer, rng, dropout_key):\n",
    "    params = module.init(rng, jnp.ones([1, 28, 28]), training=False)['params']\n",
    "    train_state = TrainState.create(\n",
    "        apply_fn=module.apply, params=params, tx=optimizer, metrics=Metrics.empty(), key=dropout_key\n",
    "    )\n",
    "    return train_state"
   ]
  },
  {
   "cell_type": "code",
   "execution_count": 14,
   "metadata": {
    "id": "ZQPOio0NA1-T",
    "tags": []
   },
   "outputs": [],
   "source": [
    "@jax.jit\n",
    "def train_step(state, X, y, dropout_key):\n",
    "    dropout_train_key = jax.random.fold_in(key=dropout_key, data=state.step)\n",
    "\n",
    "    def loss_fn(params):\n",
    "        logits = state.apply_fn({'params': params}, X, training=True, rngs={'dropout': dropout_train_key})\n",
    "        loss = optax.softmax_cross_entropy_with_integer_labels(\n",
    "            logits=logits, labels=y\n",
    "        ).mean()\n",
    "        return loss\n",
    "\n",
    "    grads = jax.grad(loss_fn)(state.params)\n",
    "    state = state.apply_gradients(grads=grads)\n",
    "    return state"
   ]
  },
  {
   "cell_type": "code",
   "execution_count": 15,
   "metadata": {
    "id": "hLxs6xA2A1-T",
    "tags": []
   },
   "outputs": [],
   "source": [
    "@jax.jit\n",
    "def compute_metrics(*, state, X, y):\n",
    "    logits = state.apply_fn({'params': state.params}, X, training=False)\n",
    "    loss = optax.softmax_cross_entropy_with_integer_labels(\n",
    "        logits=logits, labels=y\n",
    "    ).mean()\n",
    "    metric_updates = state.metrics.single_from_model_output(\n",
    "        logits=logits, labels=y, loss=loss\n",
    "    )\n",
    "    metrics = state.metrics.merge(metric_updates)\n",
    "    state = state.replace(metrics=metrics)\n",
    "    return state"
   ]
  },
  {
   "cell_type": "code",
   "execution_count": 18,
   "metadata": {
    "colab": {
     "base_uri": "https://localhost:8080/",
     "height": 625
    },
    "id": "2ZMsQJLNBxMD",
    "outputId": "6473793c-5afb-4ab2-e6a5-1d2a87d7dc29",
    "tags": []
   },
   "outputs": [
    {
     "name": "stdout",
     "output_type": "stream",
     "text": [
      "Epoch:   5, [Train] loss: 0.732, accuracy: 0.708, [Test] loss: 0.740, accuracy: 0.698\n",
      "Epoch:  10, [Train] loss: 0.601, accuracy: 0.744, [Test] loss: 0.615, accuracy: 0.736\n",
      "Epoch:  15, [Train] loss: 0.630, accuracy: 0.737, [Test] loss: 0.652, accuracy: 0.733\n",
      "Epoch:  20, [Train] loss: 0.627, accuracy: 0.741, [Test] loss: 0.643, accuracy: 0.767\n",
      "Epoch:  25, [Train] loss: 0.710, accuracy: 0.727, [Test] loss: 0.698, accuracy: 0.743\n",
      "Epoch:  30, [Train] loss: 0.719, accuracy: 0.720, [Test] loss: 0.720, accuracy: 0.713\n",
      "Epoch:  35, [Train] loss: 0.709, accuracy: 0.720, [Test] loss: 0.918, accuracy: 0.704\n",
      "Epoch:  40, [Train] loss: 0.967, accuracy: 0.658, [Test] loss: 1.128, accuracy: 0.644\n",
      "Epoch:  45, [Train] loss: 1.483, accuracy: 0.366, [Test] loss: 1.533, accuracy: 0.337\n",
      "Epoch:  50, [Train] loss: 2.148, accuracy: 0.149, [Test] loss: 2.114, accuracy: 0.173\n"
     ]
    },
    {
     "ename": "KeyboardInterrupt",
     "evalue": "",
     "output_type": "error",
     "traceback": [
      "\u001b[0;31m---------------------------------------------------------------------------\u001b[0m",
      "\u001b[0;31mKeyboardInterrupt\u001b[0m                         Traceback (most recent call last)",
      "Cell \u001b[0;32mIn[18], line 16\u001b[0m\n\u001b[1;32m     14\u001b[0m \u001b[38;5;28;01mfor\u001b[39;00m X_batch, y_batch \u001b[38;5;129;01min\u001b[39;00m \u001b[38;5;28mzip\u001b[39m(X_train, y_train):\n\u001b[1;32m     15\u001b[0m     state \u001b[38;5;241m=\u001b[39m train_step(state, X_batch, y_batch, jax\u001b[38;5;241m.\u001b[39mrandom\u001b[38;5;241m.\u001b[39mkey(\u001b[38;5;241m2\u001b[39m))\n\u001b[0;32m---> 16\u001b[0m     state \u001b[38;5;241m=\u001b[39m \u001b[43mcompute_metrics\u001b[49m\u001b[43m(\u001b[49m\u001b[43mstate\u001b[49m\u001b[38;5;241;43m=\u001b[39;49m\u001b[43mstate\u001b[49m\u001b[43m,\u001b[49m\u001b[43m \u001b[49m\u001b[43mX\u001b[49m\u001b[38;5;241;43m=\u001b[39;49m\u001b[43mX_batch\u001b[49m\u001b[43m,\u001b[49m\u001b[43m \u001b[49m\u001b[43my\u001b[49m\u001b[38;5;241;43m=\u001b[39;49m\u001b[43my_batch\u001b[49m\u001b[43m)\u001b[49m\n\u001b[1;32m     18\u001b[0m \u001b[38;5;28;01mfor\u001b[39;00m metric, value \u001b[38;5;129;01min\u001b[39;00m state\u001b[38;5;241m.\u001b[39mmetrics\u001b[38;5;241m.\u001b[39mcompute()\u001b[38;5;241m.\u001b[39mitems():\n\u001b[1;32m     19\u001b[0m     metrics_history[\u001b[38;5;124mf\u001b[39m\u001b[38;5;124m'\u001b[39m\u001b[38;5;124mtrain_\u001b[39m\u001b[38;5;132;01m{\u001b[39;00mmetric\u001b[38;5;132;01m}\u001b[39;00m\u001b[38;5;124m'\u001b[39m]\u001b[38;5;241m.\u001b[39mappend(value)\n",
      "File \u001b[0;32m<string>:1\u001b[0m, in \u001b[0;36m<lambda>\u001b[0;34m(_cls, count, mu, nu)\u001b[0m\n",
      "\u001b[0;31mKeyboardInterrupt\u001b[0m: "
     ]
    }
   ],
   "source": [
    "num_epochs = 1000\n",
    "report_every = 5\n",
    "\n",
    "metrics_history = {'train_loss': [],\n",
    "                   'train_accuracy': [],\n",
    "                   'test_loss': [],\n",
    "                   'test_accuracy': []}\n",
    "\n",
    "# optimizer = optax.sgd(learning_rate=0.001, momentum=0.9, nesterov=True)\n",
    "optimizer = optax.adam(learning_rate=0.001)\n",
    "state = create_train_state(cnnd, optimizer, jax.random.key(0), jax.random.key(1))\n",
    "\n",
    "for epoch in range(num_epochs):\n",
    "    for X_batch, y_batch in zip(X_train, y_train):\n",
    "        state = train_step(state, X_batch, y_batch, jax.random.key(2))\n",
    "        state = compute_metrics(state=state, X=X_batch, y=y_batch)\n",
    "\n",
    "    for metric, value in state.metrics.compute().items():\n",
    "        metrics_history[f'train_{metric}'].append(value)\n",
    "\n",
    "    state = state.replace(metrics=state.metrics.empty())\n",
    "\n",
    "    test_state = state\n",
    "    for X_batch, y_batch in zip(X_test, y_test):\n",
    "        test_state = compute_metrics(state=test_state, X=X_batch, y=y_batch)\n",
    "\n",
    "    for metric, value in test_state.metrics.compute().items():\n",
    "        metrics_history[f'test_{metric}'].append(value)\n",
    "\n",
    "    if (epoch + 1) % report_every == 0:\n",
    "        print(f\"Epoch: {epoch+1: 3d}, \"\n",
    "            f\"[Train] loss: {metrics_history['train_loss'][-1]:.3f}, \"\n",
    "            f\"accuracy: {metrics_history['train_accuracy'][-1]:.3f}, \"\n",
    "            f\"[Test] loss: {metrics_history['test_loss'][-1]:.3f}, \"\n",
    "            f\"accuracy: {metrics_history['test_accuracy'][-1]:.3f}\")"
   ]
  },
  {
   "cell_type": "code",
   "execution_count": 17,
   "metadata": {
    "colab": {
     "base_uri": "https://localhost:8080/",
     "height": 486
    },
    "id": "4AEoYaXRCucm",
    "outputId": "39a1d88a-994c-47c5-a154-d519d81ad095",
    "tags": []
   },
   "outputs": [
    {
     "data": {
      "image/png": "[encoded data removed]",
      "text/plain": [
       "<Figure size 1500x500 with 2 Axes>"
      ]
     },
     "metadata": {},
     "output_type": "display_data"
    },
    {
     "data": {
      "text/plain": [
       "<Figure size 640x480 with 0 Axes>"
      ]
     },
     "metadata": {},
     "output_type": "display_data"
    }
   ],
   "source": [
    "import matplotlib.pyplot as plt\n",
    "\n",
    "fig, (ax1, ax2) = plt.subplots(1, 2, figsize=(15, 5))\n",
    "ax1.set_title('Loss')\n",
    "ax2.set_title('Accuracy')\n",
    "for dataset in ('train','test'):\n",
    "    ax1.plot(metrics_history[f'{dataset}_loss'], label=f'{dataset}_loss')\n",
    "    ax2.plot(metrics_history[f'{dataset}_accuracy'], label=f'{dataset}_accuracy')\n",
    "ax1.legend()\n",
    "ax2.legend()\n",
    "plt.show()\n",
    "plt.clf()"
   ]
  },
  {
   "cell_type": "code",
   "execution_count": 39,
   "metadata": {
    "id": "5QyfERYADuY4"
   },
   "outputs": [],
   "source": [
    "class ResBlock(nn.Module):\n",
    "    @nn.compact\n",
    "    def __call__(self, x):\n",
    "        x1 = x\n",
    "        x = nn.Dense(features=1024)(x)\n",
    "        x = nn.relu(x)\n",
    "        return x + x1\n",
    "\n",
    "class Resnet(nn.Module):\n",
    "    @nn.compact\n",
    "    def __call__(self, x):\n",
    "        x = x[..., None]\n",
    "\n",
    "        x = nn.Conv(features=32, kernel_size=(3, 3))(x)\n",
    "        x = nn.relu(x)\n",
    "        x = nn.avg_pool(x, window_shape=(2, 2), strides=(2, 2))\n",
    "\n",
    "        x = nn.Conv(features=64, kernel_size=(3, 3))(x)\n",
    "        x = nn.relu(x)\n",
    "        x = nn.avg_pool(x, window_shape=(2, 2), strides=(2, 2))\n",
    "\n",
    "        x = nn.Conv(features=128, kernel_size=(3, 3))(x)\n",
    "        x = nn.relu(x)\n",
    "        x = nn.avg_pool(x, window_shape=(2, 2), strides=(2, 2))\n",
    "\n",
    "        x = x.reshape((x.shape[0], -1))\n",
    "        x = nn.Dense(features=1024)(x)\n",
    "\n",
    "        x = ResBlock()(x)\n",
    "        x = ResBlock()(x)\n",
    "        x = ResBlock()(x)\n",
    "        x = ResBlock()(x)\n",
    "        x = ResBlock()(x)\n",
    "        x = ResBlock()(x)\n",
    "\n",
    "        x = nn.Dense(features=10)(x)\n",
    "        return x\n",
    "\n",
    "resnet = Resnet()"
   ]
  },
  {
   "cell_type": "code",
   "execution_count": 40,
   "metadata": {
    "tags": []
   },
   "outputs": [
    {
     "name": "stdout",
     "output_type": "stream",
     "text": [
      "\n",
      "\u001b[3m                                 Resnet Summary                                 \u001b[0m\n",
      "┏━━━━━━━━━━━━━━━━┳━━━━━━━━━━┳━━━━━━━━━━━━━━━━┳━━━━━━━━━━━━━━━━┳━━━━━━━━━━━━━━━━┓\n",
      "┃\u001b[1m \u001b[0m\u001b[1mpath          \u001b[0m\u001b[1m \u001b[0m┃\u001b[1m \u001b[0m\u001b[1mmodule  \u001b[0m\u001b[1m \u001b[0m┃\u001b[1m \u001b[0m\u001b[1minputs        \u001b[0m\u001b[1m \u001b[0m┃\u001b[1m \u001b[0m\u001b[1moutputs       \u001b[0m\u001b[1m \u001b[0m┃\u001b[1m \u001b[0m\u001b[1mparams        \u001b[0m\u001b[1m \u001b[0m┃\n",
      "┡━━━━━━━━━━━━━━━━╇━━━━━━━━━━╇━━━━━━━━━━━━━━━━╇━━━━━━━━━━━━━━━━╇━━━━━━━━━━━━━━━━┩\n",
      "│                │ Resnet   │ \u001b[2mfloat32\u001b[0m[1,28,… │ \u001b[2mfloat32\u001b[0m[1,10]  │                │\n",
      "├────────────────┼──────────┼────────────────┼────────────────┼────────────────┤\n",
      "│ Conv_0         │ Conv     │ \u001b[2mfloat32\u001b[0m[1,28,… │ \u001b[2mfloat32\u001b[0m[1,28,… │ bias:          │\n",
      "│                │          │                │                │ \u001b[2mfloat32\u001b[0m[32]    │\n",
      "│                │          │                │                │ kernel:        │\n",
      "│                │          │                │                │ \u001b[2mfloat32\u001b[0m[3,3,1… │\n",
      "│                │          │                │                │                │\n",
      "│                │          │                │                │ \u001b[1m320 \u001b[0m\u001b[1;2m(1.3 KB)\u001b[0m   │\n",
      "├────────────────┼──────────┼────────────────┼────────────────┼────────────────┤\n",
      "│ Conv_1         │ Conv     │ \u001b[2mfloat32\u001b[0m[1,14,… │ \u001b[2mfloat32\u001b[0m[1,14,… │ bias:          │\n",
      "│                │          │                │                │ \u001b[2mfloat32\u001b[0m[64]    │\n",
      "│                │          │                │                │ kernel:        │\n",
      "│                │          │                │                │ \u001b[2mfloat32\u001b[0m[3,3,3… │\n",
      "│                │          │                │                │                │\n",
      "│                │          │                │                │ \u001b[1m18,496 \u001b[0m\u001b[1;2m(74.0 \u001b[0m  │\n",
      "│                │          │                │                │ \u001b[1;2mKB)\u001b[0m            │\n",
      "├────────────────┼──────────┼────────────────┼────────────────┼────────────────┤\n",
      "│ Conv_2         │ Conv     │ \u001b[2mfloat32\u001b[0m[1,7,7… │ \u001b[2mfloat32\u001b[0m[1,7,7… │ bias:          │\n",
      "│                │          │                │                │ \u001b[2mfloat32\u001b[0m[128]   │\n",
      "│                │          │                │                │ kernel:        │\n",
      "│                │          │                │                │ \u001b[2mfloat32\u001b[0m[3,3,6… │\n",
      "│                │          │                │                │                │\n",
      "│                │          │                │                │ \u001b[1m73,856 \u001b[0m\u001b[1;2m(295.4 \u001b[0m │\n",
      "│                │          │                │                │ \u001b[1;2mKB)\u001b[0m            │\n",
      "├────────────────┼──────────┼────────────────┼────────────────┼────────────────┤\n",
      "│ Dense_0        │ Dense    │ \u001b[2mfloat32\u001b[0m[1,115… │ \u001b[2mfloat32\u001b[0m[1,102… │ bias:          │\n",
      "│                │          │                │                │ \u001b[2mfloat32\u001b[0m[1024]  │\n",
      "│                │          │                │                │ kernel:        │\n",
      "│                │          │                │                │ \u001b[2mfloat32\u001b[0m[1152,… │\n",
      "│                │          │                │                │                │\n",
      "│                │          │                │                │ \u001b[1m1,180,672 \u001b[0m\u001b[1;2m(4.7\u001b[0m │\n",
      "│                │          │                │                │ \u001b[1;2mMB)\u001b[0m            │\n",
      "├────────────────┼──────────┼────────────────┼────────────────┼────────────────┤\n",
      "│ ResBlock_0     │ ResBlock │ \u001b[2mfloat32\u001b[0m[1,102… │ \u001b[2mfloat32\u001b[0m[1,102… │                │\n",
      "├────────────────┼──────────┼────────────────┼────────────────┼────────────────┤\n",
      "│ ResBlock_0/De… │ Dense    │ \u001b[2mfloat32\u001b[0m[1,102… │ \u001b[2mfloat32\u001b[0m[1,102… │ bias:          │\n",
      "│                │          │                │                │ \u001b[2mfloat32\u001b[0m[1024]  │\n",
      "│                │          │                │                │ kernel:        │\n",
      "│                │          │                │                │ \u001b[2mfloat32\u001b[0m[1024,… │\n",
      "│                │          │                │                │                │\n",
      "│                │          │                │                │ \u001b[1m1,049,600 \u001b[0m\u001b[1;2m(4.2\u001b[0m │\n",
      "│                │          │                │                │ \u001b[1;2mMB)\u001b[0m            │\n",
      "├────────────────┼──────────┼────────────────┼────────────────┼────────────────┤\n",
      "│ ResBlock_1     │ ResBlock │ \u001b[2mfloat32\u001b[0m[1,102… │ \u001b[2mfloat32\u001b[0m[1,102… │                │\n",
      "├────────────────┼──────────┼────────────────┼────────────────┼────────────────┤\n",
      "│ ResBlock_1/De… │ Dense    │ \u001b[2mfloat32\u001b[0m[1,102… │ \u001b[2mfloat32\u001b[0m[1,102… │ bias:          │\n",
      "│                │          │                │                │ \u001b[2mfloat32\u001b[0m[1024]  │\n",
      "│                │          │                │                │ kernel:        │\n",
      "│                │          │                │                │ \u001b[2mfloat32\u001b[0m[1024,… │\n",
      "│                │          │                │                │                │\n",
      "│                │          │                │                │ \u001b[1m1,049,600 \u001b[0m\u001b[1;2m(4.2\u001b[0m │\n",
      "│                │          │                │                │ \u001b[1;2mMB)\u001b[0m            │\n",
      "├────────────────┼──────────┼────────────────┼────────────────┼────────────────┤\n",
      "│ ResBlock_2     │ ResBlock │ \u001b[2mfloat32\u001b[0m[1,102… │ \u001b[2mfloat32\u001b[0m[1,102… │                │\n",
      "├────────────────┼──────────┼────────────────┼────────────────┼────────────────┤\n",
      "│ ResBlock_2/De… │ Dense    │ \u001b[2mfloat32\u001b[0m[1,102… │ \u001b[2mfloat32\u001b[0m[1,102… │ bias:          │\n",
      "│                │          │                │                │ \u001b[2mfloat32\u001b[0m[1024]  │\n",
      "│                │          │                │                │ kernel:        │\n",
      "│                │          │                │                │ \u001b[2mfloat32\u001b[0m[1024,… │\n",
      "│                │          │                │                │                │\n",
      "│                │          │                │                │ \u001b[1m1,049,600 \u001b[0m\u001b[1;2m(4.2\u001b[0m │\n",
      "│                │          │                │                │ \u001b[1;2mMB)\u001b[0m            │\n",
      "├────────────────┼──────────┼────────────────┼────────────────┼────────────────┤\n",
      "│ ResBlock_3     │ ResBlock │ \u001b[2mfloat32\u001b[0m[1,102… │ \u001b[2mfloat32\u001b[0m[1,102… │                │\n",
      "├────────────────┼──────────┼────────────────┼────────────────┼────────────────┤\n",
      "│ ResBlock_3/De… │ Dense    │ \u001b[2mfloat32\u001b[0m[1,102… │ \u001b[2mfloat32\u001b[0m[1,102… │ bias:          │\n",
      "│                │          │                │                │ \u001b[2mfloat32\u001b[0m[1024]  │\n",
      "│                │          │                │                │ kernel:        │\n",
      "│                │          │                │                │ \u001b[2mfloat32\u001b[0m[1024,… │\n",
      "│                │          │                │                │                │\n",
      "│                │          │                │                │ \u001b[1m1,049,600 \u001b[0m\u001b[1;2m(4.2\u001b[0m │\n",
      "│                │          │                │                │ \u001b[1;2mMB)\u001b[0m            │\n",
      "├────────────────┼──────────┼────────────────┼────────────────┼────────────────┤\n",
      "│ ResBlock_4     │ ResBlock │ \u001b[2mfloat32\u001b[0m[1,102… │ \u001b[2mfloat32\u001b[0m[1,102… │                │\n",
      "├────────────────┼──────────┼────────────────┼────────────────┼────────────────┤\n",
      "│ ResBlock_4/De… │ Dense    │ \u001b[2mfloat32\u001b[0m[1,102… │ \u001b[2mfloat32\u001b[0m[1,102… │ bias:          │\n",
      "│                │          │                │                │ \u001b[2mfloat32\u001b[0m[1024]  │\n",
      "│                │          │                │                │ kernel:        │\n",
      "│                │          │                │                │ \u001b[2mfloat32\u001b[0m[1024,… │\n",
      "│                │          │                │                │                │\n",
      "│                │          │                │                │ \u001b[1m1,049,600 \u001b[0m\u001b[1;2m(4.2\u001b[0m │\n",
      "│                │          │                │                │ \u001b[1;2mMB)\u001b[0m            │\n",
      "├────────────────┼──────────┼────────────────┼────────────────┼────────────────┤\n",
      "│ ResBlock_5     │ ResBlock │ \u001b[2mfloat32\u001b[0m[1,102… │ \u001b[2mfloat32\u001b[0m[1,102… │                │\n",
      "├────────────────┼──────────┼────────────────┼────────────────┼────────────────┤\n",
      "│ ResBlock_5/De… │ Dense    │ \u001b[2mfloat32\u001b[0m[1,102… │ \u001b[2mfloat32\u001b[0m[1,102… │ bias:          │\n",
      "│                │          │                │                │ \u001b[2mfloat32\u001b[0m[1024]  │\n",
      "│                │          │                │                │ kernel:        │\n",
      "│                │          │                │                │ \u001b[2mfloat32\u001b[0m[1024,… │\n",
      "│                │          │                │                │                │\n",
      "│                │          │                │                │ \u001b[1m1,049,600 \u001b[0m\u001b[1;2m(4.2\u001b[0m │\n",
      "│                │          │                │                │ \u001b[1;2mMB)\u001b[0m            │\n",
      "├────────────────┼──────────┼────────────────┼────────────────┼────────────────┤\n",
      "│ Dense_1        │ Dense    │ \u001b[2mfloat32\u001b[0m[1,102… │ \u001b[2mfloat32\u001b[0m[1,10]  │ bias:          │\n",
      "│                │          │                │                │ \u001b[2mfloat32\u001b[0m[10]    │\n",
      "│                │          │                │                │ kernel:        │\n",
      "│                │          │                │                │ \u001b[2mfloat32\u001b[0m[1024,… │\n",
      "│                │          │                │                │                │\n",
      "│                │          │                │                │ \u001b[1m10,250 \u001b[0m\u001b[1;2m(41.0 \u001b[0m  │\n",
      "│                │          │                │                │ \u001b[1;2mKB)\u001b[0m            │\n",
      "├────────────────┼──────────┼────────────────┼────────────────┼────────────────┤\n",
      "│\u001b[1m \u001b[0m\u001b[1m              \u001b[0m\u001b[1m \u001b[0m│\u001b[1m \u001b[0m\u001b[1m        \u001b[0m\u001b[1m \u001b[0m│\u001b[1m \u001b[0m\u001b[1m              \u001b[0m\u001b[1m \u001b[0m│\u001b[1m \u001b[0m\u001b[1m         Total\u001b[0m\u001b[1m \u001b[0m│\u001b[1m \u001b[0m\u001b[1m7,581,194     \u001b[0m\u001b[1m \u001b[0m│\n",
      "│\u001b[1m                \u001b[0m│\u001b[1m          \u001b[0m│\u001b[1m                \u001b[0m│\u001b[1m                \u001b[0m│\u001b[1m \u001b[0m\u001b[1;2m(30.3 MB)\u001b[0m\u001b[1m     \u001b[0m\u001b[1m \u001b[0m│\n",
      "└────────────────┴──────────┴────────────────┴────────────────┴────────────────┘\n",
      "\u001b[1m                                                                                \u001b[0m\n",
      "\u001b[1m                     Total Parameters: 7,581,194 \u001b[0m\u001b[1;2m(30.3 MB)\u001b[0m\u001b[1m                      \u001b[0m\n",
      "\n",
      "\n"
     ]
    }
   ],
   "source": [
    "print(resnet.tabulate(jax.random.key(0), jnp.ones((1, 28, 28))))"
   ]
  },
  {
   "cell_type": "code",
   "execution_count": 41,
   "metadata": {
    "id": "GSYLtHAOrcaq",
    "tags": []
   },
   "outputs": [],
   "source": [
    "@struct.dataclass\n",
    "class Metrics(metrics.Collection):\n",
    "    accuracy: metrics.Accuracy\n",
    "    loss: metrics.Average.from_output('loss')"
   ]
  },
  {
   "cell_type": "code",
   "execution_count": 42,
   "metadata": {
    "id": "IPe18hZSr14r",
    "tags": []
   },
   "outputs": [],
   "source": [
    "class TrainState(train_state.TrainState):\n",
    "    metrics: Metrics\n",
    "\n",
    "def create_train_state(module, optimizer, rng):\n",
    "    params = module.init(rng, jnp.ones([1, 28, 28]))['params']\n",
    "    train_state = TrainState.create(\n",
    "        apply_fn=module.apply, params=params, tx=optimizer, metrics=Metrics.empty()\n",
    "    )\n",
    "    return train_state"
   ]
  },
  {
   "cell_type": "code",
   "execution_count": 43,
   "metadata": {
    "id": "-1KORsqzr6hM",
    "tags": []
   },
   "outputs": [],
   "source": [
    "@jax.jit\n",
    "def train_step(state, X, y):\n",
    "    def loss_fn(params):\n",
    "        logits = state.apply_fn({'params': params}, X)\n",
    "        loss = optax.softmax_cross_entropy_with_integer_labels(\n",
    "            logits=logits, labels=y\n",
    "        ).mean()\n",
    "        return loss\n",
    "\n",
    "    grads = jax.grad(loss_fn)(state.params)\n",
    "    state = state.apply_gradients(grads=grads)\n",
    "    return state"
   ]
  },
  {
   "cell_type": "code",
   "execution_count": 44,
   "metadata": {
    "id": "8hY5KPOas4H3",
    "tags": []
   },
   "outputs": [],
   "source": [
    "@jax.jit\n",
    "def compute_metrics(*, state, X, y):\n",
    "    logits = state.apply_fn({'params': state.params}, X)\n",
    "    loss = optax.softmax_cross_entropy_with_integer_labels(\n",
    "        logits=logits, labels=y\n",
    "    ).mean()\n",
    "    metric_updates = state.metrics.single_from_model_output(\n",
    "        logits=logits, labels=y, loss=loss\n",
    "    )\n",
    "    metrics = state.metrics.merge(metric_updates)\n",
    "    state = state.replace(metrics=metrics)\n",
    "    return state"
   ]
  },
  {
   "cell_type": "code",
   "execution_count": 48,
   "metadata": {
    "tags": []
   },
   "outputs": [
    {
     "name": "stdout",
     "output_type": "stream",
     "text": [
      "Epoch:   1, [Train] loss: 5.248, accuracy: 0.278, [Test] loss: 1.864, accuracy: 0.391\n",
      "Epoch:   2, [Train] loss: 1.765, accuracy: 0.429, [Test] loss: 1.716, accuracy: 0.458\n",
      "Epoch:   3, [Train] loss: 1.637, accuracy: 0.481, [Test] loss: 1.597, accuracy: 0.499\n",
      "Epoch:   4, [Train] loss: 1.523, accuracy: 0.516, [Test] loss: 1.481, accuracy: 0.530\n",
      "Epoch:   5, [Train] loss: 1.412, accuracy: 0.550, [Test] loss: 1.369, accuracy: 0.565\n",
      "Epoch:   6, [Train] loss: 1.303, accuracy: 0.615, [Test] loss: 1.256, accuracy: 0.645\n",
      "Epoch:   7, [Train] loss: 1.181, accuracy: 0.670, [Test] loss: 1.114, accuracy: 0.686\n",
      "Epoch:   8, [Train] loss: 1.019, accuracy: 0.707, [Test] loss: 0.938, accuracy: 0.725\n",
      "Epoch:   9, [Train] loss: 0.836, accuracy: 0.749, [Test] loss: 0.778, accuracy: 0.757\n",
      "Epoch:  10, [Train] loss: 0.692, accuracy: 0.781, [Test] loss: 0.664, accuracy: 0.786\n",
      "Epoch:  11, [Train] loss: 0.589, accuracy: 0.804, [Test] loss: 0.584, accuracy: 0.803\n",
      "Epoch:  12, [Train] loss: 0.522, accuracy: 0.820, [Test] loss: 0.537, accuracy: 0.817\n",
      "Epoch:  13, [Train] loss: 0.480, accuracy: 0.832, [Test] loss: 0.506, accuracy: 0.825\n",
      "Epoch:  14, [Train] loss: 0.451, accuracy: 0.841, [Test] loss: 0.483, accuracy: 0.832\n",
      "Epoch:  15, [Train] loss: 0.427, accuracy: 0.849, [Test] loss: 0.463, accuracy: 0.837\n",
      "Epoch:  16, [Train] loss: 0.406, accuracy: 0.857, [Test] loss: 0.445, accuracy: 0.841\n",
      "Epoch:  17, [Train] loss: 0.388, accuracy: 0.862, [Test] loss: 0.431, accuracy: 0.847\n",
      "Epoch:  18, [Train] loss: 0.373, accuracy: 0.868, [Test] loss: 0.419, accuracy: 0.851\n",
      "Epoch:  19, [Train] loss: 0.360, accuracy: 0.872, [Test] loss: 0.410, accuracy: 0.853\n",
      "Epoch:  20, [Train] loss: 0.349, accuracy: 0.877, [Test] loss: 0.402, accuracy: 0.855\n",
      "Epoch:  21, [Train] loss: 0.338, accuracy: 0.880, [Test] loss: 0.395, accuracy: 0.857\n",
      "Epoch:  22, [Train] loss: 0.329, accuracy: 0.883, [Test] loss: 0.389, accuracy: 0.858\n",
      "Epoch:  23, [Train] loss: 0.321, accuracy: 0.886, [Test] loss: 0.384, accuracy: 0.860\n",
      "Epoch:  24, [Train] loss: 0.314, accuracy: 0.888, [Test] loss: 0.380, accuracy: 0.862\n",
      "Epoch:  25, [Train] loss: 0.307, accuracy: 0.891, [Test] loss: 0.375, accuracy: 0.864\n",
      "Epoch:  26, [Train] loss: 0.300, accuracy: 0.892, [Test] loss: 0.371, accuracy: 0.866\n",
      "Epoch:  27, [Train] loss: 0.294, accuracy: 0.894, [Test] loss: 0.368, accuracy: 0.867\n",
      "Epoch:  28, [Train] loss: 0.289, accuracy: 0.896, [Test] loss: 0.365, accuracy: 0.868\n",
      "Epoch:  29, [Train] loss: 0.283, accuracy: 0.898, [Test] loss: 0.362, accuracy: 0.868\n",
      "Epoch:  30, [Train] loss: 0.278, accuracy: 0.900, [Test] loss: 0.359, accuracy: 0.869\n",
      "Epoch:  31, [Train] loss: 0.273, accuracy: 0.902, [Test] loss: 0.357, accuracy: 0.870\n",
      "Epoch:  32, [Train] loss: 0.269, accuracy: 0.904, [Test] loss: 0.354, accuracy: 0.872\n",
      "Epoch:  33, [Train] loss: 0.264, accuracy: 0.905, [Test] loss: 0.352, accuracy: 0.872\n",
      "Epoch:  34, [Train] loss: 0.260, accuracy: 0.906, [Test] loss: 0.350, accuracy: 0.872\n",
      "Epoch:  35, [Train] loss: 0.256, accuracy: 0.908, [Test] loss: 0.348, accuracy: 0.874\n",
      "Epoch:  36, [Train] loss: 0.252, accuracy: 0.909, [Test] loss: 0.346, accuracy: 0.874\n",
      "Epoch:  37, [Train] loss: 0.248, accuracy: 0.910, [Test] loss: 0.345, accuracy: 0.874\n"
     ]
    },
    {
     "ename": "KeyboardInterrupt",
     "evalue": "",
     "output_type": "error",
     "traceback": [
      "\u001b[0;31m---------------------------------------------------------------------------\u001b[0m",
      "\u001b[0;31mKeyboardInterrupt\u001b[0m                         Traceback (most recent call last)",
      "Cell \u001b[0;32mIn[48], line 16\u001b[0m\n\u001b[1;32m     14\u001b[0m \u001b[38;5;28;01mfor\u001b[39;00m X_batch, y_batch \u001b[38;5;129;01min\u001b[39;00m \u001b[38;5;28mzip\u001b[39m(X_train, y_train):\n\u001b[1;32m     15\u001b[0m     state \u001b[38;5;241m=\u001b[39m train_step(state, X_batch, y_batch)\n\u001b[0;32m---> 16\u001b[0m     state \u001b[38;5;241m=\u001b[39m \u001b[43mcompute_metrics\u001b[49m\u001b[43m(\u001b[49m\u001b[43mstate\u001b[49m\u001b[38;5;241;43m=\u001b[39;49m\u001b[43mstate\u001b[49m\u001b[43m,\u001b[49m\u001b[43m \u001b[49m\u001b[43mX\u001b[49m\u001b[38;5;241;43m=\u001b[39;49m\u001b[43mX_batch\u001b[49m\u001b[43m,\u001b[49m\u001b[43m \u001b[49m\u001b[43my\u001b[49m\u001b[38;5;241;43m=\u001b[39;49m\u001b[43my_batch\u001b[49m\u001b[43m)\u001b[49m\n\u001b[1;32m     18\u001b[0m \u001b[38;5;28;01mfor\u001b[39;00m metric, value \u001b[38;5;129;01min\u001b[39;00m state\u001b[38;5;241m.\u001b[39mmetrics\u001b[38;5;241m.\u001b[39mcompute()\u001b[38;5;241m.\u001b[39mitems():\n\u001b[1;32m     19\u001b[0m     metrics_history[\u001b[38;5;124mf\u001b[39m\u001b[38;5;124m'\u001b[39m\u001b[38;5;124mtrain_\u001b[39m\u001b[38;5;132;01m{\u001b[39;00mmetric\u001b[38;5;132;01m}\u001b[39;00m\u001b[38;5;124m'\u001b[39m]\u001b[38;5;241m.\u001b[39mappend(value)\n",
      "File \u001b[0;32m<string>:1\u001b[0m, in \u001b[0;36m<lambda>\u001b[0;34m(_cls, trace)\u001b[0m\n",
      "\u001b[0;31mKeyboardInterrupt\u001b[0m: "
     ]
    }
   ],
   "source": [
    "num_epochs = 1000\n",
    "report_every = 1\n",
    "\n",
    "metrics_history = {'train_loss': [],\n",
    "                   'train_accuracy': [],\n",
    "                   'test_loss': [],\n",
    "                   'test_accuracy': []}\n",
    "\n",
    "optimizer = optax.sgd(learning_rate=0.0001, momentum=0.9, nesterov=True)\n",
    "# optimizer = optax.adam(learning_rate=0.001)#, momentum=0.9, nesterov=True)\n",
    "state = create_train_state(resnet, optimizer, jax.random.key(0))\n",
    "\n",
    "for epoch in range(num_epochs):\n",
    "    for X_batch, y_batch in zip(X_train, y_train):\n",
    "        state = train_step(state, X_batch, y_batch)\n",
    "        state = compute_metrics(state=state, X=X_batch, y=y_batch)\n",
    "\n",
    "    for metric, value in state.metrics.compute().items():\n",
    "        metrics_history[f'train_{metric}'].append(value)\n",
    "\n",
    "    state = state.replace(metrics=state.metrics.empty())\n",
    "\n",
    "    test_state = state\n",
    "    for X_batch, y_batch in zip(X_test, y_test):\n",
    "        test_state = compute_metrics(state=test_state, X=X_batch, y=y_batch)\n",
    "\n",
    "    for metric, value in test_state.metrics.compute().items():\n",
    "        metrics_history[f'test_{metric}'].append(value)\n",
    "\n",
    "    if (epoch + 1) % report_every == 0:\n",
    "        print(f\"Epoch: {epoch+1: 3d}, \"\n",
    "            f\"[Train] loss: {metrics_history['train_loss'][-1]:.3f}, \"\n",
    "            f\"accuracy: {metrics_history['train_accuracy'][-1]:.3f}, \"\n",
    "            f\"[Test] loss: {metrics_history['test_loss'][-1]:.3f}, \"\n",
    "            f\"accuracy: {metrics_history['test_accuracy'][-1]:.3f}\")"
   ]
  },
  {
   "cell_type": "code",
   "execution_count": null,
   "metadata": {},
   "outputs": [],
   "source": []
  }
 ],
 "metadata": {
  "accelerator": "GPU",
  "colab": {
   "gpuType": "T4",
   "provenance": []
  },
  "kernelspec": {
   "display_name": "jax:Python",
   "language": "python",
   "name": "conda-env-jax-py"
  },
  "language_info": {
   "codemirror_mode": {
    "name": "ipython",
    "version": 3
   },
   "file_extension": ".py",
   "mimetype": "text/x-python",
   "name": "python",
   "nbconvert_exporter": "python",
   "pygments_lexer": "ipython3",
   "version": "3.12.3"
  }
 },
 "nbformat": 4,
 "nbformat_minor": 4
}
